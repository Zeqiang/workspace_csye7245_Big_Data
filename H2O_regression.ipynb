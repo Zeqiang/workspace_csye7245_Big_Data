{
 "cells": [
  {
   "cell_type": "markdown",
   "metadata": {},
   "source": [
    "# Big Data with H2O - Regression"
   ]
  },
  {
   "cell_type": "markdown",
   "metadata": {},
   "source": [
    "### 1. Packages and Setup \n",
    "#### Import packages and dataset"
   ]
  },
  {
   "cell_type": "code",
   "execution_count": 1,
   "metadata": {
    "collapsed": true
   },
   "outputs": [],
   "source": [
    "import h2o\n",
    "from h2o.automl import H2OAutoML\n",
    "import random, os, sys\n",
    "from datetime import datetime\n",
    "import pandas as pd\n",
    "import numpy as np\n",
    "import matplotlib.pyplot as plt\n",
    "import logging\n",
    "import csv\n",
    "import optparse\n",
    "import time\n",
    "import json\n",
    "from distutils.util import strtobool\n",
    "%matplotlib inline"
   ]
  },
  {
   "cell_type": "markdown",
   "metadata": {},
   "source": [
    "#### Set up some paramaters"
   ]
  },
  {
   "cell_type": "code",
   "execution_count": 2,
   "metadata": {
    "collapsed": true
   },
   "outputs": [],
   "source": [
    "data_Path = None\n",
    "model_Path = None\n",
    "report_Path = None\n",
    "\n",
    "min_mem_size = 6\n",
    "run_time = 333\n",
    "nthreads = 1 \n",
    "\n",
    "name = 'Regression'\n",
    "target = None\n",
    "classification = False\n",
    "max_models = 9"
   ]
  },
  {
   "cell_type": "markdown",
   "metadata": {
    "collapsed": true
   },
   "source": [
    "### 2. Helper functions"
   ]
  },
  {
   "cell_type": "code",
   "execution_count": 3,
   "metadata": {
    "collapsed": true
   },
   "outputs": [],
   "source": [
    "# generate run_id\n",
    "def alphabet(n):\n",
    "    alpha='0123456789abcdefghijklmnopqrstuvwxyzABCDEFGHIJKLMNOPQRSTUVWXYZ'    \n",
    "    str=''\n",
    "    r=len(alpha)-1   \n",
    "    while len(str)<n:\n",
    "        i=random.randint(0,r)\n",
    "        str+=alpha[i]   \n",
    "    return str"
   ]
  },
  {
   "cell_type": "code",
   "execution_count": 4,
   "metadata": {
    "collapsed": true
   },
   "outputs": [],
   "source": [
    "# save dictionary to json file\n",
    "def dict_to_json(dct,n):\n",
    "    j = json.dumps(dct, indent=4)\n",
    "    f = open(n, 'w')\n",
    "    print(j, file=f)\n",
    "    f.close()"
   ]
  },
  {
   "cell_type": "code",
   "execution_count": 5,
   "metadata": {
    "collapsed": true
   },
   "outputs": [],
   "source": [
    "# function to set the meta_data\n",
    "def set_meta_data(run_id,target,model,run_time,classification,name,nthreads,min_mem_size):\n",
    "    m_data={}\n",
    "    m_data['run_id'] =run_id\n",
    "    m_data['start_time'] = time.time()\n",
    "    m_data['target']=target\n",
    "    m_data['max_models']=model\n",
    "    m_data['run_time']=run_time\n",
    "    m_data['classification']=classification\n",
    "    m_data['project'] =name\n",
    "    m_data['end_time'] = time.time()\n",
    "    m_data['execution_time'] = 0.0\n",
    "    m_data['nthreads'] = nthreads\n",
    "    m_data['min_mem_size'] = min_mem_size\n",
    "    return m_data"
   ]
  },
  {
   "cell_type": "code",
   "execution_count": 6,
   "metadata": {
    "collapsed": true
   },
   "outputs": [],
   "source": [
    "# get all variables and its tpye\n",
    "def get_variables_types(df):\n",
    "    '''\n",
    "    param: \n",
    "    df: Dateset dataframe\n",
    "    \n",
    "    return:\n",
    "    Dictionary of all variables and its type\n",
    "    '''\n",
    "    d={}\n",
    "    for key, val in df.types.items():\n",
    "        d[key]=val           \n",
    "    return d "
   ]
  },
  {
   "cell_type": "code",
   "execution_count": 7,
   "metadata": {
    "collapsed": true
   },
   "outputs": [],
   "source": [
    "# get the best model for different type\n",
    "def stackedensemble_df(df):\n",
    "    '''\n",
    "    param: \n",
    "    df: AutoML leaderboard dataframe\n",
    "    \n",
    "    return:\n",
    "    List of best models' id\n",
    "    '''\n",
    "    bm_algo={ 'GBM': None,'GLM': None,'DRF': None,'XRT': None,'Dee': None}\n",
    "    for index, row in df.iterrows():\n",
    "        if len(row['model_id'])>3:\n",
    "            key=row['model_id'][0:3]\n",
    "        if key in bm_algo:\n",
    "            if bm_algo[key] is None:\n",
    "                bm_algo[key]=row['model_id']\n",
    "    bm=list(bm_algo.values()) \n",
    "    bm=list(filter(None.__ne__, bm))             \n",
    "    return bm"
   ]
  },
  {
   "cell_type": "code",
   "execution_count": 8,
   "metadata": {
    "collapsed": true
   },
   "outputs": [],
   "source": [
    "# get the best stacked_ensemble model\n",
    "def get_stacked_ensemble(model_set):\n",
    "    '''\n",
    "    param: \n",
    "    model_set: List of all models' name\n",
    "    \n",
    "    return:\n",
    "    Stacked ensemble model id\n",
    "    '''\n",
    "    se=None\n",
    "    for model in model_set:\n",
    "        if 'BestOfFamily' in model:\n",
    "            se=model\n",
    "    if se is None:     \n",
    "        for model in model_set:\n",
    "            if 'AllModels'in model:\n",
    "                se=model           \n",
    "    return se  "
   ]
  },
  {
   "cell_type": "code",
   "execution_count": 9,
   "metadata": {
    "collapsed": true
   },
   "outputs": [],
   "source": [
    "# get model and id by algo in certain model list\n",
    "def get_model_by_algo(algo,models_list):\n",
    "    mod=None\n",
    "    mod_id=None    \n",
    "    for m in models_list:\n",
    "        if m[0:3]==algo:\n",
    "            mod_id=m\n",
    "            mod=h2o.get_model(m)      \n",
    "    return mod,mod_id"
   ]
  },
  {
   "cell_type": "code",
   "execution_count": 10,
   "metadata": {
    "collapsed": true
   },
   "outputs": [],
   "source": [
    "# for 5 types model, get the statistic data\n",
    "def gbm_stats(modl):\n",
    "    d={}\n",
    "    d['algo']=modl.algo\n",
    "    d['model_id']=modl.model_id   \n",
    "    d['varimp']=modl.varimp()  \n",
    "    return d\n",
    "    \n",
    "    \n",
    "def dl_stats(modl):\n",
    "    d={}\n",
    "    d['algo']=modl.algo\n",
    "    d['model_id']=modl.model_id   \n",
    "    d['varimp']=modl.varimp()  \n",
    "    return d\n",
    "    \n",
    "    \n",
    "def drf_stats(modl):\n",
    "    d={}\n",
    "    d['algo']=modl.algo\n",
    "    d['model_id']=modl.model_id   \n",
    "    d['varimp']=modl.varimp()  \n",
    "    d['roc']=modl.roc()      \n",
    "    return d\n",
    "    \n",
    "def xrt_stats(modl):\n",
    "    d={}\n",
    "    d['algo']=modl.algo\n",
    "    d['model_id']=modl.model_id   \n",
    "    d['varimp']=modl.varimp()  \n",
    "    d['roc']=modl.roc()      \n",
    "    return d\n",
    "\n",
    "def glm_stats(modl):\n",
    "    d={}\n",
    "    d['algo']=modl.algo\n",
    "    d['model_id']=modl.model_id   \n",
    "    d['coef']=modl.coef()  \n",
    "    d['coef_norm']=modl.coef_norm()      \n",
    "    return d"
   ]
  },
  {
   "cell_type": "code",
   "execution_count": 11,
   "metadata": {
    "collapsed": true
   },
   "outputs": [],
   "source": [
    "def predictions_test(mod,test,run_id,ifSave):\n",
    "    '''\n",
    "    param: \n",
    "    mod: model to be used\n",
    "    test: test dataset\n",
    "    run_id: running instance id\n",
    "    \n",
    "    return:\n",
    "    the prediction\n",
    "    '''\n",
    "    mod_perf = mod.model_performance(test)\n",
    "    if ifSave:\n",
    "        stats_test = {}\n",
    "        stats_test = model_performance_stats(mod_perf)\n",
    "        # write performance_stats to report\n",
    "        npath = os.path.join(report_Path, run_id + '_test_stats.json')\n",
    "        dict_to_json(stats_test,npath)\n",
    "    \n",
    "        try:\n",
    "            cf=mod_perf.confusion_matrix(metrics=[\"f1\",\"accuracy\",\"precision\",\"recall\",\"specificity\",\"absolute_mcc\",\"min_per_class_accuracy\",\"mean_per_class_accuracy\"])\n",
    "            cf_df=cf[0].table.as_data_frame()\n",
    "            cf_df.to_csv(os.path.join(report_Path, run_id + '_test_confusion_matrix.csv'))\n",
    "        except:\n",
    "            pass\n",
    "    \n",
    "    predictions = mod.predict(test)    \n",
    "    if ifSave:\n",
    "        # write prediction value to report\n",
    "        predictions_df=test.cbind(predictions).as_data_frame()\n",
    "        predictions_df.to_csv(os.path.join(report_Path, run_id + '_predictions.csv'))\n",
    "    \n",
    "    return predictions, mod_perf"
   ]
  },
  {
   "cell_type": "code",
   "execution_count": 12,
   "metadata": {
    "collapsed": true
   },
   "outputs": [],
   "source": [
    "def model_performance_stats(perf):\n",
    "    d={}\n",
    "    try:    \n",
    "        d['mse']=perf.mse()\n",
    "    except:\n",
    "        pass      \n",
    "    try:    \n",
    "        d['rmse']=perf.rmse() \n",
    "    except:\n",
    "        pass      \n",
    "    try:    \n",
    "        d['null_degrees_of_freedom']=perf.null_degrees_of_freedom()\n",
    "    except:\n",
    "        pass      \n",
    "    try:    \n",
    "        d['residual_degrees_of_freedom']=perf.residual_degrees_of_freedom()\n",
    "    except:\n",
    "        pass      \n",
    "    try:    \n",
    "        d['residual_deviance']=perf.residual_deviance() \n",
    "    except:\n",
    "        pass      \n",
    "    try:    \n",
    "        d['null_deviance']=perf.null_deviance() \n",
    "    except:\n",
    "        pass      \n",
    "    try:    \n",
    "        d['aic']=perf.aic() \n",
    "    except:\n",
    "         pass      \n",
    "    try:\n",
    "        d['logloss']=perf.logloss() \n",
    "    except:\n",
    "        pass    \n",
    "    try:\n",
    "        d['auc']=perf.auc()\n",
    "    except:\n",
    "        pass  \n",
    "    try:\n",
    "        d['gini']=perf.gini()\n",
    "    except:\n",
    "        pass    \n",
    "    return d"
   ]
  },
  {
   "cell_type": "code",
   "execution_count": 13,
   "metadata": {
    "collapsed": true
   },
   "outputs": [],
   "source": [
    "# Function to plot the true/prediction value¶\n",
    "def plot_result(model, pred_value, y_test):\n",
    "    plt.figure()\n",
    "    plt.plot(np.arange(len(pred_value)), y_test,'go-',label='true value')\n",
    "    plt.plot(np.arange(len(pred_value)),pred_value,'ro-',label='predict value')\n",
    "    plt.title(model)\n",
    "    plt.xlabel('Record_index')\n",
    "    plt.ylabel('Y_xalue')\n",
    "    plt.legend()\n",
    "    plt.show()"
   ]
  },
  {
   "cell_type": "markdown",
   "metadata": {},
   "source": [
    "### 3. Data Overview"
   ]
  },
  {
   "cell_type": "markdown",
   "metadata": {},
   "source": [
    "#### set up data path and model path"
   ]
  },
  {
   "cell_type": "code",
   "execution_count": 14,
   "metadata": {},
   "outputs": [
    {
     "name": "stdout",
     "output_type": "stream",
     "text": [
      "2Tl6L4tys\n"
     ]
    }
   ],
   "source": [
    "run_id=alphabet(9)\n",
    "print (run_id)"
   ]
  },
  {
   "cell_type": "code",
   "execution_count": 15,
   "metadata": {
    "collapsed": true
   },
   "outputs": [],
   "source": [
    "rootDir=os.path.abspath(os.curdir)\n",
    "os.chdir(rootDir)"
   ]
  },
  {
   "cell_type": "code",
   "execution_count": 16,
   "metadata": {
    "collapsed": true
   },
   "outputs": [],
   "source": [
    "run_dir = os.path.join(rootDir, 'regression', run_id)\n",
    "report_Path = os.path.join(run_dir, 'reports/')\n",
    "model_Path = os.path.join(run_dir, 'models')\n",
    "os.mkdir(run_dir)\n",
    "os.mkdir(report_Path)\n",
    "os.mkdir(model_Path)\n",
    "os.chdir(run_dir)"
   ]
  },
  {
   "cell_type": "code",
   "execution_count": 17,
   "metadata": {
    "collapsed": true
   },
   "outputs": [],
   "source": [
    "# load dataset\n",
    "data_Path = os.path.join(rootDir,'data_folder/student-por.csv')\n",
    "student_por_data=pd.read_csv(data_Path)"
   ]
  },
  {
   "cell_type": "code",
   "execution_count": 18,
   "metadata": {},
   "outputs": [
    {
     "data": {
      "text/html": [
       "<div>\n",
       "<style>\n",
       "    .dataframe thead tr:only-child th {\n",
       "        text-align: right;\n",
       "    }\n",
       "\n",
       "    .dataframe thead th {\n",
       "        text-align: left;\n",
       "    }\n",
       "\n",
       "    .dataframe tbody tr th {\n",
       "        vertical-align: top;\n",
       "    }\n",
       "</style>\n",
       "<table border=\"1\" class=\"dataframe\">\n",
       "  <thead>\n",
       "    <tr style=\"text-align: right;\">\n",
       "      <th></th>\n",
       "      <th>school</th>\n",
       "      <th>sex</th>\n",
       "      <th>age</th>\n",
       "      <th>address</th>\n",
       "      <th>famsize</th>\n",
       "      <th>Pstatus</th>\n",
       "      <th>Medu</th>\n",
       "      <th>Fedu</th>\n",
       "      <th>Mjob</th>\n",
       "      <th>Fjob</th>\n",
       "      <th>...</th>\n",
       "      <th>famrel</th>\n",
       "      <th>freetime</th>\n",
       "      <th>goout</th>\n",
       "      <th>Dalc</th>\n",
       "      <th>Walc</th>\n",
       "      <th>health</th>\n",
       "      <th>absences</th>\n",
       "      <th>G1</th>\n",
       "      <th>G2</th>\n",
       "      <th>G3</th>\n",
       "    </tr>\n",
       "  </thead>\n",
       "  <tbody>\n",
       "    <tr>\n",
       "      <th>0</th>\n",
       "      <td>GP</td>\n",
       "      <td>F</td>\n",
       "      <td>18</td>\n",
       "      <td>U</td>\n",
       "      <td>GT3</td>\n",
       "      <td>A</td>\n",
       "      <td>4</td>\n",
       "      <td>4</td>\n",
       "      <td>at_home</td>\n",
       "      <td>teacher</td>\n",
       "      <td>...</td>\n",
       "      <td>4</td>\n",
       "      <td>3</td>\n",
       "      <td>4</td>\n",
       "      <td>1</td>\n",
       "      <td>1</td>\n",
       "      <td>3</td>\n",
       "      <td>4</td>\n",
       "      <td>0</td>\n",
       "      <td>11</td>\n",
       "      <td>11</td>\n",
       "    </tr>\n",
       "    <tr>\n",
       "      <th>1</th>\n",
       "      <td>GP</td>\n",
       "      <td>F</td>\n",
       "      <td>17</td>\n",
       "      <td>U</td>\n",
       "      <td>GT3</td>\n",
       "      <td>T</td>\n",
       "      <td>1</td>\n",
       "      <td>1</td>\n",
       "      <td>at_home</td>\n",
       "      <td>other</td>\n",
       "      <td>...</td>\n",
       "      <td>5</td>\n",
       "      <td>3</td>\n",
       "      <td>3</td>\n",
       "      <td>1</td>\n",
       "      <td>1</td>\n",
       "      <td>3</td>\n",
       "      <td>2</td>\n",
       "      <td>9</td>\n",
       "      <td>11</td>\n",
       "      <td>11</td>\n",
       "    </tr>\n",
       "    <tr>\n",
       "      <th>2</th>\n",
       "      <td>GP</td>\n",
       "      <td>F</td>\n",
       "      <td>15</td>\n",
       "      <td>U</td>\n",
       "      <td>LE3</td>\n",
       "      <td>T</td>\n",
       "      <td>1</td>\n",
       "      <td>1</td>\n",
       "      <td>at_home</td>\n",
       "      <td>other</td>\n",
       "      <td>...</td>\n",
       "      <td>4</td>\n",
       "      <td>3</td>\n",
       "      <td>2</td>\n",
       "      <td>2</td>\n",
       "      <td>3</td>\n",
       "      <td>3</td>\n",
       "      <td>6</td>\n",
       "      <td>12</td>\n",
       "      <td>13</td>\n",
       "      <td>12</td>\n",
       "    </tr>\n",
       "    <tr>\n",
       "      <th>3</th>\n",
       "      <td>GP</td>\n",
       "      <td>F</td>\n",
       "      <td>15</td>\n",
       "      <td>U</td>\n",
       "      <td>GT3</td>\n",
       "      <td>T</td>\n",
       "      <td>4</td>\n",
       "      <td>2</td>\n",
       "      <td>health</td>\n",
       "      <td>services</td>\n",
       "      <td>...</td>\n",
       "      <td>3</td>\n",
       "      <td>2</td>\n",
       "      <td>2</td>\n",
       "      <td>1</td>\n",
       "      <td>1</td>\n",
       "      <td>5</td>\n",
       "      <td>0</td>\n",
       "      <td>14</td>\n",
       "      <td>14</td>\n",
       "      <td>14</td>\n",
       "    </tr>\n",
       "    <tr>\n",
       "      <th>4</th>\n",
       "      <td>GP</td>\n",
       "      <td>F</td>\n",
       "      <td>16</td>\n",
       "      <td>U</td>\n",
       "      <td>GT3</td>\n",
       "      <td>T</td>\n",
       "      <td>3</td>\n",
       "      <td>3</td>\n",
       "      <td>other</td>\n",
       "      <td>other</td>\n",
       "      <td>...</td>\n",
       "      <td>4</td>\n",
       "      <td>3</td>\n",
       "      <td>2</td>\n",
       "      <td>1</td>\n",
       "      <td>2</td>\n",
       "      <td>5</td>\n",
       "      <td>0</td>\n",
       "      <td>11</td>\n",
       "      <td>13</td>\n",
       "      <td>13</td>\n",
       "    </tr>\n",
       "  </tbody>\n",
       "</table>\n",
       "<p>5 rows × 33 columns</p>\n",
       "</div>"
      ],
      "text/plain": [
       "  school sex  age address famsize Pstatus  Medu  Fedu     Mjob      Fjob ...  \\\n",
       "0     GP   F   18       U     GT3       A     4     4  at_home   teacher ...   \n",
       "1     GP   F   17       U     GT3       T     1     1  at_home     other ...   \n",
       "2     GP   F   15       U     LE3       T     1     1  at_home     other ...   \n",
       "3     GP   F   15       U     GT3       T     4     2   health  services ...   \n",
       "4     GP   F   16       U     GT3       T     3     3    other     other ...   \n",
       "\n",
       "  famrel freetime  goout  Dalc  Walc health absences  G1  G2  G3  \n",
       "0      4        3      4     1     1      3        4   0  11  11  \n",
       "1      5        3      3     1     1      3        2   9  11  11  \n",
       "2      4        3      2     2     3      3        6  12  13  12  \n",
       "3      3        2      2     1     1      5        0  14  14  14  \n",
       "4      4        3      2     1     2      5        0  11  13  13  \n",
       "\n",
       "[5 rows x 33 columns]"
      ]
     },
     "execution_count": 18,
     "metadata": {},
     "output_type": "execute_result"
    }
   ],
   "source": [
    "student_por_data.head()"
   ]
  },
  {
   "cell_type": "code",
   "execution_count": 19,
   "metadata": {},
   "outputs": [
    {
     "data": {
      "text/plain": [
       "school        0\n",
       "sex           0\n",
       "age           0\n",
       "address       0\n",
       "famsize       0\n",
       "Pstatus       0\n",
       "Medu          0\n",
       "Fedu          0\n",
       "Mjob          0\n",
       "Fjob          0\n",
       "reason        0\n",
       "guardian      0\n",
       "traveltime    0\n",
       "studytime     0\n",
       "failures      0\n",
       "schoolsup     0\n",
       "famsup        0\n",
       "paid          0\n",
       "activities    0\n",
       "nursery       0\n",
       "higher        0\n",
       "internet      0\n",
       "romantic      0\n",
       "famrel        0\n",
       "freetime      0\n",
       "goout         0\n",
       "Dalc          0\n",
       "Walc          0\n",
       "health        0\n",
       "absences      0\n",
       "G1            0\n",
       "G2            0\n",
       "G3            0\n",
       "dtype: int64"
      ]
     },
     "execution_count": 19,
     "metadata": {},
     "output_type": "execute_result"
    }
   ],
   "source": [
    "# check if there is null value in dataset\n",
    "student_por_data.isnull().sum()"
   ]
  },
  {
   "cell_type": "markdown",
   "metadata": {},
   "source": [
    "### 4. Launch H2O Instance"
   ]
  },
  {
   "cell_type": "code",
   "execution_count": 20,
   "metadata": {},
   "outputs": [
    {
     "name": "stdout",
     "output_type": "stream",
     "text": [
      "Checking whether there is an H2O instance running at http://localhost:14914..... not found.\n",
      "Attempting to start a local H2O server...\n",
      "  Java Version: java version \"1.8.0_144\"; Java(TM) SE Runtime Environment (build 1.8.0_144-b01); Java HotSpot(TM) 64-Bit Server VM (build 25.144-b01, mixed mode)\n",
      "  Starting server from /Users/lzq/anaconda3/lib/python3.6/site-packages/h2o/backend/bin/h2o.jar\n",
      "  Ice root: /var/folders/qy/r0h6l3351xl9cvg1kl8ltwmc0000gn/T/tmpmkm1voda\n",
      "  JVM stdout: /var/folders/qy/r0h6l3351xl9cvg1kl8ltwmc0000gn/T/tmpmkm1voda/h2o_lzq_started_from_python.out\n",
      "  JVM stderr: /var/folders/qy/r0h6l3351xl9cvg1kl8ltwmc0000gn/T/tmpmkm1voda/h2o_lzq_started_from_python.err\n",
      "  Server is running at http://127.0.0.1:14914\n",
      "Connecting to H2O server at http://127.0.0.1:14914... successful.\n"
     ]
    },
    {
     "data": {
      "text/html": [
       "<div style=\"overflow:auto\"><table style=\"width:50%\"><tr><td>H2O cluster uptime:</td>\n",
       "<td>02 secs</td></tr>\n",
       "<tr><td>H2O cluster timezone:</td>\n",
       "<td>America/New_York</td></tr>\n",
       "<tr><td>H2O data parsing timezone:</td>\n",
       "<td>UTC</td></tr>\n",
       "<tr><td>H2O cluster version:</td>\n",
       "<td>3.20.0.7</td></tr>\n",
       "<tr><td>H2O cluster version age:</td>\n",
       "<td>1 month and 9 days </td></tr>\n",
       "<tr><td>H2O cluster name:</td>\n",
       "<td>H2O_from_python_lzq_0dlcpb</td></tr>\n",
       "<tr><td>H2O cluster total nodes:</td>\n",
       "<td>1</td></tr>\n",
       "<tr><td>H2O cluster free memory:</td>\n",
       "<td>1.778 Gb</td></tr>\n",
       "<tr><td>H2O cluster total cores:</td>\n",
       "<td>4</td></tr>\n",
       "<tr><td>H2O cluster allowed cores:</td>\n",
       "<td>4</td></tr>\n",
       "<tr><td>H2O cluster status:</td>\n",
       "<td>accepting new members, healthy</td></tr>\n",
       "<tr><td>H2O connection url:</td>\n",
       "<td>http://127.0.0.1:14914</td></tr>\n",
       "<tr><td>H2O connection proxy:</td>\n",
       "<td>None</td></tr>\n",
       "<tr><td>H2O internal security:</td>\n",
       "<td>False</td></tr>\n",
       "<tr><td>H2O API Extensions:</td>\n",
       "<td>XGBoost, Algos, AutoML, Core V3, Core V4</td></tr>\n",
       "<tr><td>Python version:</td>\n",
       "<td>3.6.3 final</td></tr></table></div>"
      ],
      "text/plain": [
       "--------------------------  ----------------------------------------\n",
       "H2O cluster uptime:         02 secs\n",
       "H2O cluster timezone:       America/New_York\n",
       "H2O data parsing timezone:  UTC\n",
       "H2O cluster version:        3.20.0.7\n",
       "H2O cluster version age:    1 month and 9 days\n",
       "H2O cluster name:           H2O_from_python_lzq_0dlcpb\n",
       "H2O cluster total nodes:    1\n",
       "H2O cluster free memory:    1.778 Gb\n",
       "H2O cluster total cores:    4\n",
       "H2O cluster allowed cores:  4\n",
       "H2O cluster status:         accepting new members, healthy\n",
       "H2O connection url:         http://127.0.0.1:14914\n",
       "H2O connection proxy:\n",
       "H2O internal security:      False\n",
       "H2O API Extensions:         XGBoost, Algos, AutoML, Core V3, Core V4\n",
       "Python version:             3.6.3 final\n",
       "--------------------------  ----------------------------------------"
      ]
     },
     "metadata": {},
     "output_type": "display_data"
    }
   ],
   "source": [
    "port_no=random.randint(5555,55555)\n",
    "h2o.init(strict_version_check=False,port=port_no)"
   ]
  },
  {
   "cell_type": "code",
   "execution_count": 21,
   "metadata": {},
   "outputs": [
    {
     "name": "stdout",
     "output_type": "stream",
     "text": [
      "{'run_id': '2Tl6L4tys', 'start_time': 1539213355.077755, 'target': None, 'max_models': 9, 'run_time': 333, 'classification': False, 'project': 'Regression', 'end_time': 1539213355.07776, 'execution_time': 0.0, 'nthreads': 1, 'min_mem_size': 6}\n"
     ]
    }
   ],
   "source": [
    "# meta data\n",
    "meta_data = set_meta_data(run_id,target,max_models,run_time,classification,name,nthreads,min_mem_size)\n",
    "print(meta_data)"
   ]
  },
  {
   "cell_type": "markdown",
   "metadata": {},
   "source": [
    "#### import dataset and do some modification"
   ]
  },
  {
   "cell_type": "code",
   "execution_count": 22,
   "metadata": {},
   "outputs": [
    {
     "name": "stdout",
     "output_type": "stream",
     "text": [
      "Parse progress: |█████████████████████████████████████████████████████████| 100%\n"
     ]
    }
   ],
   "source": [
    "df = h2o.import_file(data_Path)"
   ]
  },
  {
   "cell_type": "code",
   "execution_count": 23,
   "metadata": {
    "collapsed": true
   },
   "outputs": [],
   "source": [
    "# drop G1/G2 columns\n",
    "df = df.drop('G1', axis=1)\n",
    "df = df.drop('G2', axis=1)"
   ]
  },
  {
   "cell_type": "code",
   "execution_count": 24,
   "metadata": {},
   "outputs": [
    {
     "data": {
      "text/html": [
       "<table>\n",
       "<thead>\n",
       "<tr><th>school  </th><th>sex  </th><th style=\"text-align: right;\">  age</th><th>address  </th><th>famsize  </th><th>Pstatus  </th><th style=\"text-align: right;\">  Medu</th><th style=\"text-align: right;\">  Fedu</th><th>Mjob   </th><th>Fjob    </th><th>reason  </th><th>guardian  </th><th style=\"text-align: right;\">  traveltime</th><th style=\"text-align: right;\">  studytime</th><th style=\"text-align: right;\">  failures</th><th>schoolsup  </th><th>famsup  </th><th>paid  </th><th>activities  </th><th>nursery  </th><th>higher  </th><th>internet  </th><th>romantic  </th><th style=\"text-align: right;\">  famrel</th><th style=\"text-align: right;\">  freetime</th><th style=\"text-align: right;\">  goout</th><th style=\"text-align: right;\">  Dalc</th><th style=\"text-align: right;\">  Walc</th><th style=\"text-align: right;\">  health</th><th style=\"text-align: right;\">  absences</th><th style=\"text-align: right;\">  G3</th></tr>\n",
       "</thead>\n",
       "<tbody>\n",
       "<tr><td>GP      </td><td>F    </td><td style=\"text-align: right;\">   18</td><td>U        </td><td>GT3      </td><td>A        </td><td style=\"text-align: right;\">     4</td><td style=\"text-align: right;\">     4</td><td>at_home</td><td>teacher </td><td>course  </td><td>mother    </td><td style=\"text-align: right;\">           2</td><td style=\"text-align: right;\">          2</td><td style=\"text-align: right;\">         0</td><td>yes        </td><td>no      </td><td>no    </td><td>no          </td><td>yes      </td><td>yes     </td><td>no        </td><td>no        </td><td style=\"text-align: right;\">       4</td><td style=\"text-align: right;\">         3</td><td style=\"text-align: right;\">      4</td><td style=\"text-align: right;\">     1</td><td style=\"text-align: right;\">     1</td><td style=\"text-align: right;\">       3</td><td style=\"text-align: right;\">         4</td><td style=\"text-align: right;\">  11</td></tr>\n",
       "<tr><td>GP      </td><td>F    </td><td style=\"text-align: right;\">   17</td><td>U        </td><td>GT3      </td><td>T        </td><td style=\"text-align: right;\">     1</td><td style=\"text-align: right;\">     1</td><td>at_home</td><td>other   </td><td>course  </td><td>father    </td><td style=\"text-align: right;\">           1</td><td style=\"text-align: right;\">          2</td><td style=\"text-align: right;\">         0</td><td>no         </td><td>yes     </td><td>no    </td><td>no          </td><td>no       </td><td>yes     </td><td>yes       </td><td>no        </td><td style=\"text-align: right;\">       5</td><td style=\"text-align: right;\">         3</td><td style=\"text-align: right;\">      3</td><td style=\"text-align: right;\">     1</td><td style=\"text-align: right;\">     1</td><td style=\"text-align: right;\">       3</td><td style=\"text-align: right;\">         2</td><td style=\"text-align: right;\">  11</td></tr>\n",
       "<tr><td>GP      </td><td>F    </td><td style=\"text-align: right;\">   15</td><td>U        </td><td>LE3      </td><td>T        </td><td style=\"text-align: right;\">     1</td><td style=\"text-align: right;\">     1</td><td>at_home</td><td>other   </td><td>other   </td><td>mother    </td><td style=\"text-align: right;\">           1</td><td style=\"text-align: right;\">          2</td><td style=\"text-align: right;\">         0</td><td>yes        </td><td>no      </td><td>no    </td><td>no          </td><td>yes      </td><td>yes     </td><td>yes       </td><td>no        </td><td style=\"text-align: right;\">       4</td><td style=\"text-align: right;\">         3</td><td style=\"text-align: right;\">      2</td><td style=\"text-align: right;\">     2</td><td style=\"text-align: right;\">     3</td><td style=\"text-align: right;\">       3</td><td style=\"text-align: right;\">         6</td><td style=\"text-align: right;\">  12</td></tr>\n",
       "<tr><td>GP      </td><td>F    </td><td style=\"text-align: right;\">   15</td><td>U        </td><td>GT3      </td><td>T        </td><td style=\"text-align: right;\">     4</td><td style=\"text-align: right;\">     2</td><td>health </td><td>services</td><td>home    </td><td>mother    </td><td style=\"text-align: right;\">           1</td><td style=\"text-align: right;\">          3</td><td style=\"text-align: right;\">         0</td><td>no         </td><td>yes     </td><td>no    </td><td>yes         </td><td>yes      </td><td>yes     </td><td>yes       </td><td>yes       </td><td style=\"text-align: right;\">       3</td><td style=\"text-align: right;\">         2</td><td style=\"text-align: right;\">      2</td><td style=\"text-align: right;\">     1</td><td style=\"text-align: right;\">     1</td><td style=\"text-align: right;\">       5</td><td style=\"text-align: right;\">         0</td><td style=\"text-align: right;\">  14</td></tr>\n",
       "<tr><td>GP      </td><td>F    </td><td style=\"text-align: right;\">   16</td><td>U        </td><td>GT3      </td><td>T        </td><td style=\"text-align: right;\">     3</td><td style=\"text-align: right;\">     3</td><td>other  </td><td>other   </td><td>home    </td><td>father    </td><td style=\"text-align: right;\">           1</td><td style=\"text-align: right;\">          2</td><td style=\"text-align: right;\">         0</td><td>no         </td><td>yes     </td><td>no    </td><td>no          </td><td>yes      </td><td>yes     </td><td>no        </td><td>no        </td><td style=\"text-align: right;\">       4</td><td style=\"text-align: right;\">         3</td><td style=\"text-align: right;\">      2</td><td style=\"text-align: right;\">     1</td><td style=\"text-align: right;\">     2</td><td style=\"text-align: right;\">       5</td><td style=\"text-align: right;\">         0</td><td style=\"text-align: right;\">  13</td></tr>\n",
       "</tbody>\n",
       "</table>"
      ]
     },
     "metadata": {},
     "output_type": "display_data"
    },
    {
     "name": "stdout",
     "output_type": "stream",
     "text": [
      "\n"
     ]
    }
   ],
   "source": [
    "print(df.head(5))"
   ]
  },
  {
   "cell_type": "code",
   "execution_count": 25,
   "metadata": {},
   "outputs": [
    {
     "name": "stdout",
     "output_type": "stream",
     "text": [
      "Rows:649\n",
      "Cols:31\n",
      "\n",
      "\n"
     ]
    },
    {
     "data": {
      "text/html": [
       "<table>\n",
       "<thead>\n",
       "<tr><th>       </th><th>school  </th><th>sex  </th><th>age               </th><th>address  </th><th>famsize  </th><th>Pstatus  </th><th>Medu              </th><th>Fedu              </th><th>Mjob    </th><th>Fjob    </th><th>reason    </th><th>guardian  </th><th>traveltime        </th><th>studytime         </th><th>failures          </th><th>schoolsup  </th><th>famsup  </th><th>paid  </th><th>activities  </th><th>nursery  </th><th>higher  </th><th>internet  </th><th>romantic  </th><th>famrel            </th><th>freetime         </th><th>goout            </th><th>Dalc              </th><th>Walc              </th><th>health            </th><th>absences          </th><th>G3                </th></tr>\n",
       "</thead>\n",
       "<tbody>\n",
       "<tr><td>type   </td><td>enum    </td><td>enum </td><td>int               </td><td>enum     </td><td>enum     </td><td>enum     </td><td>int               </td><td>int               </td><td>enum    </td><td>enum    </td><td>enum      </td><td>enum      </td><td>int               </td><td>int               </td><td>int               </td><td>enum       </td><td>enum    </td><td>enum  </td><td>enum        </td><td>enum     </td><td>enum    </td><td>enum      </td><td>enum      </td><td>int               </td><td>int              </td><td>int              </td><td>int               </td><td>int               </td><td>int               </td><td>int               </td><td>int               </td></tr>\n",
       "<tr><td>mins   </td><td>        </td><td>     </td><td>15.0              </td><td>         </td><td>         </td><td>         </td><td>0.0               </td><td>0.0               </td><td>        </td><td>        </td><td>          </td><td>          </td><td>1.0               </td><td>1.0               </td><td>0.0               </td><td>           </td><td>        </td><td>      </td><td>            </td><td>         </td><td>        </td><td>          </td><td>          </td><td>1.0               </td><td>1.0              </td><td>1.0              </td><td>1.0               </td><td>1.0               </td><td>1.0               </td><td>0.0               </td><td>0.0               </td></tr>\n",
       "<tr><td>mean   </td><td>        </td><td>     </td><td>16.7442218798151  </td><td>         </td><td>         </td><td>         </td><td>2.514637904468413 </td><td>2.3066255778120186</td><td>        </td><td>        </td><td>          </td><td>          </td><td>1.5685670261941451</td><td>1.9306625577812018</td><td>0.2218798151001541</td><td>           </td><td>        </td><td>      </td><td>            </td><td>         </td><td>        </td><td>          </td><td>          </td><td>3.930662557781202 </td><td>3.180277349768875</td><td>3.184899845916795</td><td>1.50231124807396  </td><td>2.280431432973806 </td><td>3.536209553158706 </td><td>3.6594761171032357</td><td>11.906009244992296</td></tr>\n",
       "<tr><td>maxs   </td><td>        </td><td>     </td><td>22.0              </td><td>         </td><td>         </td><td>         </td><td>4.0               </td><td>4.0               </td><td>        </td><td>        </td><td>          </td><td>          </td><td>4.0               </td><td>4.0               </td><td>3.0               </td><td>           </td><td>        </td><td>      </td><td>            </td><td>         </td><td>        </td><td>          </td><td>          </td><td>5.0               </td><td>5.0              </td><td>5.0              </td><td>5.0               </td><td>5.0               </td><td>5.0               </td><td>32.0              </td><td>19.0              </td></tr>\n",
       "<tr><td>sigma  </td><td>        </td><td>     </td><td>1.2181376394800645</td><td>         </td><td>         </td><td>         </td><td>1.1345519999533167</td><td>1.0999309111408033</td><td>        </td><td>        </td><td>          </td><td>          </td><td>0.7486600863534162</td><td>0.829509574636615 </td><td>0.5932351492649627</td><td>           </td><td>        </td><td>      </td><td>            </td><td>         </td><td>        </td><td>          </td><td>          </td><td>0.9557168913381865</td><td>1.051092575357063</td><td>1.175766113842312</td><td>0.9248344305673268</td><td>1.2843799719490245</td><td>1.4462590500910701</td><td>4.640758808397153 </td><td>3.2306562428048045</td></tr>\n",
       "<tr><td>zeros  </td><td>        </td><td>     </td><td>0                 </td><td>         </td><td>         </td><td>         </td><td>6                 </td><td>7                 </td><td>        </td><td>        </td><td>          </td><td>          </td><td>0                 </td><td>0                 </td><td>549               </td><td>           </td><td>        </td><td>      </td><td>            </td><td>         </td><td>        </td><td>          </td><td>          </td><td>0                 </td><td>0                </td><td>0                </td><td>0                 </td><td>0                 </td><td>0                 </td><td>244               </td><td>15                </td></tr>\n",
       "<tr><td>missing</td><td>0       </td><td>0    </td><td>0                 </td><td>0        </td><td>0        </td><td>0        </td><td>0                 </td><td>0                 </td><td>0       </td><td>0       </td><td>0         </td><td>0         </td><td>0                 </td><td>0                 </td><td>0                 </td><td>0          </td><td>0       </td><td>0     </td><td>0           </td><td>0        </td><td>0       </td><td>0         </td><td>0         </td><td>0                 </td><td>0                </td><td>0                </td><td>0                 </td><td>0                 </td><td>0                 </td><td>0                 </td><td>0                 </td></tr>\n",
       "<tr><td>0      </td><td>GP      </td><td>F    </td><td>18.0              </td><td>U        </td><td>GT3      </td><td>A        </td><td>4.0               </td><td>4.0               </td><td>at_home </td><td>teacher </td><td>course    </td><td>mother    </td><td>2.0               </td><td>2.0               </td><td>0.0               </td><td>yes        </td><td>no      </td><td>no    </td><td>no          </td><td>yes      </td><td>yes     </td><td>no        </td><td>no        </td><td>4.0               </td><td>3.0              </td><td>4.0              </td><td>1.0               </td><td>1.0               </td><td>3.0               </td><td>4.0               </td><td>11.0              </td></tr>\n",
       "<tr><td>1      </td><td>GP      </td><td>F    </td><td>17.0              </td><td>U        </td><td>GT3      </td><td>T        </td><td>1.0               </td><td>1.0               </td><td>at_home </td><td>other   </td><td>course    </td><td>father    </td><td>1.0               </td><td>2.0               </td><td>0.0               </td><td>no         </td><td>yes     </td><td>no    </td><td>no          </td><td>no       </td><td>yes     </td><td>yes       </td><td>no        </td><td>5.0               </td><td>3.0              </td><td>3.0              </td><td>1.0               </td><td>1.0               </td><td>3.0               </td><td>2.0               </td><td>11.0              </td></tr>\n",
       "<tr><td>2      </td><td>GP      </td><td>F    </td><td>15.0              </td><td>U        </td><td>LE3      </td><td>T        </td><td>1.0               </td><td>1.0               </td><td>at_home </td><td>other   </td><td>other     </td><td>mother    </td><td>1.0               </td><td>2.0               </td><td>0.0               </td><td>yes        </td><td>no      </td><td>no    </td><td>no          </td><td>yes      </td><td>yes     </td><td>yes       </td><td>no        </td><td>4.0               </td><td>3.0              </td><td>2.0              </td><td>2.0               </td><td>3.0               </td><td>3.0               </td><td>6.0               </td><td>12.0              </td></tr>\n",
       "<tr><td>3      </td><td>GP      </td><td>F    </td><td>15.0              </td><td>U        </td><td>GT3      </td><td>T        </td><td>4.0               </td><td>2.0               </td><td>health  </td><td>services</td><td>home      </td><td>mother    </td><td>1.0               </td><td>3.0               </td><td>0.0               </td><td>no         </td><td>yes     </td><td>no    </td><td>yes         </td><td>yes      </td><td>yes     </td><td>yes       </td><td>yes       </td><td>3.0               </td><td>2.0              </td><td>2.0              </td><td>1.0               </td><td>1.0               </td><td>5.0               </td><td>0.0               </td><td>14.0              </td></tr>\n",
       "<tr><td>4      </td><td>GP      </td><td>F    </td><td>16.0              </td><td>U        </td><td>GT3      </td><td>T        </td><td>3.0               </td><td>3.0               </td><td>other   </td><td>other   </td><td>home      </td><td>father    </td><td>1.0               </td><td>2.0               </td><td>0.0               </td><td>no         </td><td>yes     </td><td>no    </td><td>no          </td><td>yes      </td><td>yes     </td><td>no        </td><td>no        </td><td>4.0               </td><td>3.0              </td><td>2.0              </td><td>1.0               </td><td>2.0               </td><td>5.0               </td><td>0.0               </td><td>13.0              </td></tr>\n",
       "<tr><td>5      </td><td>GP      </td><td>M    </td><td>16.0              </td><td>U        </td><td>LE3      </td><td>T        </td><td>4.0               </td><td>3.0               </td><td>services</td><td>other   </td><td>reputation</td><td>mother    </td><td>1.0               </td><td>2.0               </td><td>0.0               </td><td>no         </td><td>yes     </td><td>no    </td><td>yes         </td><td>yes      </td><td>yes     </td><td>yes       </td><td>no        </td><td>5.0               </td><td>4.0              </td><td>2.0              </td><td>1.0               </td><td>2.0               </td><td>5.0               </td><td>6.0               </td><td>13.0              </td></tr>\n",
       "<tr><td>6      </td><td>GP      </td><td>M    </td><td>16.0              </td><td>U        </td><td>LE3      </td><td>T        </td><td>2.0               </td><td>2.0               </td><td>other   </td><td>other   </td><td>home      </td><td>mother    </td><td>1.0               </td><td>2.0               </td><td>0.0               </td><td>no         </td><td>no      </td><td>no    </td><td>no          </td><td>yes      </td><td>yes     </td><td>yes       </td><td>no        </td><td>4.0               </td><td>4.0              </td><td>4.0              </td><td>1.0               </td><td>1.0               </td><td>3.0               </td><td>0.0               </td><td>13.0              </td></tr>\n",
       "<tr><td>7      </td><td>GP      </td><td>F    </td><td>17.0              </td><td>U        </td><td>GT3      </td><td>A        </td><td>4.0               </td><td>4.0               </td><td>other   </td><td>teacher </td><td>home      </td><td>mother    </td><td>2.0               </td><td>2.0               </td><td>0.0               </td><td>yes        </td><td>yes     </td><td>no    </td><td>no          </td><td>yes      </td><td>yes     </td><td>no        </td><td>no        </td><td>4.0               </td><td>1.0              </td><td>4.0              </td><td>1.0               </td><td>1.0               </td><td>1.0               </td><td>2.0               </td><td>13.0              </td></tr>\n",
       "<tr><td>8      </td><td>GP      </td><td>M    </td><td>15.0              </td><td>U        </td><td>LE3      </td><td>A        </td><td>3.0               </td><td>2.0               </td><td>services</td><td>other   </td><td>home      </td><td>mother    </td><td>1.0               </td><td>2.0               </td><td>0.0               </td><td>no         </td><td>yes     </td><td>no    </td><td>no          </td><td>yes      </td><td>yes     </td><td>yes       </td><td>no        </td><td>4.0               </td><td>2.0              </td><td>2.0              </td><td>1.0               </td><td>1.0               </td><td>1.0               </td><td>0.0               </td><td>17.0              </td></tr>\n",
       "<tr><td>9      </td><td>GP      </td><td>M    </td><td>15.0              </td><td>U        </td><td>GT3      </td><td>T        </td><td>3.0               </td><td>4.0               </td><td>other   </td><td>other   </td><td>home      </td><td>mother    </td><td>1.0               </td><td>2.0               </td><td>0.0               </td><td>no         </td><td>yes     </td><td>no    </td><td>yes         </td><td>yes      </td><td>yes     </td><td>yes       </td><td>no        </td><td>5.0               </td><td>5.0              </td><td>1.0              </td><td>1.0               </td><td>1.0               </td><td>5.0               </td><td>0.0               </td><td>13.0              </td></tr>\n",
       "</tbody>\n",
       "</table>"
      ]
     },
     "metadata": {},
     "output_type": "display_data"
    },
    {
     "name": "stdout",
     "output_type": "stream",
     "text": [
      "None\n"
     ]
    }
   ],
   "source": [
    "print(df.describe())"
   ]
  },
  {
   "cell_type": "code",
   "execution_count": 26,
   "metadata": {
    "collapsed": true
   },
   "outputs": [],
   "source": [
    "categorical_variables = ['school', 'sex', 'address', 'famsize', 'Pstatus', 'Medu', 'Fedu', 'Mjob', \n",
    "                         'Fjob', 'reason', 'guardian', 'traveltime', 'studytime', 'schoolsup', 'famsup', \n",
    "                         'paid', 'activities', 'nursery', 'higher', 'internet', 'romantic', 'famrel', \n",
    "                         'freetime', 'goout', 'Dalc', 'Walc', 'health']"
   ]
  },
  {
   "cell_type": "code",
   "execution_count": 27,
   "metadata": {
    "collapsed": true
   },
   "outputs": [],
   "source": [
    "# convert all categorical_variables into factor\n",
    "for var in categorical_variables:\n",
    "    df[var] = df[var].asfactor()\n",
    "y = df['G3']"
   ]
  },
  {
   "cell_type": "code",
   "execution_count": 28,
   "metadata": {},
   "outputs": [
    {
     "name": "stdout",
     "output_type": "stream",
     "text": [
      "Rows:649\n",
      "Cols:31\n",
      "\n",
      "\n"
     ]
    },
    {
     "data": {
      "text/html": [
       "<table>\n",
       "<thead>\n",
       "<tr><th>       </th><th>school  </th><th>sex  </th><th>age               </th><th>address  </th><th>famsize  </th><th>Pstatus  </th><th>Medu  </th><th>Fedu  </th><th>Mjob    </th><th>Fjob    </th><th>reason    </th><th>guardian  </th><th>traveltime  </th><th>studytime  </th><th>failures          </th><th>schoolsup  </th><th>famsup  </th><th>paid  </th><th>activities  </th><th>nursery  </th><th>higher  </th><th>internet  </th><th>romantic  </th><th>famrel  </th><th>freetime  </th><th>goout  </th><th>Dalc  </th><th>Walc  </th><th>health  </th><th>absences          </th><th>G3                </th></tr>\n",
       "</thead>\n",
       "<tbody>\n",
       "<tr><td>type   </td><td>enum    </td><td>enum </td><td>int               </td><td>enum     </td><td>enum     </td><td>enum     </td><td>enum  </td><td>enum  </td><td>enum    </td><td>enum    </td><td>enum      </td><td>enum      </td><td>enum        </td><td>enum       </td><td>int               </td><td>enum       </td><td>enum    </td><td>enum  </td><td>enum        </td><td>enum     </td><td>enum    </td><td>enum      </td><td>enum      </td><td>enum    </td><td>enum      </td><td>enum   </td><td>enum  </td><td>enum  </td><td>enum    </td><td>int               </td><td>int               </td></tr>\n",
       "<tr><td>mins   </td><td>        </td><td>     </td><td>15.0              </td><td>         </td><td>         </td><td>         </td><td>      </td><td>      </td><td>        </td><td>        </td><td>          </td><td>          </td><td>            </td><td>           </td><td>0.0               </td><td>           </td><td>        </td><td>      </td><td>            </td><td>         </td><td>        </td><td>          </td><td>          </td><td>        </td><td>          </td><td>       </td><td>      </td><td>      </td><td>        </td><td>0.0               </td><td>0.0               </td></tr>\n",
       "<tr><td>mean   </td><td>        </td><td>     </td><td>16.7442218798151  </td><td>         </td><td>         </td><td>         </td><td>      </td><td>      </td><td>        </td><td>        </td><td>          </td><td>          </td><td>            </td><td>           </td><td>0.2218798151001541</td><td>           </td><td>        </td><td>      </td><td>            </td><td>         </td><td>        </td><td>          </td><td>          </td><td>        </td><td>          </td><td>       </td><td>      </td><td>      </td><td>        </td><td>3.6594761171032357</td><td>11.906009244992296</td></tr>\n",
       "<tr><td>maxs   </td><td>        </td><td>     </td><td>22.0              </td><td>         </td><td>         </td><td>         </td><td>      </td><td>      </td><td>        </td><td>        </td><td>          </td><td>          </td><td>            </td><td>           </td><td>3.0               </td><td>           </td><td>        </td><td>      </td><td>            </td><td>         </td><td>        </td><td>          </td><td>          </td><td>        </td><td>          </td><td>       </td><td>      </td><td>      </td><td>        </td><td>32.0              </td><td>19.0              </td></tr>\n",
       "<tr><td>sigma  </td><td>        </td><td>     </td><td>1.2181376394800645</td><td>         </td><td>         </td><td>         </td><td>      </td><td>      </td><td>        </td><td>        </td><td>          </td><td>          </td><td>            </td><td>           </td><td>0.5932351492649627</td><td>           </td><td>        </td><td>      </td><td>            </td><td>         </td><td>        </td><td>          </td><td>          </td><td>        </td><td>          </td><td>       </td><td>      </td><td>      </td><td>        </td><td>4.640758808397153 </td><td>3.2306562428048045</td></tr>\n",
       "<tr><td>zeros  </td><td>        </td><td>     </td><td>0                 </td><td>         </td><td>         </td><td>         </td><td>      </td><td>      </td><td>        </td><td>        </td><td>          </td><td>          </td><td>            </td><td>           </td><td>549               </td><td>           </td><td>        </td><td>      </td><td>            </td><td>         </td><td>        </td><td>          </td><td>          </td><td>        </td><td>          </td><td>       </td><td>      </td><td>      </td><td>        </td><td>244               </td><td>15                </td></tr>\n",
       "<tr><td>missing</td><td>0       </td><td>0    </td><td>0                 </td><td>0        </td><td>0        </td><td>0        </td><td>0     </td><td>0     </td><td>0       </td><td>0       </td><td>0         </td><td>0         </td><td>0           </td><td>0          </td><td>0                 </td><td>0          </td><td>0       </td><td>0     </td><td>0           </td><td>0        </td><td>0       </td><td>0         </td><td>0         </td><td>0       </td><td>0         </td><td>0      </td><td>0     </td><td>0     </td><td>0       </td><td>0                 </td><td>0                 </td></tr>\n",
       "<tr><td>0      </td><td>GP      </td><td>F    </td><td>18.0              </td><td>U        </td><td>GT3      </td><td>A        </td><td>4     </td><td>4     </td><td>at_home </td><td>teacher </td><td>course    </td><td>mother    </td><td>2           </td><td>2          </td><td>0.0               </td><td>yes        </td><td>no      </td><td>no    </td><td>no          </td><td>yes      </td><td>yes     </td><td>no        </td><td>no        </td><td>4       </td><td>3         </td><td>4      </td><td>1     </td><td>1     </td><td>3       </td><td>4.0               </td><td>11.0              </td></tr>\n",
       "<tr><td>1      </td><td>GP      </td><td>F    </td><td>17.0              </td><td>U        </td><td>GT3      </td><td>T        </td><td>1     </td><td>1     </td><td>at_home </td><td>other   </td><td>course    </td><td>father    </td><td>1           </td><td>2          </td><td>0.0               </td><td>no         </td><td>yes     </td><td>no    </td><td>no          </td><td>no       </td><td>yes     </td><td>yes       </td><td>no        </td><td>5       </td><td>3         </td><td>3      </td><td>1     </td><td>1     </td><td>3       </td><td>2.0               </td><td>11.0              </td></tr>\n",
       "<tr><td>2      </td><td>GP      </td><td>F    </td><td>15.0              </td><td>U        </td><td>LE3      </td><td>T        </td><td>1     </td><td>1     </td><td>at_home </td><td>other   </td><td>other     </td><td>mother    </td><td>1           </td><td>2          </td><td>0.0               </td><td>yes        </td><td>no      </td><td>no    </td><td>no          </td><td>yes      </td><td>yes     </td><td>yes       </td><td>no        </td><td>4       </td><td>3         </td><td>2      </td><td>2     </td><td>3     </td><td>3       </td><td>6.0               </td><td>12.0              </td></tr>\n",
       "<tr><td>3      </td><td>GP      </td><td>F    </td><td>15.0              </td><td>U        </td><td>GT3      </td><td>T        </td><td>4     </td><td>2     </td><td>health  </td><td>services</td><td>home      </td><td>mother    </td><td>1           </td><td>3          </td><td>0.0               </td><td>no         </td><td>yes     </td><td>no    </td><td>yes         </td><td>yes      </td><td>yes     </td><td>yes       </td><td>yes       </td><td>3       </td><td>2         </td><td>2      </td><td>1     </td><td>1     </td><td>5       </td><td>0.0               </td><td>14.0              </td></tr>\n",
       "<tr><td>4      </td><td>GP      </td><td>F    </td><td>16.0              </td><td>U        </td><td>GT3      </td><td>T        </td><td>3     </td><td>3     </td><td>other   </td><td>other   </td><td>home      </td><td>father    </td><td>1           </td><td>2          </td><td>0.0               </td><td>no         </td><td>yes     </td><td>no    </td><td>no          </td><td>yes      </td><td>yes     </td><td>no        </td><td>no        </td><td>4       </td><td>3         </td><td>2      </td><td>1     </td><td>2     </td><td>5       </td><td>0.0               </td><td>13.0              </td></tr>\n",
       "<tr><td>5      </td><td>GP      </td><td>M    </td><td>16.0              </td><td>U        </td><td>LE3      </td><td>T        </td><td>4     </td><td>3     </td><td>services</td><td>other   </td><td>reputation</td><td>mother    </td><td>1           </td><td>2          </td><td>0.0               </td><td>no         </td><td>yes     </td><td>no    </td><td>yes         </td><td>yes      </td><td>yes     </td><td>yes       </td><td>no        </td><td>5       </td><td>4         </td><td>2      </td><td>1     </td><td>2     </td><td>5       </td><td>6.0               </td><td>13.0              </td></tr>\n",
       "<tr><td>6      </td><td>GP      </td><td>M    </td><td>16.0              </td><td>U        </td><td>LE3      </td><td>T        </td><td>2     </td><td>2     </td><td>other   </td><td>other   </td><td>home      </td><td>mother    </td><td>1           </td><td>2          </td><td>0.0               </td><td>no         </td><td>no      </td><td>no    </td><td>no          </td><td>yes      </td><td>yes     </td><td>yes       </td><td>no        </td><td>4       </td><td>4         </td><td>4      </td><td>1     </td><td>1     </td><td>3       </td><td>0.0               </td><td>13.0              </td></tr>\n",
       "<tr><td>7      </td><td>GP      </td><td>F    </td><td>17.0              </td><td>U        </td><td>GT3      </td><td>A        </td><td>4     </td><td>4     </td><td>other   </td><td>teacher </td><td>home      </td><td>mother    </td><td>2           </td><td>2          </td><td>0.0               </td><td>yes        </td><td>yes     </td><td>no    </td><td>no          </td><td>yes      </td><td>yes     </td><td>no        </td><td>no        </td><td>4       </td><td>1         </td><td>4      </td><td>1     </td><td>1     </td><td>1       </td><td>2.0               </td><td>13.0              </td></tr>\n",
       "<tr><td>8      </td><td>GP      </td><td>M    </td><td>15.0              </td><td>U        </td><td>LE3      </td><td>A        </td><td>3     </td><td>2     </td><td>services</td><td>other   </td><td>home      </td><td>mother    </td><td>1           </td><td>2          </td><td>0.0               </td><td>no         </td><td>yes     </td><td>no    </td><td>no          </td><td>yes      </td><td>yes     </td><td>yes       </td><td>no        </td><td>4       </td><td>2         </td><td>2      </td><td>1     </td><td>1     </td><td>1       </td><td>0.0               </td><td>17.0              </td></tr>\n",
       "<tr><td>9      </td><td>GP      </td><td>M    </td><td>15.0              </td><td>U        </td><td>GT3      </td><td>T        </td><td>3     </td><td>4     </td><td>other   </td><td>other   </td><td>home      </td><td>mother    </td><td>1           </td><td>2          </td><td>0.0               </td><td>no         </td><td>yes     </td><td>no    </td><td>yes         </td><td>yes      </td><td>yes     </td><td>yes       </td><td>no        </td><td>5       </td><td>5         </td><td>1      </td><td>1     </td><td>1     </td><td>5       </td><td>0.0               </td><td>13.0              </td></tr>\n",
       "</tbody>\n",
       "</table>"
      ]
     },
     "metadata": {},
     "output_type": "display_data"
    },
    {
     "name": "stdout",
     "output_type": "stream",
     "text": [
      "None\n"
     ]
    }
   ],
   "source": [
    "print(df.describe())"
   ]
  },
  {
   "cell_type": "code",
   "execution_count": 29,
   "metadata": {},
   "outputs": [
    {
     "name": "stdout",
     "output_type": "stream",
     "text": [
      "OK\n"
     ]
    }
   ],
   "source": [
    "# specify y/target variable\n",
    "y = df.columns[-1]\n",
    "meta_data['target'] = y\n",
    "for key, val in df.types.items():\n",
    "    if key in y:\n",
    "        if val in ['real','int','enum']:\n",
    "            print('OK')"
   ]
  },
  {
   "cell_type": "code",
   "execution_count": 30,
   "metadata": {},
   "outputs": [
    {
     "name": "stdout",
     "output_type": "stream",
     "text": [
      "Regression!\n"
     ]
    }
   ],
   "source": [
    "# check if classification\n",
    "if classification:\n",
    "    df[y] = df[y].asfactor()\n",
    "    print('Done')\n",
    "    print(df[y].levels())\n",
    "else:\n",
    "    print('Regression!')"
   ]
  },
  {
   "cell_type": "code",
   "execution_count": 31,
   "metadata": {},
   "outputs": [
    {
     "name": "stdout",
     "output_type": "stream",
     "text": [
      "['school', 'sex', 'age', 'address', 'famsize', 'Pstatus', 'Medu', 'Fedu', 'Mjob', 'Fjob', 'reason', 'guardian', 'traveltime', 'studytime', 'failures', 'schoolsup', 'famsup', 'paid', 'activities', 'nursery', 'higher', 'internet', 'romantic', 'famrel', 'freetime', 'goout', 'Dalc', 'Walc', 'health', 'absences']\n"
     ]
    }
   ],
   "source": [
    "# specify X variables\n",
    "X = []\n",
    "for i in df.columns:\n",
    "    if i not in y:\n",
    "        X.append(i)\n",
    "print(X)"
   ]
  },
  {
   "cell_type": "code",
   "execution_count": 32,
   "metadata": {},
   "outputs": [
    {
     "name": "stdout",
     "output_type": "stream",
     "text": [
      "{'school': 'enum', 'sex': 'enum', 'age': 'int', 'address': 'enum', 'famsize': 'enum', 'Pstatus': 'enum', 'Medu': 'enum', 'Fedu': 'enum', 'Mjob': 'enum', 'Fjob': 'enum', 'reason': 'enum', 'guardian': 'enum', 'traveltime': 'enum', 'studytime': 'enum', 'failures': 'int', 'schoolsup': 'enum', 'famsup': 'enum', 'paid': 'enum', 'activities': 'enum', 'nursery': 'enum', 'higher': 'enum', 'internet': 'enum', 'romantic': 'enum', 'famrel': 'enum', 'freetime': 'enum', 'goout': 'enum', 'Dalc': 'enum', 'Walc': 'enum', 'health': 'enum', 'absences': 'int', 'G3': 'int'}\n"
     ]
    }
   ],
   "source": [
    "# get all variables and types\n",
    "allV=get_variables_types(df)\n",
    "meta_data['variables']=allV\n",
    "print(allV)"
   ]
  },
  {
   "cell_type": "markdown",
   "metadata": {},
   "source": [
    "### 5. Set up AutoML"
   ]
  },
  {
   "cell_type": "code",
   "execution_count": 33,
   "metadata": {
    "collapsed": true
   },
   "outputs": [],
   "source": [
    "# Split data into train/test by 0.9¶\n",
    "train, test = df.split_frame([0.9])"
   ]
  },
  {
   "cell_type": "code",
   "execution_count": 34,
   "metadata": {
    "collapsed": true
   },
   "outputs": [],
   "source": [
    "# Set up AutoML\n",
    "aml = H2OAutoML(max_runtime_secs=run_time,project_name = name, nfolds=4)"
   ]
  },
  {
   "cell_type": "code",
   "execution_count": 35,
   "metadata": {
    "collapsed": true
   },
   "outputs": [],
   "source": [
    "# model start time\n",
    "model_start_time = time.time()"
   ]
  },
  {
   "cell_type": "code",
   "execution_count": 36,
   "metadata": {},
   "outputs": [
    {
     "name": "stdout",
     "output_type": "stream",
     "text": [
      "AutoML progress: |████████████████████████████████████████████████████████| 100%\n"
     ]
    }
   ],
   "source": [
    "# start training\n",
    "aml.train(x=X,y=y,training_frame=train)"
   ]
  },
  {
   "cell_type": "code",
   "execution_count": 37,
   "metadata": {
    "collapsed": true
   },
   "outputs": [],
   "source": [
    "# caculate model_execution_time\n",
    "meta_data['model_execution_time'] = time.time() - model_start_time"
   ]
  },
  {
   "cell_type": "code",
   "execution_count": 38,
   "metadata": {},
   "outputs": [
    {
     "data": {
      "text/html": [
       "<div>\n",
       "<style>\n",
       "    .dataframe thead tr:only-child th {\n",
       "        text-align: right;\n",
       "    }\n",
       "\n",
       "    .dataframe thead th {\n",
       "        text-align: left;\n",
       "    }\n",
       "\n",
       "    .dataframe tbody tr th {\n",
       "        vertical-align: top;\n",
       "    }\n",
       "</style>\n",
       "<table border=\"1\" class=\"dataframe\">\n",
       "  <thead>\n",
       "    <tr style=\"text-align: right;\">\n",
       "      <th></th>\n",
       "      <th>model_id</th>\n",
       "      <th>mean_residual_deviance</th>\n",
       "      <th>rmse</th>\n",
       "      <th>mse</th>\n",
       "      <th>mae</th>\n",
       "      <th>rmsle</th>\n",
       "    </tr>\n",
       "  </thead>\n",
       "  <tbody>\n",
       "    <tr>\n",
       "      <th>0</th>\n",
       "      <td>StackedEnsemble_BestOfFamily_0_AutoML_20181010...</td>\n",
       "      <td>7.485344</td>\n",
       "      <td>2.735936</td>\n",
       "      <td>7.485344</td>\n",
       "      <td>2.026561</td>\n",
       "      <td>0.411841</td>\n",
       "    </tr>\n",
       "    <tr>\n",
       "      <th>1</th>\n",
       "      <td>StackedEnsemble_AllModels_0_AutoML_20181010_19...</td>\n",
       "      <td>7.573127</td>\n",
       "      <td>2.751931</td>\n",
       "      <td>7.573127</td>\n",
       "      <td>2.033503</td>\n",
       "      <td>0.415157</td>\n",
       "    </tr>\n",
       "    <tr>\n",
       "      <th>2</th>\n",
       "      <td>GBM_grid_0_AutoML_20181010_191557_model_8</td>\n",
       "      <td>7.811556</td>\n",
       "      <td>2.794916</td>\n",
       "      <td>7.811556</td>\n",
       "      <td>2.041864</td>\n",
       "      <td>0.423994</td>\n",
       "    </tr>\n",
       "    <tr>\n",
       "      <th>3</th>\n",
       "      <td>GBM_grid_0_AutoML_20181010_191557_model_1</td>\n",
       "      <td>7.845392</td>\n",
       "      <td>2.800963</td>\n",
       "      <td>7.845392</td>\n",
       "      <td>2.100409</td>\n",
       "      <td>0.415015</td>\n",
       "    </tr>\n",
       "    <tr>\n",
       "      <th>4</th>\n",
       "      <td>GLM_grid_0_AutoML_20181010_191557_model_0</td>\n",
       "      <td>7.912742</td>\n",
       "      <td>2.812960</td>\n",
       "      <td>7.912742</td>\n",
       "      <td>2.053549</td>\n",
       "      <td>0.424864</td>\n",
       "    </tr>\n",
       "    <tr>\n",
       "      <th>5</th>\n",
       "      <td>GBM_grid_0_AutoML_20181010_191557_model_3</td>\n",
       "      <td>8.012329</td>\n",
       "      <td>2.830606</td>\n",
       "      <td>8.012329</td>\n",
       "      <td>2.151019</td>\n",
       "      <td>0.413865</td>\n",
       "    </tr>\n",
       "    <tr>\n",
       "      <th>6</th>\n",
       "      <td>GBM_grid_0_AutoML_20181010_191557_model_0</td>\n",
       "      <td>8.063341</td>\n",
       "      <td>2.839602</td>\n",
       "      <td>8.063341</td>\n",
       "      <td>2.183160</td>\n",
       "      <td>0.411732</td>\n",
       "    </tr>\n",
       "    <tr>\n",
       "      <th>7</th>\n",
       "      <td>GBM_grid_0_AutoML_20181010_191557_model_2</td>\n",
       "      <td>8.102646</td>\n",
       "      <td>2.846515</td>\n",
       "      <td>8.102646</td>\n",
       "      <td>2.146512</td>\n",
       "      <td>0.417855</td>\n",
       "    </tr>\n",
       "    <tr>\n",
       "      <th>8</th>\n",
       "      <td>DeepLearning_0_AutoML_20181010_191557</td>\n",
       "      <td>8.151599</td>\n",
       "      <td>2.855100</td>\n",
       "      <td>8.151599</td>\n",
       "      <td>2.179320</td>\n",
       "      <td>0.414000</td>\n",
       "    </tr>\n",
       "    <tr>\n",
       "      <th>9</th>\n",
       "      <td>GBM_grid_0_AutoML_20181010_191557_model_9</td>\n",
       "      <td>8.155570</td>\n",
       "      <td>2.855796</td>\n",
       "      <td>8.155570</td>\n",
       "      <td>2.169238</td>\n",
       "      <td>0.412143</td>\n",
       "    </tr>\n",
       "    <tr>\n",
       "      <th>10</th>\n",
       "      <td>DRF_0_AutoML_20181010_191557</td>\n",
       "      <td>8.489947</td>\n",
       "      <td>2.913751</td>\n",
       "      <td>8.489947</td>\n",
       "      <td>2.237955</td>\n",
       "      <td>0.414854</td>\n",
       "    </tr>\n",
       "    <tr>\n",
       "      <th>11</th>\n",
       "      <td>XRT_0_AutoML_20181010_191557</td>\n",
       "      <td>8.542269</td>\n",
       "      <td>2.922716</td>\n",
       "      <td>8.542269</td>\n",
       "      <td>2.184097</td>\n",
       "      <td>0.423821</td>\n",
       "    </tr>\n",
       "    <tr>\n",
       "      <th>12</th>\n",
       "      <td>DeepLearning_grid_0_AutoML_20181010_191557_mod...</td>\n",
       "      <td>8.593892</td>\n",
       "      <td>2.931534</td>\n",
       "      <td>8.593892</td>\n",
       "      <td>2.144623</td>\n",
       "      <td>0.433055</td>\n",
       "    </tr>\n",
       "    <tr>\n",
       "      <th>13</th>\n",
       "      <td>DeepLearning_grid_0_AutoML_20181010_191557_mod...</td>\n",
       "      <td>8.812847</td>\n",
       "      <td>2.968644</td>\n",
       "      <td>8.812847</td>\n",
       "      <td>2.157047</td>\n",
       "      <td>0.442746</td>\n",
       "    </tr>\n",
       "    <tr>\n",
       "      <th>14</th>\n",
       "      <td>DeepLearning_grid_0_AutoML_20181010_191557_mod...</td>\n",
       "      <td>9.092287</td>\n",
       "      <td>3.015342</td>\n",
       "      <td>9.092287</td>\n",
       "      <td>2.237695</td>\n",
       "      <td>0.435129</td>\n",
       "    </tr>\n",
       "    <tr>\n",
       "      <th>15</th>\n",
       "      <td>GBM_grid_0_AutoML_20181010_191557_model_6</td>\n",
       "      <td>9.520704</td>\n",
       "      <td>3.085564</td>\n",
       "      <td>9.520704</td>\n",
       "      <td>2.256115</td>\n",
       "      <td>0.449195</td>\n",
       "    </tr>\n",
       "    <tr>\n",
       "      <th>16</th>\n",
       "      <td>GBM_grid_0_AutoML_20181010_191557_model_4</td>\n",
       "      <td>9.551538</td>\n",
       "      <td>3.090556</td>\n",
       "      <td>9.551538</td>\n",
       "      <td>2.263054</td>\n",
       "      <td>0.449149</td>\n",
       "    </tr>\n",
       "    <tr>\n",
       "      <th>17</th>\n",
       "      <td>DeepLearning_grid_0_AutoML_20181010_191557_mod...</td>\n",
       "      <td>9.602693</td>\n",
       "      <td>3.098821</td>\n",
       "      <td>9.602693</td>\n",
       "      <td>2.323650</td>\n",
       "      <td>0.439376</td>\n",
       "    </tr>\n",
       "    <tr>\n",
       "      <th>18</th>\n",
       "      <td>GBM_grid_0_AutoML_20181010_191557_model_5</td>\n",
       "      <td>10.192121</td>\n",
       "      <td>3.192510</td>\n",
       "      <td>10.192121</td>\n",
       "      <td>2.366234</td>\n",
       "      <td>0.458114</td>\n",
       "    </tr>\n",
       "    <tr>\n",
       "      <th>19</th>\n",
       "      <td>GBM_grid_0_AutoML_20181010_191557_model_7</td>\n",
       "      <td>10.713825</td>\n",
       "      <td>3.273198</td>\n",
       "      <td>10.713825</td>\n",
       "      <td>2.435078</td>\n",
       "      <td>0.463342</td>\n",
       "    </tr>\n",
       "  </tbody>\n",
       "</table>\n",
       "</div>"
      ],
      "text/plain": [
       "                                             model_id  mean_residual_deviance  \\\n",
       "0   StackedEnsemble_BestOfFamily_0_AutoML_20181010...                7.485344   \n",
       "1   StackedEnsemble_AllModels_0_AutoML_20181010_19...                7.573127   \n",
       "2           GBM_grid_0_AutoML_20181010_191557_model_8                7.811556   \n",
       "3           GBM_grid_0_AutoML_20181010_191557_model_1                7.845392   \n",
       "4           GLM_grid_0_AutoML_20181010_191557_model_0                7.912742   \n",
       "5           GBM_grid_0_AutoML_20181010_191557_model_3                8.012329   \n",
       "6           GBM_grid_0_AutoML_20181010_191557_model_0                8.063341   \n",
       "7           GBM_grid_0_AutoML_20181010_191557_model_2                8.102646   \n",
       "8               DeepLearning_0_AutoML_20181010_191557                8.151599   \n",
       "9           GBM_grid_0_AutoML_20181010_191557_model_9                8.155570   \n",
       "10                       DRF_0_AutoML_20181010_191557                8.489947   \n",
       "11                       XRT_0_AutoML_20181010_191557                8.542269   \n",
       "12  DeepLearning_grid_0_AutoML_20181010_191557_mod...                8.593892   \n",
       "13  DeepLearning_grid_0_AutoML_20181010_191557_mod...                8.812847   \n",
       "14  DeepLearning_grid_0_AutoML_20181010_191557_mod...                9.092287   \n",
       "15          GBM_grid_0_AutoML_20181010_191557_model_6                9.520704   \n",
       "16          GBM_grid_0_AutoML_20181010_191557_model_4                9.551538   \n",
       "17  DeepLearning_grid_0_AutoML_20181010_191557_mod...                9.602693   \n",
       "18          GBM_grid_0_AutoML_20181010_191557_model_5               10.192121   \n",
       "19          GBM_grid_0_AutoML_20181010_191557_model_7               10.713825   \n",
       "\n",
       "        rmse        mse       mae     rmsle  \n",
       "0   2.735936   7.485344  2.026561  0.411841  \n",
       "1   2.751931   7.573127  2.033503  0.415157  \n",
       "2   2.794916   7.811556  2.041864  0.423994  \n",
       "3   2.800963   7.845392  2.100409  0.415015  \n",
       "4   2.812960   7.912742  2.053549  0.424864  \n",
       "5   2.830606   8.012329  2.151019  0.413865  \n",
       "6   2.839602   8.063341  2.183160  0.411732  \n",
       "7   2.846515   8.102646  2.146512  0.417855  \n",
       "8   2.855100   8.151599  2.179320  0.414000  \n",
       "9   2.855796   8.155570  2.169238  0.412143  \n",
       "10  2.913751   8.489947  2.237955  0.414854  \n",
       "11  2.922716   8.542269  2.184097  0.423821  \n",
       "12  2.931534   8.593892  2.144623  0.433055  \n",
       "13  2.968644   8.812847  2.157047  0.442746  \n",
       "14  3.015342   9.092287  2.237695  0.435129  \n",
       "15  3.085564   9.520704  2.256115  0.449195  \n",
       "16  3.090556   9.551538  2.263054  0.449149  \n",
       "17  3.098821   9.602693  2.323650  0.439376  \n",
       "18  3.192510  10.192121  2.366234  0.458114  \n",
       "19  3.273198  10.713825  2.435078  0.463342  "
      ]
     },
     "execution_count": 38,
     "metadata": {},
     "output_type": "execute_result"
    }
   ],
   "source": [
    "# get leaderboard\n",
    "aml_leaderboard_df=aml.leaderboard.as_data_frame()\n",
    "aml_leaderboard_df"
   ]
  },
  {
   "cell_type": "markdown",
   "metadata": {},
   "source": [
    "### 6. Models Description"
   ]
  },
  {
   "cell_type": "code",
   "execution_count": 39,
   "metadata": {
    "collapsed": true
   },
   "outputs": [],
   "source": [
    "# Get model_set and top one model id\n",
    "model_set=aml_leaderboard_df['model_id']\n",
    "mod_best=h2o.get_model(model_set[0])"
   ]
  },
  {
   "cell_type": "code",
   "execution_count": 40,
   "metadata": {},
   "outputs": [
    {
     "name": "stdout",
     "output_type": "stream",
     "text": [
      "Model Details\n",
      "=============\n",
      "H2OStackedEnsembleEstimator :  Stacked Ensemble\n",
      "Model Key:  StackedEnsemble_BestOfFamily_0_AutoML_20181010_191557\n",
      "No model summary for this model\n",
      "\n",
      "\n",
      "ModelMetricsRegressionGLM: stackedensemble\n",
      "** Reported on train data. **\n",
      "\n",
      "MSE: 3.6053158147769655\n",
      "RMSE: 1.8987669195498866\n",
      "MAE: 1.402736576606822\n",
      "RMSLE: 0.3373138287927698\n",
      "R^2: 0.6669390113471156\n",
      "Mean Residual Deviance: 3.6053158147769655\n",
      "Null degrees of freedom: 468\n",
      "Residual degrees of freedom: 463\n",
      "Null deviance: 5076.827292110875\n",
      "Residual deviance: 1690.8931171303968\n",
      "AIC: 1946.4143394046466\n",
      "\n",
      "ModelMetricsRegressionGLM: stackedensemble\n",
      "** Reported on validation data. **\n",
      "\n",
      "MSE: 6.779674170771939\n",
      "RMSE: 2.6037807455260014\n",
      "MAE: 1.8465344808804802\n",
      "RMSLE: 0.3103928534826564\n",
      "R^2: 0.20078303417870713\n",
      "Mean Residual Deviance: 6.779674170771939\n",
      "Null degrees of freedom: 103\n",
      "Residual degrees of freedom: 98\n",
      "Null deviance: 886.8165492973754\n",
      "Residual deviance: 705.0861137602816\n",
      "AIC: 508.187835419053\n",
      "\n",
      "ModelMetricsRegressionGLM: stackedensemble\n",
      "** Reported on cross-validation data. **\n",
      "\n",
      "MSE: 7.485344446705858\n",
      "RMSE: 2.7359357533951445\n",
      "MAE: 2.0265607001370682\n",
      "RMSLE: 0.4118414783757856\n",
      "R^2: 0.30849990682953266\n",
      "Mean Residual Deviance: 7.485344446705858\n",
      "Null degrees of freedom: 468\n",
      "Residual degrees of freedom: 463\n",
      "Null deviance: 5082.36159915176\n",
      "Residual deviance: 3510.626545505047\n",
      "AIC: 2289.0365035969835\n"
     ]
    },
    {
     "data": {
      "text/plain": []
     },
     "execution_count": 40,
     "metadata": {},
     "output_type": "execute_result"
    }
   ],
   "source": [
    "mod_best"
   ]
  },
  {
   "cell_type": "code",
   "execution_count": 41,
   "metadata": {},
   "outputs": [
    {
     "name": "stdout",
     "output_type": "stream",
     "text": [
      "StackedEnsemble_BestOfFamily_0_AutoML_20181010_191557\n"
     ]
    }
   ],
   "source": [
    "# Get stacked ensemble model\n",
    "se=get_stacked_ensemble(model_set)\n",
    "print(se)\n",
    "mod_best_se=h2o.get_model(se)"
   ]
  },
  {
   "cell_type": "code",
   "execution_count": 42,
   "metadata": {},
   "outputs": [
    {
     "name": "stdout",
     "output_type": "stream",
     "text": [
      "Model Details\n",
      "=============\n",
      "H2OStackedEnsembleEstimator :  Stacked Ensemble\n",
      "Model Key:  StackedEnsemble_BestOfFamily_0_AutoML_20181010_191557\n",
      "No model summary for this model\n",
      "\n",
      "\n",
      "ModelMetricsRegressionGLM: stackedensemble\n",
      "** Reported on train data. **\n",
      "\n",
      "MSE: 3.6053158147769655\n",
      "RMSE: 1.8987669195498866\n",
      "MAE: 1.402736576606822\n",
      "RMSLE: 0.3373138287927698\n",
      "R^2: 0.6669390113471156\n",
      "Mean Residual Deviance: 3.6053158147769655\n",
      "Null degrees of freedom: 468\n",
      "Residual degrees of freedom: 463\n",
      "Null deviance: 5076.827292110875\n",
      "Residual deviance: 1690.8931171303968\n",
      "AIC: 1946.4143394046466\n",
      "\n",
      "ModelMetricsRegressionGLM: stackedensemble\n",
      "** Reported on validation data. **\n",
      "\n",
      "MSE: 6.779674170771939\n",
      "RMSE: 2.6037807455260014\n",
      "MAE: 1.8465344808804802\n",
      "RMSLE: 0.3103928534826564\n",
      "R^2: 0.20078303417870713\n",
      "Mean Residual Deviance: 6.779674170771939\n",
      "Null degrees of freedom: 103\n",
      "Residual degrees of freedom: 98\n",
      "Null deviance: 886.8165492973754\n",
      "Residual deviance: 705.0861137602816\n",
      "AIC: 508.187835419053\n",
      "\n",
      "ModelMetricsRegressionGLM: stackedensemble\n",
      "** Reported on cross-validation data. **\n",
      "\n",
      "MSE: 7.485344446705858\n",
      "RMSE: 2.7359357533951445\n",
      "MAE: 2.0265607001370682\n",
      "RMSLE: 0.4118414783757856\n",
      "R^2: 0.30849990682953266\n",
      "Mean Residual Deviance: 7.485344446705858\n",
      "Null degrees of freedom: 468\n",
      "Residual degrees of freedom: 463\n",
      "Null deviance: 5082.36159915176\n",
      "Residual deviance: 3510.626545505047\n",
      "AIC: 2289.0365035969835\n"
     ]
    },
    {
     "data": {
      "text/plain": []
     },
     "execution_count": 42,
     "metadata": {},
     "output_type": "execute_result"
    }
   ],
   "source": [
    "mod_best_se"
   ]
  },
  {
   "cell_type": "code",
   "execution_count": 43,
   "metadata": {},
   "outputs": [
    {
     "data": {
      "text/plain": [
       "['GBM_grid_0_AutoML_20181010_191557_model_8',\n",
       " 'GLM_grid_0_AutoML_20181010_191557_model_0',\n",
       " 'DRF_0_AutoML_20181010_191557',\n",
       " 'XRT_0_AutoML_20181010_191557',\n",
       " 'DeepLearning_0_AutoML_20181010_191557',\n",
       " 'StackedEnsemble_BestOfFamily_0_AutoML_20181010_191557']"
      ]
     },
     "execution_count": 43,
     "metadata": {},
     "output_type": "execute_result"
    }
   ],
   "source": [
    "# get the best model for different types\n",
    "bm=stackedensemble_df(aml_leaderboard_df)\n",
    "if se is not None:\n",
    "    bm.append(se)\n",
    "bm"
   ]
  },
  {
   "cell_type": "code",
   "execution_count": 44,
   "metadata": {},
   "outputs": [
    {
     "data": {
      "text/html": [
       "<div>\n",
       "<style>\n",
       "    .dataframe thead tr:only-child th {\n",
       "        text-align: right;\n",
       "    }\n",
       "\n",
       "    .dataframe thead th {\n",
       "        text-align: left;\n",
       "    }\n",
       "\n",
       "    .dataframe tbody tr th {\n",
       "        vertical-align: top;\n",
       "    }\n",
       "</style>\n",
       "<table border=\"1\" class=\"dataframe\">\n",
       "  <thead>\n",
       "    <tr style=\"text-align: right;\">\n",
       "      <th></th>\n",
       "      <th>model_id</th>\n",
       "      <th>mean_residual_deviance</th>\n",
       "      <th>rmse</th>\n",
       "      <th>mse</th>\n",
       "      <th>mae</th>\n",
       "      <th>rmsle</th>\n",
       "    </tr>\n",
       "  </thead>\n",
       "  <tbody>\n",
       "    <tr>\n",
       "      <th>0</th>\n",
       "      <td>StackedEnsemble_BestOfFamily_0_AutoML_20181010...</td>\n",
       "      <td>7.485344</td>\n",
       "      <td>2.735936</td>\n",
       "      <td>7.485344</td>\n",
       "      <td>2.026561</td>\n",
       "      <td>0.411841</td>\n",
       "    </tr>\n",
       "    <tr>\n",
       "      <th>2</th>\n",
       "      <td>GBM_grid_0_AutoML_20181010_191557_model_8</td>\n",
       "      <td>7.811556</td>\n",
       "      <td>2.794916</td>\n",
       "      <td>7.811556</td>\n",
       "      <td>2.041864</td>\n",
       "      <td>0.423994</td>\n",
       "    </tr>\n",
       "    <tr>\n",
       "      <th>4</th>\n",
       "      <td>GLM_grid_0_AutoML_20181010_191557_model_0</td>\n",
       "      <td>7.912742</td>\n",
       "      <td>2.812960</td>\n",
       "      <td>7.912742</td>\n",
       "      <td>2.053549</td>\n",
       "      <td>0.424864</td>\n",
       "    </tr>\n",
       "    <tr>\n",
       "      <th>8</th>\n",
       "      <td>DeepLearning_0_AutoML_20181010_191557</td>\n",
       "      <td>8.151599</td>\n",
       "      <td>2.855100</td>\n",
       "      <td>8.151599</td>\n",
       "      <td>2.179320</td>\n",
       "      <td>0.414000</td>\n",
       "    </tr>\n",
       "    <tr>\n",
       "      <th>10</th>\n",
       "      <td>DRF_0_AutoML_20181010_191557</td>\n",
       "      <td>8.489947</td>\n",
       "      <td>2.913751</td>\n",
       "      <td>8.489947</td>\n",
       "      <td>2.237955</td>\n",
       "      <td>0.414854</td>\n",
       "    </tr>\n",
       "    <tr>\n",
       "      <th>11</th>\n",
       "      <td>XRT_0_AutoML_20181010_191557</td>\n",
       "      <td>8.542269</td>\n",
       "      <td>2.922716</td>\n",
       "      <td>8.542269</td>\n",
       "      <td>2.184097</td>\n",
       "      <td>0.423821</td>\n",
       "    </tr>\n",
       "  </tbody>\n",
       "</table>\n",
       "</div>"
      ],
      "text/plain": [
       "                                             model_id  mean_residual_deviance  \\\n",
       "0   StackedEnsemble_BestOfFamily_0_AutoML_20181010...                7.485344   \n",
       "2           GBM_grid_0_AutoML_20181010_191557_model_8                7.811556   \n",
       "4           GLM_grid_0_AutoML_20181010_191557_model_0                7.912742   \n",
       "8               DeepLearning_0_AutoML_20181010_191557                8.151599   \n",
       "10                       DRF_0_AutoML_20181010_191557                8.489947   \n",
       "11                       XRT_0_AutoML_20181010_191557                8.542269   \n",
       "\n",
       "        rmse       mse       mae     rmsle  \n",
       "0   2.735936  7.485344  2.026561  0.411841  \n",
       "2   2.794916  7.811556  2.041864  0.423994  \n",
       "4   2.812960  7.912742  2.053549  0.424864  \n",
       "8   2.855100  8.151599  2.179320  0.414000  \n",
       "10  2.913751  8.489947  2.237955  0.414854  \n",
       "11  2.922716  8.542269  2.184097  0.423821  "
      ]
     },
     "execution_count": 44,
     "metadata": {},
     "output_type": "execute_result"
    }
   ],
   "source": [
    "# Best Models leaderboard\n",
    "aml_leaderboard_df_best=aml_leaderboard_df.loc[aml_leaderboard_df['model_id'].isin(bm)]\n",
    "aml_leaderboard_df_best"
   ]
  },
  {
   "cell_type": "code",
   "execution_count": 45,
   "metadata": {
    "collapsed": true
   },
   "outputs": [],
   "source": [
    "# save leaderboard\n",
    "leaderboard_stats = os.path.join(report_Path, run_id + '_leaderboard.csv')\n",
    "aml_leaderboard_df.to_csv(leaderboard_stats)\n",
    "\n",
    "leaderboard_stats = os.path.join(report_Path, run_id + '_BestModel_leaderboard.csv')\n",
    "aml_leaderboard_df_best.to_csv(leaderboard_stats)"
   ]
  },
  {
   "cell_type": "code",
   "execution_count": 46,
   "metadata": {},
   "outputs": [
    {
     "name": "stdout",
     "output_type": "stream",
     "text": [
      "StackedEnsemble_BestOfFamily_0_AutoML_20181010_191557\n",
      "stackedensemble\n"
     ]
    }
   ],
   "source": [
    "# get the best model and the algo and save all into meta_data\n",
    "print(mod_best._id)\n",
    "print(mod_best.algo)\n",
    "\n",
    "meta_data['mod_best']=mod_best._id\n",
    "meta_data['mod_best_algo']=mod_best.algo\n",
    "\n",
    "meta_data['models']=bm"
   ]
  },
  {
   "cell_type": "code",
   "execution_count": 47,
   "metadata": {
    "collapsed": true
   },
   "outputs": [],
   "source": [
    "# save all models\n",
    "for mod in bm:\n",
    "    try:   \n",
    "        m=h2o.get_model(mod) \n",
    "        h2o.save_model(m, path = model_Path)\n",
    "    except:    \n",
    "        pass"
   ]
  },
  {
   "cell_type": "markdown",
   "metadata": {},
   "source": [
    "### 7. Result & Prediction\n",
    "#### Best Model Prediction"
   ]
  },
  {
   "cell_type": "code",
   "execution_count": 48,
   "metadata": {},
   "outputs": [
    {
     "name": "stdout",
     "output_type": "stream",
     "text": [
      "stackedensemble prediction progress: |████████████████████████████████████| 100%\n"
     ]
    },
    {
     "data": {
      "text/html": [
       "<table>\n",
       "<thead>\n",
       "<tr><th style=\"text-align: right;\">  predict</th></tr>\n",
       "</thead>\n",
       "<tbody>\n",
       "<tr><td style=\"text-align: right;\">  13.9047</td></tr>\n",
       "<tr><td style=\"text-align: right;\">  13.7244</td></tr>\n",
       "<tr><td style=\"text-align: right;\">  13.1191</td></tr>\n",
       "<tr><td style=\"text-align: right;\">  14.4877</td></tr>\n",
       "<tr><td style=\"text-align: right;\">  13.6004</td></tr>\n",
       "</tbody>\n",
       "</table>"
      ]
     },
     "metadata": {},
     "output_type": "display_data"
    },
    {
     "data": {
      "text/plain": []
     },
     "execution_count": 48,
     "metadata": {},
     "output_type": "execute_result"
    }
   ],
   "source": [
    "predictions_df, mod_perf = predictions_test(mod_best,test,run_id, True)\n",
    "predictions_df.head(5)"
   ]
  },
  {
   "cell_type": "code",
   "execution_count": 49,
   "metadata": {},
   "outputs": [
    {
     "name": "stdout",
     "output_type": "stream",
     "text": [
      "Rows:76\n",
      "Cols:1\n",
      "\n",
      "\n"
     ]
    },
    {
     "data": {
      "text/html": [
       "<table>\n",
       "<thead>\n",
       "<tr><th>       </th><th>predict           </th></tr>\n",
       "</thead>\n",
       "<tbody>\n",
       "<tr><td>type   </td><td>real              </td></tr>\n",
       "<tr><td>mins   </td><td>6.299990807508829 </td></tr>\n",
       "<tr><td>mean   </td><td>11.844996837931243</td></tr>\n",
       "<tr><td>maxs   </td><td>15.074209178924177</td></tr>\n",
       "<tr><td>sigma  </td><td>2.100774939694718 </td></tr>\n",
       "<tr><td>zeros  </td><td>0                 </td></tr>\n",
       "<tr><td>missing</td><td>0                 </td></tr>\n",
       "<tr><td>0      </td><td>13.904683706353357</td></tr>\n",
       "<tr><td>1      </td><td>13.724424695311951</td></tr>\n",
       "<tr><td>2      </td><td>13.119149690752053</td></tr>\n",
       "<tr><td>3      </td><td>14.487746960948549</td></tr>\n",
       "<tr><td>4      </td><td>13.600401230041786</td></tr>\n",
       "<tr><td>5      </td><td>14.027660597132805</td></tr>\n",
       "<tr><td>6      </td><td>13.162457376436317</td></tr>\n",
       "<tr><td>7      </td><td>14.088299156050622</td></tr>\n",
       "<tr><td>8      </td><td>12.055195613919526</td></tr>\n",
       "<tr><td>9      </td><td>13.171134643164686</td></tr>\n",
       "</tbody>\n",
       "</table>"
      ]
     },
     "metadata": {},
     "output_type": "display_data"
    }
   ],
   "source": [
    "predictions_df.describe()"
   ]
  },
  {
   "cell_type": "code",
   "execution_count": 50,
   "metadata": {},
   "outputs": [
    {
     "name": "stdout",
     "output_type": "stream",
     "text": [
      "\n",
      "ModelMetricsRegressionGLM: stackedensemble\n",
      "** Reported on test data. **\n",
      "\n",
      "MSE: 7.189048876677989\n",
      "RMSE: 2.681240175120086\n",
      "MAE: 1.937190401620336\n",
      "RMSLE: 0.4197321069133541\n",
      "R^2: 0.3171302080040115\n",
      "Mean Residual Deviance: 7.189048876677989\n",
      "Null degrees of freedom: 75\n",
      "Residual degrees of freedom: 70\n",
      "Null deviance: 800.1942980801143\n",
      "Residual deviance: 546.3677146275272\n",
      "AIC: 379.5931318353933\n"
     ]
    },
    {
     "data": {
      "text/plain": []
     },
     "execution_count": 50,
     "metadata": {},
     "output_type": "execute_result"
    }
   ],
   "source": [
    "mod_perf"
   ]
  },
  {
   "cell_type": "markdown",
   "metadata": {
    "collapsed": true
   },
   "source": [
    "Check the performance on test dataset with best model, in this case, is the  \n",
    "StackedEnsemble_BestOfFamily_0_AutoML_20181010_143622 model\n",
    "  \n",
    "We can use MSE/RMSE/MAE/Mean Residual Deviance as the measurement for the model\n",
    "  \n",
    "Apperently,even with the best model, the prediction value is between 7 to 16, which means that the model has good preformance for for the middle grade and can not make good prediction if the true value is too high/low"
   ]
  },
  {
   "cell_type": "code",
   "execution_count": 51,
   "metadata": {},
   "outputs": [
    {
     "data": {
      "image/png": "[encoded data removed]",
      "text/plain": [
       "<matplotlib.figure.Figure at 0x115d32eb8>"
      ]
     },
     "metadata": {},
     "output_type": "display_data"
    }
   ],
   "source": [
    "actual_value = [test[x, 'G3'] for x in range(len(test['G3']))]\n",
    "pred_value = [predictions_df[x,0] for x in range(len(predictions_df[0]))]\n",
    "plot_result('Best Model Prediction', pred_value, actual_value)"
   ]
  },
  {
   "cell_type": "markdown",
   "metadata": {},
   "source": [
    "#### GBM"
   ]
  },
  {
   "cell_type": "code",
   "execution_count": 52,
   "metadata": {},
   "outputs": [
    {
     "data": {
      "text/plain": [
       "'GBM_grid_0_AutoML_20181010_191557_model_8'"
      ]
     },
     "execution_count": 52,
     "metadata": {},
     "output_type": "execute_result"
    }
   ],
   "source": [
    "# get the GBM model\n",
    "model_GBM, model_GBM_ID = get_model_by_algo('GBM', bm)\n",
    "model_GBM_ID"
   ]
  },
  {
   "cell_type": "code",
   "execution_count": 53,
   "metadata": {},
   "outputs": [
    {
     "name": "stdout",
     "output_type": "stream",
     "text": [
      "[('failures', 5637.93408203125, 1.0, 0.23475355808560253), ('higher', 2865.413818359375, 0.5082382618647105, 0.119310740327983), ('school', 2117.788330078125, 0.37563197782460106, 0.08818094332505724), ('Dalc', 1278.748291015625, 0.22681150088135016, 0.05324480684663272), ('goout', 1190.7755126953125, 0.21120777493487414, 0.04958177666130484), ('studytime', 1190.095458984375, 0.21108715385256938, 0.04955346043305366), ('Walc', 892.1583862304688, 0.1582420747120618, 0.037147890077504256), ('Medu', 841.3743286132812, 0.14923450972845512, 0.035033332147915305), ('age', 746.6205444335938, 0.1324280372154687, 0.031087952926623863), ('reason', 711.3329467773438, 0.12616907832328944, 0.02961864005677326), ('absences', 703.5897827148438, 0.12479567381911506, 0.029296228462727534), ('health', 698.6141357421875, 0.12391314364046074, 0.029089051363170512), ('Fedu', 657.2098999023438, 0.11656927703304441, 0.027365052546973485), ('famrel', 630.6414794921875, 0.11185683803968462, 0.02625879072602094), ('address', 523.4054565429688, 0.0928363916511764, 0.021793673259942182), ('freetime', 508.84979248046875, 0.09025465446682537, 0.021187601269873874), ('sex', 465.86376953125, 0.08263022638310226, 0.01939773964885208), ('schoolsup', 390.13623046875, 0.06919843772422941, 0.01624457946972784), ('traveltime', 388.9530029296875, 0.06898856873288495, 0.016195311977277888), ('Mjob', 369.3603515625, 0.06551342143919246, 0.015379508785212027), ('romantic', 228.7933349609375, 0.04058105888292103, 0.00952654796364706), ('famsup', 222.355224609375, 0.03943913167024193, 0.009258476487395863), ('famsize', 176.43875122070312, 0.03129492978341728, 0.007346596116696301), ('guardian', 165.06919860839844, 0.029278312978949703, 0.0068731881465523195), ('internet', 130.2786407470703, 0.023107514002741438, 0.005424571130656436), ('activities', 125.66157531738281, 0.022288585408949856, 0.005232324729445822), ('Pstatus', 74.96955871582031, 0.013297345734274721, 0.0031215992242154), ('nursery', 50.00630569458008, 0.008869615175877274, 0.002082173721387247), ('Fjob', 33.956398010253906, 0.006022844097889843, 0.0014138840817745117), ('paid', 0.0, 0.0, 0.0)]\n"
     ]
    }
   ],
   "source": [
    "# write scoring_history, statistic data into file\n",
    "if model_GBM is not None:\n",
    "    try:     \n",
    "        sh_df = model_GBM.scoring_history()\n",
    "        sh = os.path.join(report_Path, run_id + '_gbm_scoring_history.csv')\n",
    "        sh_df.to_csv(sh) \n",
    "    except:\n",
    "        pass\n",
    "    try:\n",
    "        stats_gbm = gbm_stats(model_GBM)\n",
    "        gbm_stats = os.path.join(report_Path, run_id + '_gbm_stats.json')\n",
    "        dict_to_json(stats_gbm,gbm_stats)\n",
    "        print(stats_gbm['varimp'])\n",
    "    except:\n",
    "        pass"
   ]
  },
  {
   "cell_type": "code",
   "execution_count": 54,
   "metadata": {},
   "outputs": [
    {
     "name": "stdout",
     "output_type": "stream",
     "text": [
      "gbm prediction progress: |████████████████████████████████████████████████| 100%\n"
     ]
    }
   ],
   "source": [
    "if model_GBM is not None:\n",
    "    predictions_df, mod_perf = predictions_test(model_GBM,test,run_id, False)\n",
    "else:\n",
    "    print('No Such Model')"
   ]
  },
  {
   "cell_type": "code",
   "execution_count": 55,
   "metadata": {},
   "outputs": [
    {
     "data": {
      "text/html": [
       "<table>\n",
       "<thead>\n",
       "<tr><th style=\"text-align: right;\">  predict</th></tr>\n",
       "</thead>\n",
       "<tbody>\n",
       "<tr><td style=\"text-align: right;\">  13.4323</td></tr>\n",
       "<tr><td style=\"text-align: right;\">  13.2623</td></tr>\n",
       "<tr><td style=\"text-align: right;\">  12.8682</td></tr>\n",
       "<tr><td style=\"text-align: right;\">  13.8719</td></tr>\n",
       "<tr><td style=\"text-align: right;\">  13.2403</td></tr>\n",
       "</tbody>\n",
       "</table>"
      ]
     },
     "metadata": {},
     "output_type": "display_data"
    },
    {
     "data": {
      "text/plain": []
     },
     "execution_count": 55,
     "metadata": {},
     "output_type": "execute_result"
    }
   ],
   "source": [
    "predictions_df.head(5)"
   ]
  },
  {
   "cell_type": "code",
   "execution_count": 56,
   "metadata": {},
   "outputs": [
    {
     "name": "stdout",
     "output_type": "stream",
     "text": [
      "Rows:76\n",
      "Cols:1\n",
      "\n",
      "\n"
     ]
    },
    {
     "data": {
      "text/html": [
       "<table>\n",
       "<thead>\n",
       "<tr><th>       </th><th>predict           </th></tr>\n",
       "</thead>\n",
       "<tbody>\n",
       "<tr><td>type   </td><td>real              </td></tr>\n",
       "<tr><td>mins   </td><td>7.319902390355804 </td></tr>\n",
       "<tr><td>mean   </td><td>11.858788322719112</td></tr>\n",
       "<tr><td>maxs   </td><td>14.055154292958417</td></tr>\n",
       "<tr><td>sigma  </td><td>1.593225736197101 </td></tr>\n",
       "<tr><td>zeros  </td><td>0                 </td></tr>\n",
       "<tr><td>missing</td><td>0                 </td></tr>\n",
       "<tr><td>0      </td><td>13.432290880123713</td></tr>\n",
       "<tr><td>1      </td><td>13.26226360731884 </td></tr>\n",
       "<tr><td>2      </td><td>12.868173543827236</td></tr>\n",
       "<tr><td>3      </td><td>13.871860173026601</td></tr>\n",
       "<tr><td>4      </td><td>13.240294596760162</td></tr>\n",
       "<tr><td>5      </td><td>13.119372811282613</td></tr>\n",
       "<tr><td>6      </td><td>12.822063890447264</td></tr>\n",
       "<tr><td>7      </td><td>13.404255485625566</td></tr>\n",
       "<tr><td>8      </td><td>12.13829462905191 </td></tr>\n",
       "<tr><td>9      </td><td>12.650860917995981</td></tr>\n",
       "</tbody>\n",
       "</table>"
      ]
     },
     "metadata": {},
     "output_type": "display_data"
    }
   ],
   "source": [
    "predictions_df.describe()"
   ]
  },
  {
   "cell_type": "code",
   "execution_count": 57,
   "metadata": {},
   "outputs": [
    {
     "name": "stdout",
     "output_type": "stream",
     "text": [
      "\n",
      "ModelMetricsRegression: gbm\n",
      "** Reported on test data. **\n",
      "\n",
      "MSE: 7.20851349104132\n",
      "RMSE: 2.684867499717876\n",
      "MAE: 1.8760078900816584\n",
      "RMSLE: 0.4249908739113054\n",
      "Mean Residual Deviance: 7.20851349104132\n"
     ]
    },
    {
     "data": {
      "text/plain": []
     },
     "execution_count": 57,
     "metadata": {},
     "output_type": "execute_result"
    }
   ],
   "source": [
    "mod_perf"
   ]
  },
  {
   "cell_type": "markdown",
   "metadata": {
    "collapsed": true
   },
   "source": [
    "Very similiar performance with the previous best model"
   ]
  },
  {
   "cell_type": "code",
   "execution_count": 58,
   "metadata": {},
   "outputs": [
    {
     "data": {
      "image/png": "[encoded data removed]",
      "text/plain": [
       "<matplotlib.figure.Figure at 0x11ae6a240>"
      ]
     },
     "metadata": {},
     "output_type": "display_data"
    }
   ],
   "source": [
    "pred_value = [predictions_df[x,0] for x in range(len(predictions_df[0]))]\n",
    "plot_result('GBM Model Prediction', pred_value, actual_value)"
   ]
  },
  {
   "cell_type": "markdown",
   "metadata": {},
   "source": [
    "#### DeepLearning"
   ]
  },
  {
   "cell_type": "code",
   "execution_count": 59,
   "metadata": {},
   "outputs": [
    {
     "data": {
      "text/plain": [
       "'DeepLearning_0_AutoML_20181010_191557'"
      ]
     },
     "execution_count": 59,
     "metadata": {},
     "output_type": "execute_result"
    }
   ],
   "source": [
    "# get the DeepLearning model\n",
    "model_DEE, model_DEE_ID = get_model_by_algo('Dee', bm)\n",
    "model_DEE_ID"
   ]
  },
  {
   "cell_type": "code",
   "execution_count": 60,
   "metadata": {},
   "outputs": [
    {
     "name": "stdout",
     "output_type": "stream",
     "text": [
      "[('traveltime.1', 1.0, 1.0, 0.016236126607063944), ('health.2', 0.9968594312667847, 0.9968594312667847, 0.016185135935493273), ('Walc.4', 0.9751612544059753, 0.9751612544059753, 0.015832841588838707), ('goout.2', 0.8980069756507874, 0.8980069756507874, 0.01458015495069277), ('failures', 0.8574552536010742, 0.8574552536010742, 0.013921752057359162), ('Pstatus.T', 0.8474861979484558, 0.8474861979484558, 0.013759893207630382), ('schoolsup.yes', 0.8467555046081543, 0.8467555046081543, 0.013748029578046309), ('Fjob.health', 0.8446078896522522, 0.8446078896522522, 0.013713160629719058), ('Mjob.services', 0.8222979307174683, 0.8222979307174683, 0.013350933311855509), ('famsize.GT3', 0.8079478144645691, 0.8079478144645691, 0.013117943007547352), ('goout.1', 0.8051018118858337, 0.8051018118858337, 0.013071734949354975), ('reason.course', 0.8049784898757935, 0.8049784898757935, 0.013069732677586522), ('guardian.father', 0.799597442150116, 0.799597442150116, 0.01298236530543377), ('nursery.yes', 0.7898646593093872, 0.7898646593093872, 0.012824342610992637), ('studytime.2', 0.7736865878105164, 0.7736865878105164, 0.012561673393878838), ('Walc.2', 0.758036196231842, 0.758036196231842, 0.012307571654757354), ('higher.yes', 0.7556588053703308, 0.7556588053703308, 0.012268972035735381), ('Dalc.2', 0.7545300722122192, 0.7545300722122192, 0.01225064578127469), ('famrel.4', 0.7501190304756165, 0.7501190304756165, 0.012179027549170164), ('school.GP', 0.7483000755310059, 0.7483000755310059, 0.012149494766396922), ('paid.no', 0.7438518404960632, 0.7438518404960632, 0.012077272659191616), ('freetime.4', 0.7421848773956299, 0.7421848773956299, 0.012050207635243676), ('famrel.3', 0.7366514801979065, 0.7366514801979065, 0.011960366697774267), ('famsup.no', 0.730472981929779, 0.730472981929779, 0.011860051817651424), ('address.U', 0.7260043025016785, 0.7260043025016785, 0.0117874977726904), ('reason.other', 0.7223593592643738, 0.7223593592643738, 0.011728318012813961), ('health.1', 0.7215175628662109, 0.7215175628662109, 0.011714650499916018), ('Fedu.1', 0.7192302346229553, 0.7192302346229553, 0.011677513148966607), ('famrel.1', 0.7182344794273376, 0.7182344794273376, 0.011661345941540916), ('sex.F', 0.7135273218154907, 0.7135273218154907, 0.011584919934595565), ('age', 0.7099503874778748, 0.7099503874778748, 0.011526844375824878), ('Medu.2', 0.7045609354972839, 0.7045609354972839, 0.011439340551125315), ('studytime.1', 0.7040897607803345, 0.7040897607803345, 0.011431690498766875), ('Fjob.at_home', 0.7016187310218811, 0.7016187310218811, 0.011391570546758803), ('internet.no', 0.699924111366272, 0.699924111366272, 0.011364056487479514), ('Pstatus.A', 0.6997888684272766, 0.6997888684272766, 0.011361860665999274), ('activities.yes', 0.698137104511261, 0.698137104511261, 0.011335042417933865), ('higher.no', 0.6896089911460876, 0.6896089911460876, 0.011196578889617517), ('Dalc.5', 0.6872960925102234, 0.6872960925102234, 0.01115902637453632), ('Walc.1', 0.6788402795791626, 0.6788402795791626, 0.011021736725221968), ('Walc.5', 0.674340546131134, 0.674340546131134, 0.010948678483261736), ('absences', 0.6735978722572327, 0.6735978722572327, 0.010936620336217314), ('Dalc.3', 0.6683136820793152, 0.6683136820793152, 0.010850825555472843), ('guardian.mother', 0.6673729419708252, 0.6673729419708252, 0.010835551579967056), ('internet.yes', 0.6633813977241516, 0.6633813977241516, 0.010770744362220365), ('Dalc.4', 0.6591724157333374, 0.6591724157333374, 0.010702406797730653), ('Fjob.other', 0.6546857953071594, 0.6546857953071594, 0.01062956146045339), ('reason.home', 0.6537437438964844, 0.6537437438964844, 0.010614266194479307), ('freetime.1', 0.6512401700019836, 0.6512401700019836, 0.010573617851758052), ('romantic.no', 0.6510522365570068, 0.6510522365570068, 0.010570566540551708), ('health.5', 0.6476638317108154, 0.6476638317108154, 0.010515551970472953), ('health.3', 0.647509753704071, 0.647509753704071, 0.010513050340448088), ('activities.no', 0.6474834680557251, 0.6474834680557251, 0.010512623563333594), ('studytime.3', 0.6312212944030762, 0.6312212944030762, 0.010248588853003128), ('Medu.0', 0.6260340809822083, 0.6260340809822083, 0.010164368599164055), ('goout.5', 0.6238678693771362, 0.6238678693771362, 0.010129197713286414), ('Fedu.3', 0.6210334300994873, 0.6210334300994873, 0.01008317739831447), ('studytime.4', 0.6184772849082947, 0.6184772849082947, 0.01004167550136423), ('Medu.3', 0.6169580817222595, 0.6169580817222595, 0.010017009526093908), ('goout.4', 0.6112790107727051, 0.6112790107727051, 0.009924803411146443), ('Walc.3', 0.6075801849365234, 0.6075801849365234, 0.00986474880657272), ('address.R', 0.6051263213157654, 0.6051263213157654, 0.009824907566149623), ('Mjob.teacher', 0.6048026084899902, 0.6048026084899902, 0.009819651723726007), ('Mjob.other', 0.5948523283004761, 0.5948523283004761, 0.009658097714793295), ('romantic.yes', 0.5900176167488098, 0.5900176167488098, 0.009579600725931807), ('guardian.other', 0.5846330523490906, 0.5846330523490906, 0.009492176256614077), ('Fjob.teacher', 0.5832115411758423, 0.5832115411758423, 0.009469096421231862), ('goout.3', 0.5735747814178467, 0.5735747814178467, 0.009312632769719185), ('Medu.4', 0.5726124048233032, 0.5726124048233032, 0.009297007501486503), ('Mjob.at_home', 0.5600025057792664, 0.5600025057792664, 0.009092271584105225), ('schoolsup.no', 0.5599229335784912, 0.5599229335784912, 0.009090979639779038), ('famsup.yes', 0.557075023651123, 0.557075023651123, 0.009044740613632774), ('sex.M', 0.556512713432312, 0.556512713432312, 0.009035610873727713), ('traveltime.4', 0.5528416037559509, 0.5528416037559509, 0.008976006272233897), ('freetime.5', 0.5484815835952759, 0.5484815835952759, 0.008905216432895826), ('famrel.2', 0.5474488735198975, 0.5474488735198975, 0.00888844922136359), ('school.MS', 0.543919563293457, 0.543919563293457, 0.008831146893691497), ('nursery.no', 0.5217127799987793, 0.5217127799987793, 0.008470594748583478), ('Dalc.1', 0.5208920240402222, 0.5208920240402222, 0.008457268850926842), ('reason.reputation', 0.5201066732406616, 0.5201066732406616, 0.008444517795914219), ('freetime.2', 0.5183774828910828, 0.5183774828910828, 0.008416442442470742), ('Medu.1', 0.5159387588500977, 0.5159387588500977, 0.008376847010181617), ('traveltime.3', 0.5028977990150452, 0.5028977990150452, 0.00816511233522207), ('Mjob.health', 0.4980064034461975, 0.4980064034461975, 0.008085695017481027), ('Fedu.0', 0.4925317168235779, 0.4925317168235779, 0.007996807312342176), ('famrel.5', 0.48367050290107727, 0.48367050290107727, 0.007852935521204179), ('Fedu.2', 0.47069481015205383, 0.47069481015205383, 0.007642260530916672), ('Fjob.services', 0.46968817710876465, 0.46968817710876465, 0.007625916709378975), ('traveltime.2', 0.4474642276763916, 0.4474642276763916, 0.007265085852685979), ('Fedu.4', 0.43704795837402344, 0.43704795837402344, 0.007095965985519456), ('health.4', 0.43686816096305847, 0.43686816096305847, 0.007093046771991407), ('freetime.3', 0.41205331683158875, 0.41205331683158875, 0.006690149820938306), ('paid.yes', 0.4051419794559479, 0.4051419794559479, 0.006577936472283268), ('famsize.LE3', 0.4026062786579132, 0.4026062786579132, 0.0065367665130887445), ('Medu.missing(NA)', 0.0, 0.0, 0.0), ('Fedu.missing(NA)', 0.0, 0.0, 0.0), ('Mjob.missing(NA)', 0.0, 0.0, 0.0), ('Fjob.missing(NA)', 0.0, 0.0, 0.0), ('famrel.missing(NA)', 0.0, 0.0, 0.0), ('freetime.missing(NA)', 0.0, 0.0, 0.0), ('goout.missing(NA)', 0.0, 0.0, 0.0), ('Dalc.missing(NA)', 0.0, 0.0, 0.0), ('Walc.missing(NA)', 0.0, 0.0, 0.0), ('health.missing(NA)', 0.0, 0.0, 0.0), ('reason.missing(NA)', 0.0, 0.0, 0.0), ('traveltime.missing(NA)', 0.0, 0.0, 0.0), ('studytime.missing(NA)', 0.0, 0.0, 0.0), ('guardian.missing(NA)', 0.0, 0.0, 0.0), ('famsup.missing(NA)', 0.0, 0.0, 0.0), ('paid.missing(NA)', 0.0, 0.0, 0.0), ('activities.missing(NA)', 0.0, 0.0, 0.0), ('nursery.missing(NA)', 0.0, 0.0, 0.0), ('higher.missing(NA)', 0.0, 0.0, 0.0), ('internet.missing(NA)', 0.0, 0.0, 0.0), ('romantic.missing(NA)', 0.0, 0.0, 0.0), ('famsize.missing(NA)', 0.0, 0.0, 0.0), ('Pstatus.missing(NA)', 0.0, 0.0, 0.0), ('school.missing(NA)', 0.0, 0.0, 0.0), ('sex.missing(NA)', 0.0, 0.0, 0.0), ('address.missing(NA)', 0.0, 0.0, 0.0), ('schoolsup.missing(NA)', 0.0, 0.0, 0.0)]"
     ]
    },
    {
     "name": "stdout",
     "output_type": "stream",
     "text": [
      "\n"
     ]
    }
   ],
   "source": [
    "# write scoring_history, statistic data, confusion_matrix into file\n",
    "if model_DEE is not None:\n",
    "    try:     \n",
    "        sh_df = model_DEE.scoring_history()\n",
    "        sh = os.path.join(report_Path, run_id + '_dl_scoring_history.csv')\n",
    "        sh_df.to_csv(sh) \n",
    "    except:\n",
    "        pass   \n",
    "    try:\n",
    "        stats_dl = dl_stats(model_DEE)\n",
    "        dl_stats = os.path.join(report_Path, run_id + '_dl_stats.json')\n",
    "        dict_to_json(stats_dl,dl_stats)\n",
    "        print(stats_dl['varimp'])\n",
    "    except:\n",
    "        pass\n",
    "    try:\n",
    "        cf = model_DEE.confusion_matrix()    \n",
    "        cf_df.to_csv(os.path.join(report_Path, run_id + '_dl_confusion_matrix.csv'))\n",
    "    except:\n",
    "        pass"
   ]
  },
  {
   "cell_type": "code",
   "execution_count": 61,
   "metadata": {},
   "outputs": [
    {
     "name": "stdout",
     "output_type": "stream",
     "text": [
      "deeplearning prediction progress: |███████████████████████████████████████| 100%\n"
     ]
    }
   ],
   "source": [
    "if model_DEE is not None:\n",
    "    predictions_df, mod_perf = predictions_test(model_DEE,test,run_id, False)\n",
    "else:\n",
    "    print('No Such Model')"
   ]
  },
  {
   "cell_type": "code",
   "execution_count": 62,
   "metadata": {},
   "outputs": [
    {
     "data": {
      "text/html": [
       "<table>\n",
       "<thead>\n",
       "<tr><th style=\"text-align: right;\">  predict</th></tr>\n",
       "</thead>\n",
       "<tbody>\n",
       "<tr><td style=\"text-align: right;\">  14.5228</td></tr>\n",
       "<tr><td style=\"text-align: right;\">  14.698 </td></tr>\n",
       "<tr><td style=\"text-align: right;\">  13.4193</td></tr>\n",
       "<tr><td style=\"text-align: right;\">  15.1767</td></tr>\n",
       "<tr><td style=\"text-align: right;\">  13.715 </td></tr>\n",
       "</tbody>\n",
       "</table>"
      ]
     },
     "metadata": {},
     "output_type": "display_data"
    },
    {
     "data": {
      "text/plain": []
     },
     "execution_count": 62,
     "metadata": {},
     "output_type": "execute_result"
    }
   ],
   "source": [
    "predictions_df.head(5)"
   ]
  },
  {
   "cell_type": "code",
   "execution_count": 63,
   "metadata": {},
   "outputs": [
    {
     "name": "stdout",
     "output_type": "stream",
     "text": [
      "Rows:76\n",
      "Cols:1\n",
      "\n",
      "\n"
     ]
    },
    {
     "data": {
      "text/html": [
       "<table>\n",
       "<thead>\n",
       "<tr><th>       </th><th>predict           </th></tr>\n",
       "</thead>\n",
       "<tbody>\n",
       "<tr><td>type   </td><td>real              </td></tr>\n",
       "<tr><td>mins   </td><td>5.040875484932056 </td></tr>\n",
       "<tr><td>mean   </td><td>12.213926030694198</td></tr>\n",
       "<tr><td>maxs   </td><td>15.756755400423877</td></tr>\n",
       "<tr><td>sigma  </td><td>2.3824014787656718</td></tr>\n",
       "<tr><td>zeros  </td><td>0                 </td></tr>\n",
       "<tr><td>missing</td><td>0                 </td></tr>\n",
       "<tr><td>0      </td><td>14.522837028849803</td></tr>\n",
       "<tr><td>1      </td><td>14.697974632393011</td></tr>\n",
       "<tr><td>2      </td><td>13.419313386555825</td></tr>\n",
       "<tr><td>3      </td><td>15.176719183213935</td></tr>\n",
       "<tr><td>4      </td><td>13.714971912315047</td></tr>\n",
       "<tr><td>5      </td><td>14.743435718502008</td></tr>\n",
       "<tr><td>6      </td><td>13.965202993385214</td></tr>\n",
       "<tr><td>7      </td><td>14.705371091485201</td></tr>\n",
       "<tr><td>8      </td><td>12.02605732566026 </td></tr>\n",
       "<tr><td>9      </td><td>14.463773580252035</td></tr>\n",
       "</tbody>\n",
       "</table>"
      ]
     },
     "metadata": {},
     "output_type": "display_data"
    }
   ],
   "source": [
    "predictions_df.describe()"
   ]
  },
  {
   "cell_type": "code",
   "execution_count": 64,
   "metadata": {},
   "outputs": [
    {
     "name": "stdout",
     "output_type": "stream",
     "text": [
      "\n",
      "ModelMetricsRegression: deeplearning\n",
      "** Reported on test data. **\n",
      "\n",
      "MSE: 8.182538139004158\n",
      "RMSE: 2.8605136145461985\n",
      "MAE: 2.2064112895819408\n",
      "RMSLE: 0.4265067965520003\n",
      "Mean Residual Deviance: 8.182538139004158\n"
     ]
    },
    {
     "data": {
      "text/plain": []
     },
     "execution_count": 64,
     "metadata": {},
     "output_type": "execute_result"
    }
   ],
   "source": [
    "mod_perf"
   ]
  },
  {
   "cell_type": "markdown",
   "metadata": {
    "collapsed": true
   },
   "source": [
    "This model preform even worse when the true value is too high/low"
   ]
  },
  {
   "cell_type": "code",
   "execution_count": 65,
   "metadata": {},
   "outputs": [
    {
     "data": {
      "image/png": "[encoded data removed]",
      "text/plain": [
       "<matplotlib.figure.Figure at 0x11af3ffd0>"
      ]
     },
     "metadata": {},
     "output_type": "display_data"
    }
   ],
   "source": [
    "pred_value = [predictions_df[x,0] for x in range(len(predictions_df[0]))]\n",
    "plot_result('DL Model Prediction', pred_value, actual_value)"
   ]
  },
  {
   "cell_type": "markdown",
   "metadata": {},
   "source": [
    "#### DRF"
   ]
  },
  {
   "cell_type": "code",
   "execution_count": 66,
   "metadata": {},
   "outputs": [
    {
     "data": {
      "text/plain": [
       "'DRF_0_AutoML_20181010_191557'"
      ]
     },
     "execution_count": 66,
     "metadata": {},
     "output_type": "execute_result"
    }
   ],
   "source": [
    "# get the DRF model\n",
    "model_DRF, model_DRF_ID = get_model_by_algo('DRF', bm)\n",
    "model_DRF_ID"
   ]
  },
  {
   "cell_type": "code",
   "execution_count": 67,
   "metadata": {
    "collapsed": true
   },
   "outputs": [],
   "source": [
    "# write scoring_history, statistic data into file\n",
    "if model_DRF is not None:\n",
    "    try:     \n",
    "        sh_df = model_DRF.scoring_history()\n",
    "        sh = os.path.join(report_Path, run_id + '_drf_scoring_history.csv')\n",
    "        sh_df.to_csv(sh) \n",
    "    except:\n",
    "        pass   \n",
    "    try:\n",
    "        stats_drf = drf_stats(model_DRF)\n",
    "        drf_stats = os.path.join(report_Path, run_id + '_drf_stats.json')\n",
    "        dict_to_json(stats_drf,drf_stats)\n",
    "        print(stats_drf['varimp'])\n",
    "    except:\n",
    "        pass"
   ]
  },
  {
   "cell_type": "code",
   "execution_count": 68,
   "metadata": {},
   "outputs": [
    {
     "name": "stdout",
     "output_type": "stream",
     "text": [
      "drf prediction progress: |████████████████████████████████████████████████| 100%\n"
     ]
    }
   ],
   "source": [
    "if model_DRF is not None:\n",
    "    predictions_df, mod_perf = predictions_test(model_DRF,test,run_id, False)\n",
    "else:\n",
    "    print('No Such Model')"
   ]
  },
  {
   "cell_type": "code",
   "execution_count": 69,
   "metadata": {},
   "outputs": [
    {
     "data": {
      "text/html": [
       "<table>\n",
       "<thead>\n",
       "<tr><th style=\"text-align: right;\">  predict</th></tr>\n",
       "</thead>\n",
       "<tbody>\n",
       "<tr><td style=\"text-align: right;\">  12.1111</td></tr>\n",
       "<tr><td style=\"text-align: right;\">  12.5556</td></tr>\n",
       "<tr><td style=\"text-align: right;\">  12.7778</td></tr>\n",
       "<tr><td style=\"text-align: right;\">  13.2222</td></tr>\n",
       "<tr><td style=\"text-align: right;\">  13.1111</td></tr>\n",
       "</tbody>\n",
       "</table>"
      ]
     },
     "metadata": {},
     "output_type": "display_data"
    },
    {
     "data": {
      "text/plain": []
     },
     "execution_count": 69,
     "metadata": {},
     "output_type": "execute_result"
    }
   ],
   "source": [
    "predictions_df.head(5)"
   ]
  },
  {
   "cell_type": "code",
   "execution_count": 70,
   "metadata": {},
   "outputs": [
    {
     "name": "stdout",
     "output_type": "stream",
     "text": [
      "Rows:76\n",
      "Cols:1\n",
      "\n",
      "\n"
     ]
    },
    {
     "data": {
      "text/html": [
       "<table>\n",
       "<thead>\n",
       "<tr><th>       </th><th>predict           </th></tr>\n",
       "</thead>\n",
       "<tbody>\n",
       "<tr><td>type   </td><td>real              </td></tr>\n",
       "<tr><td>mins   </td><td>6.888888888888889 </td></tr>\n",
       "<tr><td>mean   </td><td>11.579434697390997</td></tr>\n",
       "<tr><td>maxs   </td><td>15.444444444444445</td></tr>\n",
       "<tr><td>sigma  </td><td>2.0356466986529456</td></tr>\n",
       "<tr><td>zeros  </td><td>0                 </td></tr>\n",
       "<tr><td>missing</td><td>0                 </td></tr>\n",
       "<tr><td>0      </td><td>12.11111111111111 </td></tr>\n",
       "<tr><td>1      </td><td>12.555555555555555</td></tr>\n",
       "<tr><td>2      </td><td>12.777777777777779</td></tr>\n",
       "<tr><td>3      </td><td>13.222222222222221</td></tr>\n",
       "<tr><td>4      </td><td>13.11111111111111 </td></tr>\n",
       "<tr><td>5      </td><td>15.0              </td></tr>\n",
       "<tr><td>6      </td><td>12.11111111111111 </td></tr>\n",
       "<tr><td>7      </td><td>14.333333333333334</td></tr>\n",
       "<tr><td>8      </td><td>11.88888888888889 </td></tr>\n",
       "<tr><td>9      </td><td>12.11111111111111 </td></tr>\n",
       "</tbody>\n",
       "</table>"
      ]
     },
     "metadata": {},
     "output_type": "display_data"
    }
   ],
   "source": [
    "predictions_df.describe()"
   ]
  },
  {
   "cell_type": "code",
   "execution_count": 71,
   "metadata": {},
   "outputs": [
    {
     "name": "stdout",
     "output_type": "stream",
     "text": [
      "\n",
      "ModelMetricsRegression: drf\n",
      "** Reported on test data. **\n",
      "\n",
      "MSE: 8.37049671490092\n",
      "RMSE: 2.893181071917366\n",
      "MAE: 2.1145224166892427\n",
      "RMSLE: 0.42962175850702045\n",
      "Mean Residual Deviance: 8.37049671490092\n"
     ]
    },
    {
     "data": {
      "text/plain": []
     },
     "execution_count": 71,
     "metadata": {},
     "output_type": "execute_result"
    }
   ],
   "source": [
    "mod_perf"
   ]
  },
  {
   "cell_type": "markdown",
   "metadata": {
    "collapsed": true
   },
   "source": [
    "This model have good Mean Residual Deviance, similiar performance with the others"
   ]
  },
  {
   "cell_type": "code",
   "execution_count": 72,
   "metadata": {},
   "outputs": [
    {
     "data": {
      "image/png": "[encoded data removed]",
      "text/plain": [
       "<matplotlib.figure.Figure at 0x11afce2b0>"
      ]
     },
     "metadata": {},
     "output_type": "display_data"
    }
   ],
   "source": [
    "pred_value = [predictions_df[x,0] for x in range(len(predictions_df[0]))]\n",
    "plot_result('DRF Model Prediction', pred_value, actual_value)"
   ]
  },
  {
   "cell_type": "markdown",
   "metadata": {},
   "source": [
    "#### XRT"
   ]
  },
  {
   "cell_type": "code",
   "execution_count": 73,
   "metadata": {},
   "outputs": [
    {
     "data": {
      "text/plain": [
       "'XRT_0_AutoML_20181010_191557'"
      ]
     },
     "execution_count": 73,
     "metadata": {},
     "output_type": "execute_result"
    }
   ],
   "source": [
    "# get the XRT model\n",
    "model_XRT, model_XRT_ID = get_model_by_algo('XRT', bm)\n",
    "model_XRT_ID"
   ]
  },
  {
   "cell_type": "code",
   "execution_count": 74,
   "metadata": {
    "collapsed": true
   },
   "outputs": [],
   "source": [
    "# write scoring_history, statistic data into file\n",
    "if model_XRT is not None:\n",
    "    try:     \n",
    "        sh_df = model_XRT.scoring_history()\n",
    "        sh = os.path.join(report_Path, run_id + '_xrt_scoring_history.csv')\n",
    "        sh_df.to_csv(sh) \n",
    "    except:\n",
    "        pass   \n",
    "    try:\n",
    "        stats_xrt = xrt_stats(model_XRT)\n",
    "        xrt_stats = os.path.join(report_Path, run_id + '_xrt_stats.json')\n",
    "        dict_to_json(stats_xrt,xrt_stats)\n",
    "        print(stats_xrt['varimp'])\n",
    "    except:\n",
    "        pass"
   ]
  },
  {
   "cell_type": "code",
   "execution_count": 75,
   "metadata": {},
   "outputs": [
    {
     "name": "stdout",
     "output_type": "stream",
     "text": [
      "drf prediction progress: |████████████████████████████████████████████████| 100%\n"
     ]
    }
   ],
   "source": [
    "if model_XRT is not None:\n",
    "    predictions_df, mod_perf = predictions_test(model_XRT,test,run_id, False)\n",
    "else:\n",
    "    print('No Such Model')"
   ]
  },
  {
   "cell_type": "code",
   "execution_count": 76,
   "metadata": {},
   "outputs": [
    {
     "data": {
      "text/html": [
       "<table>\n",
       "<thead>\n",
       "<tr><th style=\"text-align: right;\">  predict</th></tr>\n",
       "</thead>\n",
       "<tbody>\n",
       "<tr><td style=\"text-align: right;\">  14.2727</td></tr>\n",
       "<tr><td style=\"text-align: right;\">  12.3636</td></tr>\n",
       "<tr><td style=\"text-align: right;\">  12.7727</td></tr>\n",
       "<tr><td style=\"text-align: right;\">  13.8182</td></tr>\n",
       "<tr><td style=\"text-align: right;\">  14     </td></tr>\n",
       "</tbody>\n",
       "</table>"
      ]
     },
     "metadata": {},
     "output_type": "display_data"
    },
    {
     "data": {
      "text/plain": []
     },
     "execution_count": 76,
     "metadata": {},
     "output_type": "execute_result"
    }
   ],
   "source": [
    "predictions_df.head(5)"
   ]
  },
  {
   "cell_type": "code",
   "execution_count": 77,
   "metadata": {},
   "outputs": [
    {
     "name": "stdout",
     "output_type": "stream",
     "text": [
      "Rows:76\n",
      "Cols:1\n",
      "\n",
      "\n"
     ]
    },
    {
     "data": {
      "text/html": [
       "<table>\n",
       "<thead>\n",
       "<tr><th>       </th><th>predict           </th></tr>\n",
       "</thead>\n",
       "<tbody>\n",
       "<tr><td>type   </td><td>real              </td></tr>\n",
       "<tr><td>mins   </td><td>6.863636363636363 </td></tr>\n",
       "<tr><td>mean   </td><td>11.53915470524838 </td></tr>\n",
       "<tr><td>maxs   </td><td>14.909090909090908</td></tr>\n",
       "<tr><td>sigma  </td><td>1.900311076803083 </td></tr>\n",
       "<tr><td>zeros  </td><td>0                 </td></tr>\n",
       "<tr><td>missing</td><td>0                 </td></tr>\n",
       "<tr><td>0      </td><td>14.272727272727273</td></tr>\n",
       "<tr><td>1      </td><td>12.363636363636363</td></tr>\n",
       "<tr><td>2      </td><td>12.772727272727273</td></tr>\n",
       "<tr><td>3      </td><td>13.818181818181818</td></tr>\n",
       "<tr><td>4      </td><td>14.0              </td></tr>\n",
       "<tr><td>5      </td><td>12.727272727272727</td></tr>\n",
       "<tr><td>6      </td><td>12.363636363636363</td></tr>\n",
       "<tr><td>7      </td><td>12.810606089505283</td></tr>\n",
       "<tr><td>8      </td><td>12.363636363636363</td></tr>\n",
       "<tr><td>9      </td><td>11.590909090909092</td></tr>\n",
       "</tbody>\n",
       "</table>"
      ]
     },
     "metadata": {},
     "output_type": "display_data"
    }
   ],
   "source": [
    "predictions_df.describe()"
   ]
  },
  {
   "cell_type": "code",
   "execution_count": 78,
   "metadata": {},
   "outputs": [
    {
     "name": "stdout",
     "output_type": "stream",
     "text": [
      "\n",
      "ModelMetricsRegression: drf\n",
      "** Reported on test data. **\n",
      "\n",
      "MSE: 7.124928586446012\n",
      "RMSE: 2.6692561859900246\n",
      "MAE: 1.8555821368568821\n",
      "RMSLE: 0.41819454483038604\n",
      "Mean Residual Deviance: 7.124928586446012\n"
     ]
    },
    {
     "data": {
      "text/plain": []
     },
     "execution_count": 78,
     "metadata": {},
     "output_type": "execute_result"
    }
   ],
   "source": [
    "mod_perf"
   ]
  },
  {
   "cell_type": "markdown",
   "metadata": {
    "collapsed": true
   },
   "source": [
    "All the measurement index are similiar"
   ]
  },
  {
   "cell_type": "code",
   "execution_count": 79,
   "metadata": {},
   "outputs": [
    {
     "data": {
      "image/png": "[encoded data removed]",
      "text/plain": [
       "<matplotlib.figure.Figure at 0x10edc1780>"
      ]
     },
     "metadata": {},
     "output_type": "display_data"
    }
   ],
   "source": [
    "pred_value = [predictions_df[x,0] for x in range(len(predictions_df[0]))]\n",
    "plot_result('XRT Model Prediction', pred_value, actual_value)"
   ]
  },
  {
   "cell_type": "markdown",
   "metadata": {},
   "source": [
    "#### GLM"
   ]
  },
  {
   "cell_type": "code",
   "execution_count": 80,
   "metadata": {},
   "outputs": [
    {
     "data": {
      "text/plain": [
       "'GLM_grid_0_AutoML_20181010_191557_model_0'"
      ]
     },
     "execution_count": 80,
     "metadata": {},
     "output_type": "execute_result"
    }
   ],
   "source": [
    "# get the XRT model\n",
    "model_GLM, model_GLM_ID = get_model_by_algo('GLM', bm)\n",
    "model_GLM_ID"
   ]
  },
  {
   "cell_type": "code",
   "execution_count": 81,
   "metadata": {
    "collapsed": true
   },
   "outputs": [],
   "source": [
    "# write scoring_history, statistic data into file\n",
    "if model_GLM is not None:\n",
    "    try:     \n",
    "        sh_df = model_GLM.scoring_history()\n",
    "        sh = os.path.join(report_Path, run_id + '_glm_scoring_history.csv')\n",
    "        sh_df.to_csv(sh) \n",
    "    except:\n",
    "        pass   \n",
    "    try:\n",
    "        stats_glm = glm_stats(model_GLM)\n",
    "        glm_stats = os.path.join(report_Path, run_id + '_glm_stats.json')\n",
    "        dict_to_json(stats_glm,glm_stats)\n",
    "        print(stats_glm['varimp'])\n",
    "    except:\n",
    "        pass"
   ]
  },
  {
   "cell_type": "code",
   "execution_count": 82,
   "metadata": {},
   "outputs": [
    {
     "name": "stdout",
     "output_type": "stream",
     "text": [
      "glm prediction progress: |████████████████████████████████████████████████| 100%\n"
     ]
    }
   ],
   "source": [
    "if model_GLM is not None:\n",
    "    predictions_df, mod_perf = predictions_test(model_GLM,test,run_id, False)\n",
    "else:\n",
    "    print('No Such Model')"
   ]
  },
  {
   "cell_type": "code",
   "execution_count": 83,
   "metadata": {},
   "outputs": [
    {
     "data": {
      "text/html": [
       "<table>\n",
       "<thead>\n",
       "<tr><th style=\"text-align: right;\">  predict</th></tr>\n",
       "</thead>\n",
       "<tbody>\n",
       "<tr><td style=\"text-align: right;\">  13.7778</td></tr>\n",
       "<tr><td style=\"text-align: right;\">  13.3285</td></tr>\n",
       "<tr><td style=\"text-align: right;\">  12.8698</td></tr>\n",
       "<tr><td style=\"text-align: right;\">  14.8767</td></tr>\n",
       "<tr><td style=\"text-align: right;\">  12.9761</td></tr>\n",
       "</tbody>\n",
       "</table>"
      ]
     },
     "metadata": {},
     "output_type": "display_data"
    },
    {
     "data": {
      "text/plain": []
     },
     "execution_count": 83,
     "metadata": {},
     "output_type": "execute_result"
    }
   ],
   "source": [
    "predictions_df.head(5)"
   ]
  },
  {
   "cell_type": "code",
   "execution_count": 84,
   "metadata": {},
   "outputs": [
    {
     "name": "stdout",
     "output_type": "stream",
     "text": [
      "Rows:76\n",
      "Cols:1\n",
      "\n",
      "\n"
     ]
    },
    {
     "data": {
      "text/html": [
       "<table>\n",
       "<thead>\n",
       "<tr><th>       </th><th>predict           </th></tr>\n",
       "</thead>\n",
       "<tbody>\n",
       "<tr><td>type   </td><td>real              </td></tr>\n",
       "<tr><td>mins   </td><td>6.58606995023685  </td></tr>\n",
       "<tr><td>mean   </td><td>11.919430766805073</td></tr>\n",
       "<tr><td>maxs   </td><td>14.876650120324218</td></tr>\n",
       "<tr><td>sigma  </td><td>1.8888430167844636</td></tr>\n",
       "<tr><td>zeros  </td><td>0                 </td></tr>\n",
       "<tr><td>missing</td><td>0                 </td></tr>\n",
       "<tr><td>0      </td><td>13.777796042310133</td></tr>\n",
       "<tr><td>1      </td><td>13.328476969334877</td></tr>\n",
       "<tr><td>2      </td><td>12.869778506010313</td></tr>\n",
       "<tr><td>3      </td><td>14.876650120324218</td></tr>\n",
       "<tr><td>4      </td><td>12.976146585698858</td></tr>\n",
       "<tr><td>5      </td><td>13.112151045617493</td></tr>\n",
       "<tr><td>6      </td><td>12.939770585270633</td></tr>\n",
       "<tr><td>7      </td><td>13.477635918160997</td></tr>\n",
       "<tr><td>8      </td><td>12.073452637339303</td></tr>\n",
       "<tr><td>9      </td><td>12.930434114079452</td></tr>\n",
       "</tbody>\n",
       "</table>"
      ]
     },
     "metadata": {},
     "output_type": "display_data"
    }
   ],
   "source": [
    "predictions_df.describe()"
   ]
  },
  {
   "cell_type": "code",
   "execution_count": 85,
   "metadata": {},
   "outputs": [
    {
     "name": "stdout",
     "output_type": "stream",
     "text": [
      "\n",
      "ModelMetricsRegressionGLM: glm\n",
      "** Reported on test data. **\n",
      "\n",
      "MSE: 7.58072163776321\n",
      "RMSE: 2.7533110317875837\n",
      "MAE: 1.9893665439403267\n",
      "RMSLE: 0.4296577229764585\n",
      "R^2: 0.2799261909663152\n",
      "Mean Residual Deviance: 7.58072163776321\n",
      "Null degrees of freedom: 75\n",
      "Residual degrees of freedom: -19\n",
      "Null deviance: 800.1942980801143\n",
      "Residual deviance: 576.1348444700039\n",
      "AIC: 561.6248952946474\n"
     ]
    },
    {
     "data": {
      "text/plain": []
     },
     "execution_count": 85,
     "metadata": {},
     "output_type": "execute_result"
    }
   ],
   "source": [
    "mod_perf"
   ]
  },
  {
   "cell_type": "code",
   "execution_count": 86,
   "metadata": {},
   "outputs": [
    {
     "data": {
      "image/png": "[encoded data removed]",
      "text/plain": [
       "<matplotlib.figure.Figure at 0x11ae82668>"
      ]
     },
     "metadata": {},
     "output_type": "display_data"
    }
   ],
   "source": [
    "pred_value = [predictions_df[x,0] for x in range(len(predictions_df[0]))]\n",
    "plot_result('GLM Model Prediction', pred_value, actual_value)"
   ]
  },
  {
   "cell_type": "markdown",
   "metadata": {},
   "source": [
    "### 8. Clean up"
   ]
  },
  {
   "cell_type": "markdown",
   "metadata": {},
   "source": [
    "#### Update and save meta data"
   ]
  },
  {
   "cell_type": "code",
   "execution_count": 87,
   "metadata": {
    "collapsed": true
   },
   "outputs": [],
   "source": [
    "meta_data['end_time'] = time.time()\n",
    "meta_data['execution_time'] = meta_data['end_time'] - meta_data['start_time']\n",
    "  \n",
    "meta_data_path = os.path.join(run_dir, run_id + '_meta_data.json')\n",
    "dict_to_json(meta_data, meta_data_path)"
   ]
  },
  {
   "cell_type": "markdown",
   "metadata": {},
   "source": [
    "#### shutdown"
   ]
  },
  {
   "cell_type": "code",
   "execution_count": 88,
   "metadata": {},
   "outputs": [
    {
     "name": "stdout",
     "output_type": "stream",
     "text": [
      "H2O session _sid_b8c5 closed.\n"
     ]
    }
   ],
   "source": [
    "os.chdir(rootDir)\n",
    "h2o.cluster().shutdown()"
   ]
  },
  {
   "cell_type": "code",
   "execution_count": null,
   "metadata": {
    "collapsed": true
   },
   "outputs": [],
   "source": []
  },
  {
   "cell_type": "code",
   "execution_count": null,
   "metadata": {
    "collapsed": true
   },
   "outputs": [],
   "source": []
  },
  {
   "cell_type": "code",
   "execution_count": null,
   "metadata": {
    "collapsed": true
   },
   "outputs": [],
   "source": []
  },
  {
   "cell_type": "code",
   "execution_count": null,
   "metadata": {
    "collapsed": true
   },
   "outputs": [],
   "source": []
  },
  {
   "cell_type": "code",
   "execution_count": null,
   "metadata": {
    "collapsed": true
   },
   "outputs": [],
   "source": []
  }
 ],
 "metadata": {
  "kernelspec": {
   "display_name": "Python 3",
   "language": "python",
   "name": "python3"
  },
  "language_info": {
   "codemirror_mode": {
    "name": "ipython",
    "version": 3
   },
   "file_extension": ".py",
   "mimetype": "text/x-python",
   "name": "python",
   "nbconvert_exporter": "python",
   "pygments_lexer": "ipython3",
   "version": "3.6.3"
  }
 },
 "nbformat": 4,
 "nbformat_minor": 2
}
