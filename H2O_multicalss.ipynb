{
 "cells": [
  {
   "cell_type": "markdown",
   "metadata": {},
   "source": [
    "# Big Data with H2O - Regression"
   ]
  },
  {
   "cell_type": "markdown",
   "metadata": {},
   "source": [
    "### 1. Packages and Setup \n",
    "#### Import packages and dataset"
   ]
  },
  {
   "cell_type": "code",
   "execution_count": 1,
   "metadata": {
    "collapsed": true
   },
   "outputs": [],
   "source": [
    "import h2o\n",
    "from h2o.automl import H2OAutoML\n",
    "import random, os, sys\n",
    "from datetime import datetime\n",
    "import pandas as pd\n",
    "import numpy as np\n",
    "import matplotlib.pyplot as plt\n",
    "import logging\n",
    "import csv\n",
    "import optparse\n",
    "import time\n",
    "import json\n",
    "from distutils.util import strtobool\n",
    "%matplotlib inline"
   ]
  },
  {
   "cell_type": "markdown",
   "metadata": {},
   "source": [
    "#### Set up some paramaters"
   ]
  },
  {
   "cell_type": "code",
   "execution_count": 2,
   "metadata": {
    "collapsed": true
   },
   "outputs": [],
   "source": [
    "data_Path = None\n",
    "model_Path = None\n",
    "report_Path = None\n",
    "\n",
    "min_mem_size = 6\n",
    "run_time = 333\n",
    "nthreads = 1 \n",
    "\n",
    "name = 'Muticlass_classification'\n",
    "target = None\n",
    "classification = True\n",
    "max_models = 9"
   ]
  },
  {
   "cell_type": "markdown",
   "metadata": {
    "collapsed": true
   },
   "source": [
    "### 2. Helper functions"
   ]
  },
  {
   "cell_type": "code",
   "execution_count": 3,
   "metadata": {
    "collapsed": true
   },
   "outputs": [],
   "source": [
    "# generate run_id\n",
    "def alphabet(n):\n",
    "    alpha='0123456789abcdefghijklmnopqrstuvwxyzABCDEFGHIJKLMNOPQRSTUVWXYZ'    \n",
    "    str=''\n",
    "    r=len(alpha)-1   \n",
    "    while len(str)<n:\n",
    "        i=random.randint(0,r)\n",
    "        str+=alpha[i]   \n",
    "    return str"
   ]
  },
  {
   "cell_type": "code",
   "execution_count": 4,
   "metadata": {
    "collapsed": true
   },
   "outputs": [],
   "source": [
    "# save dictionary to json file\n",
    "def dict_to_json(dct,n):\n",
    "    j = json.dumps(dct, indent=4)\n",
    "    f = open(n, 'w')\n",
    "    print(j, file=f)\n",
    "    f.close()"
   ]
  },
  {
   "cell_type": "code",
   "execution_count": 5,
   "metadata": {
    "collapsed": true
   },
   "outputs": [],
   "source": [
    "# function to set the meta_data\n",
    "def set_meta_data(run_id,target,model,run_time,classification,name,nthreads,min_mem_size):\n",
    "    m_data={}\n",
    "    m_data['run_id'] =run_id\n",
    "    m_data['start_time'] = time.time()\n",
    "    m_data['target']=target\n",
    "    m_data['max_models']=model\n",
    "    m_data['run_time']=run_time\n",
    "    m_data['classification']=classification\n",
    "    m_data['project'] =name\n",
    "    m_data['end_time'] = time.time()\n",
    "    m_data['execution_time'] = 0.0\n",
    "    m_data['nthreads'] = nthreads\n",
    "    m_data['min_mem_size'] = min_mem_size\n",
    "    return m_data"
   ]
  },
  {
   "cell_type": "code",
   "execution_count": 6,
   "metadata": {
    "collapsed": true
   },
   "outputs": [],
   "source": [
    "# get all variables and its tpye\n",
    "def get_variables_types(df):\n",
    "    '''\n",
    "    param: \n",
    "    df: Dateset dataframe\n",
    "    \n",
    "    return:\n",
    "    Dictionary of all variables and its type\n",
    "    '''\n",
    "    d={}\n",
    "    for key, val in df.types.items():\n",
    "        d[key]=val           \n",
    "    return d "
   ]
  },
  {
   "cell_type": "code",
   "execution_count": 7,
   "metadata": {
    "collapsed": true
   },
   "outputs": [],
   "source": [
    "# get the best model for different type\n",
    "def stackedensemble_df(df):\n",
    "    '''\n",
    "    param: \n",
    "    df: AutoML leaderboard dataframe\n",
    "    \n",
    "    return:\n",
    "    List of best models' id\n",
    "    '''\n",
    "    bm_algo={ 'GBM': None,'GLM': None,'DRF': None,'XRT': None,'Dee': None}\n",
    "    for index, row in df.iterrows():\n",
    "        if len(row['model_id'])>3:\n",
    "            key=row['model_id'][0:3]\n",
    "        if key in bm_algo:\n",
    "            if bm_algo[key] is None:\n",
    "                bm_algo[key]=row['model_id']\n",
    "    bm=list(bm_algo.values()) \n",
    "    bm=list(filter(None.__ne__, bm))             \n",
    "    return bm"
   ]
  },
  {
   "cell_type": "code",
   "execution_count": 8,
   "metadata": {
    "collapsed": true
   },
   "outputs": [],
   "source": [
    "# get the best stacked_ensemble model\n",
    "def get_stacked_ensemble(model_set):\n",
    "    '''\n",
    "    param: \n",
    "    model_set: List of all models' name\n",
    "    \n",
    "    return:\n",
    "    Stacked ensemble model id\n",
    "    '''\n",
    "    se=None\n",
    "    for model in model_set:\n",
    "        if 'BestOfFamily' in model:\n",
    "            se=model\n",
    "    if se is None:     \n",
    "        for model in model_set:\n",
    "            if 'AllModels'in model:\n",
    "                se=model           \n",
    "    return se  "
   ]
  },
  {
   "cell_type": "code",
   "execution_count": 9,
   "metadata": {
    "collapsed": true
   },
   "outputs": [],
   "source": [
    "# get model and id by algo in certain model list\n",
    "def get_model_by_algo(algo,models_list):\n",
    "    mod=None\n",
    "    mod_id=None    \n",
    "    for m in models_list:\n",
    "        if m[0:3]==algo:\n",
    "            mod_id=m\n",
    "            mod=h2o.get_model(m)      \n",
    "    return mod,mod_id"
   ]
  },
  {
   "cell_type": "code",
   "execution_count": 10,
   "metadata": {
    "collapsed": true
   },
   "outputs": [],
   "source": [
    "# for 5 types model, get the statistic data\n",
    "def gbm_stats(modl):\n",
    "    d={}\n",
    "    d['algo']=modl.algo\n",
    "    d['model_id']=modl.model_id   \n",
    "    d['varimp']=modl.varimp()  \n",
    "    return d\n",
    "    \n",
    "    \n",
    "def dl_stats(modl):\n",
    "    d={}\n",
    "    d['algo']=modl.algo\n",
    "    d['model_id']=modl.model_id   \n",
    "    d['varimp']=modl.varimp()  \n",
    "    return d\n",
    "    \n",
    "    \n",
    "def drf_stats(modl):\n",
    "    d={}\n",
    "    d['algo']=modl.algo\n",
    "    d['model_id']=modl.model_id   \n",
    "    d['varimp']=modl.varimp()  \n",
    "    d['roc']=modl.roc()      \n",
    "    return d\n",
    "    \n",
    "def xrt_stats(modl):\n",
    "    d={}\n",
    "    d['algo']=modl.algo\n",
    "    d['model_id']=modl.model_id   \n",
    "    d['varimp']=modl.varimp()  \n",
    "    d['roc']=modl.roc()      \n",
    "    return d\n",
    "\n",
    "def glm_stats(modl):\n",
    "    d={}\n",
    "    d['algo']=modl.algo\n",
    "    d['model_id']=modl.model_id   \n",
    "    d['coef']=modl.coef()  \n",
    "    d['coef_norm']=modl.coef_norm()      \n",
    "    return d"
   ]
  },
  {
   "cell_type": "code",
   "execution_count": 11,
   "metadata": {
    "collapsed": true
   },
   "outputs": [],
   "source": [
    "def predictions_test(mod,test,run_id,ifSave):\n",
    "    '''\n",
    "    param: \n",
    "    mod: model to be used\n",
    "    test: test dataset\n",
    "    run_id: running instance id\n",
    "    \n",
    "    return:\n",
    "    the prediction\n",
    "    '''\n",
    "    mod_perf = mod.model_performance(test)\n",
    "    if ifSave:\n",
    "        stats_test = {}\n",
    "        stats_test = model_performance_stats(mod_perf)\n",
    "        # write performance_stats to report\n",
    "        npath = os.path.join(report_Path, run_id + '_test_stats.json')\n",
    "        dict_to_json(stats_test,npath)\n",
    "\n",
    "        try:\n",
    "            cf=mod_perf.confusion_matrix(metrics=[\"f1\",\"accuracy\",\"precision\",\"recall\",\"specificity\",\"absolute_mcc\",\"min_per_class_accuracy\",\"mean_per_class_accuracy\"])\n",
    "            cf_df=cf[0].table.as_data_frame()\n",
    "            cf_df.to_csv(os.path.join(report_Path, run_id + '_test_confusion_matrix.csv'))\n",
    "        except:\n",
    "            pass\n",
    "    \n",
    "    predictions = mod.predict(test)    \n",
    "    if ifSave:\n",
    "        # write prediction value to report\n",
    "        predictions_df=test.cbind(predictions).as_data_frame()\n",
    "        predictions_df.to_csv(os.path.join(report_Path, run_id + '_predictions.csv'))\n",
    "    \n",
    "    return predictions, mod_perf"
   ]
  },
  {
   "cell_type": "code",
   "execution_count": 12,
   "metadata": {
    "collapsed": true
   },
   "outputs": [],
   "source": [
    "def model_performance_stats(perf):\n",
    "    d={}\n",
    "    try:    \n",
    "        d['mse']=perf.mse()\n",
    "    except:\n",
    "        pass      \n",
    "    try:    \n",
    "        d['rmse']=perf.rmse() \n",
    "    except:\n",
    "        pass      \n",
    "    try:    \n",
    "        d['null_degrees_of_freedom']=perf.null_degrees_of_freedom()\n",
    "    except:\n",
    "        pass      \n",
    "    try:    \n",
    "        d['residual_degrees_of_freedom']=perf.residual_degrees_of_freedom()\n",
    "    except:\n",
    "        pass      \n",
    "    try:    \n",
    "        d['residual_deviance']=perf.residual_deviance() \n",
    "    except:\n",
    "        pass      \n",
    "    try:    \n",
    "        d['null_deviance']=perf.null_deviance() \n",
    "    except:\n",
    "        pass      \n",
    "    try:    \n",
    "        d['aic']=perf.aic() \n",
    "    except:\n",
    "         pass      \n",
    "    try:\n",
    "        d['logloss']=perf.logloss() \n",
    "    except:\n",
    "        pass    \n",
    "    try:\n",
    "        d['auc']=perf.auc()\n",
    "    except:\n",
    "        pass  \n",
    "    try:\n",
    "        d['gini']=perf.gini()\n",
    "    except:\n",
    "        pass    \n",
    "    return d"
   ]
  },
  {
   "cell_type": "code",
   "execution_count": 13,
   "metadata": {
    "collapsed": true
   },
   "outputs": [],
   "source": [
    "# Function to plot the true/prediction value¶\n",
    "def plot_result(model, pred_value, y_test):\n",
    "    plt.figure()\n",
    "    plt.plot(np.arange(len(pred_value)), y_test,'go-',label='true value')\n",
    "    plt.plot(np.arange(len(pred_value)),pred_value,'ro-',label='predict value')\n",
    "    plt.title(model)\n",
    "    plt.xlabel('Record_index')\n",
    "    plt.ylabel('Y_xalue')\n",
    "    plt.legend()\n",
    "    plt.show()"
   ]
  },
  {
   "cell_type": "markdown",
   "metadata": {},
   "source": [
    "### 3. Data Overview"
   ]
  },
  {
   "cell_type": "markdown",
   "metadata": {},
   "source": [
    "#### set up data path and model path"
   ]
  },
  {
   "cell_type": "code",
   "execution_count": 14,
   "metadata": {},
   "outputs": [
    {
     "name": "stdout",
     "output_type": "stream",
     "text": [
      "K77qDEeCe\n"
     ]
    }
   ],
   "source": [
    "run_id=alphabet(9)\n",
    "print (run_id)"
   ]
  },
  {
   "cell_type": "code",
   "execution_count": 15,
   "metadata": {
    "collapsed": true
   },
   "outputs": [],
   "source": [
    "rootDir=os.path.abspath(os.curdir)\n",
    "os.chdir(rootDir)"
   ]
  },
  {
   "cell_type": "code",
   "execution_count": 16,
   "metadata": {
    "collapsed": true
   },
   "outputs": [],
   "source": [
    "run_dir = os.path.join(rootDir, 'multiclass', run_id)\n",
    "report_Path = os.path.join(run_dir, 'reports/')\n",
    "model_Path = os.path.join(run_dir, 'models')\n",
    "os.mkdir(run_dir)\n",
    "os.mkdir(report_Path)\n",
    "os.mkdir(model_Path)\n",
    "os.chdir(run_dir)"
   ]
  },
  {
   "cell_type": "code",
   "execution_count": 17,
   "metadata": {
    "collapsed": true
   },
   "outputs": [],
   "source": [
    "# load dataset\n",
    "data_Path = os.path.join(rootDir,'data_folder/processed.cleveland.data')\n",
    "heart_disease = pd.read_csv(data_Path,header=None)\n",
    "heart_disease.columns = ['age', 'sex', 'cp', 'trestbps', 'chol', 'fbs', 'restecg', \n",
    "                         'thalach', 'exang', 'oldpeak', 'slope', 'ca', 'thal', 'num']"
   ]
  },
  {
   "cell_type": "code",
   "execution_count": 18,
   "metadata": {},
   "outputs": [
    {
     "data": {
      "text/html": [
       "<div>\n",
       "<style>\n",
       "    .dataframe thead tr:only-child th {\n",
       "        text-align: right;\n",
       "    }\n",
       "\n",
       "    .dataframe thead th {\n",
       "        text-align: left;\n",
       "    }\n",
       "\n",
       "    .dataframe tbody tr th {\n",
       "        vertical-align: top;\n",
       "    }\n",
       "</style>\n",
       "<table border=\"1\" class=\"dataframe\">\n",
       "  <thead>\n",
       "    <tr style=\"text-align: right;\">\n",
       "      <th></th>\n",
       "      <th>age</th>\n",
       "      <th>sex</th>\n",
       "      <th>cp</th>\n",
       "      <th>trestbps</th>\n",
       "      <th>chol</th>\n",
       "      <th>fbs</th>\n",
       "      <th>restecg</th>\n",
       "      <th>thalach</th>\n",
       "      <th>exang</th>\n",
       "      <th>oldpeak</th>\n",
       "      <th>slope</th>\n",
       "      <th>ca</th>\n",
       "      <th>thal</th>\n",
       "      <th>num</th>\n",
       "    </tr>\n",
       "  </thead>\n",
       "  <tbody>\n",
       "    <tr>\n",
       "      <th>0</th>\n",
       "      <td>63.0</td>\n",
       "      <td>1.0</td>\n",
       "      <td>1.0</td>\n",
       "      <td>145.0</td>\n",
       "      <td>233.0</td>\n",
       "      <td>1.0</td>\n",
       "      <td>2.0</td>\n",
       "      <td>150.0</td>\n",
       "      <td>0.0</td>\n",
       "      <td>2.3</td>\n",
       "      <td>3.0</td>\n",
       "      <td>0.0</td>\n",
       "      <td>6.0</td>\n",
       "      <td>0</td>\n",
       "    </tr>\n",
       "    <tr>\n",
       "      <th>1</th>\n",
       "      <td>67.0</td>\n",
       "      <td>1.0</td>\n",
       "      <td>4.0</td>\n",
       "      <td>160.0</td>\n",
       "      <td>286.0</td>\n",
       "      <td>0.0</td>\n",
       "      <td>2.0</td>\n",
       "      <td>108.0</td>\n",
       "      <td>1.0</td>\n",
       "      <td>1.5</td>\n",
       "      <td>2.0</td>\n",
       "      <td>3.0</td>\n",
       "      <td>3.0</td>\n",
       "      <td>2</td>\n",
       "    </tr>\n",
       "    <tr>\n",
       "      <th>2</th>\n",
       "      <td>67.0</td>\n",
       "      <td>1.0</td>\n",
       "      <td>4.0</td>\n",
       "      <td>120.0</td>\n",
       "      <td>229.0</td>\n",
       "      <td>0.0</td>\n",
       "      <td>2.0</td>\n",
       "      <td>129.0</td>\n",
       "      <td>1.0</td>\n",
       "      <td>2.6</td>\n",
       "      <td>2.0</td>\n",
       "      <td>2.0</td>\n",
       "      <td>7.0</td>\n",
       "      <td>1</td>\n",
       "    </tr>\n",
       "    <tr>\n",
       "      <th>3</th>\n",
       "      <td>37.0</td>\n",
       "      <td>1.0</td>\n",
       "      <td>3.0</td>\n",
       "      <td>130.0</td>\n",
       "      <td>250.0</td>\n",
       "      <td>0.0</td>\n",
       "      <td>0.0</td>\n",
       "      <td>187.0</td>\n",
       "      <td>0.0</td>\n",
       "      <td>3.5</td>\n",
       "      <td>3.0</td>\n",
       "      <td>0.0</td>\n",
       "      <td>3.0</td>\n",
       "      <td>0</td>\n",
       "    </tr>\n",
       "    <tr>\n",
       "      <th>4</th>\n",
       "      <td>41.0</td>\n",
       "      <td>0.0</td>\n",
       "      <td>2.0</td>\n",
       "      <td>130.0</td>\n",
       "      <td>204.0</td>\n",
       "      <td>0.0</td>\n",
       "      <td>2.0</td>\n",
       "      <td>172.0</td>\n",
       "      <td>0.0</td>\n",
       "      <td>1.4</td>\n",
       "      <td>1.0</td>\n",
       "      <td>0.0</td>\n",
       "      <td>3.0</td>\n",
       "      <td>0</td>\n",
       "    </tr>\n",
       "  </tbody>\n",
       "</table>\n",
       "</div>"
      ],
      "text/plain": [
       "    age  sex   cp  trestbps   chol  fbs  restecg  thalach  exang  oldpeak  \\\n",
       "0  63.0  1.0  1.0     145.0  233.0  1.0      2.0    150.0    0.0      2.3   \n",
       "1  67.0  1.0  4.0     160.0  286.0  0.0      2.0    108.0    1.0      1.5   \n",
       "2  67.0  1.0  4.0     120.0  229.0  0.0      2.0    129.0    1.0      2.6   \n",
       "3  37.0  1.0  3.0     130.0  250.0  0.0      0.0    187.0    0.0      3.5   \n",
       "4  41.0  0.0  2.0     130.0  204.0  0.0      2.0    172.0    0.0      1.4   \n",
       "\n",
       "   slope   ca thal  num  \n",
       "0    3.0  0.0  6.0    0  \n",
       "1    2.0  3.0  3.0    2  \n",
       "2    2.0  2.0  7.0    1  \n",
       "3    3.0  0.0  3.0    0  \n",
       "4    1.0  0.0  3.0    0  "
      ]
     },
     "execution_count": 18,
     "metadata": {},
     "output_type": "execute_result"
    }
   ],
   "source": [
    "heart_disease.head()"
   ]
  },
  {
   "cell_type": "markdown",
   "metadata": {},
   "source": [
    "1. age: age in years  \n",
    "2. sex: sex (1 = male; 0 = female)  \n",
    "3. cp: chest pain type  \n",
    "    -- Value 1: typical angina  \n",
    "    -- Value 2: atypical angina  \n",
    "    -- Value 3: non-anginal pain  \n",
    "    -- Value 4: asymptomatic  \n",
    "4. trestbps: resting blood pressure (in mm Hg on admission to the hospital)  \n",
    "5. chol: serum cholestoral in mg/dl  \n",
    "6. fbs: (fasting blood sugar > 120 mg/dl)  (1 = true; 0 = false)  \n",
    "7. restecg: resting electrocardiographic results\n",
    "    -- Value 0: normal  \n",
    "    -- Value 1: having ST-T wave abnormality (T wave inversions and/or ST elevation or depression of > 0.05 mV)  \n",
    "    -- Value 2: showing probable or definite left ventricular hypertrophy by Estes' criteria  \n",
    "8. thalach: maximum heart rate achieved  \n",
    "9. exang: exercise induced angina (1 = yes; 0 = no)  \n",
    "10. oldpeak = ST depression induced by exercise relative to rest  \n",
    "11. slope: the slope of the peak exercise ST segment  \n",
    "    -- Value 1: upsloping  \n",
    "    -- Value 2: flat  \n",
    "    -- Value 3: downsloping  \n",
    "12. ca: number of major vessels (0-3) colored by flourosopy  \n",
    "13. thal: 3 = normal; 6 = fixed defect; 7 = reversable defect  \n",
    "14. num: diagnosis of heart disease (angiographic disease status)  \n",
    "    -- Value 0: < 50% diameter narrowing  \n",
    "    -- Value 1: > 50% diameter narrowing  \n",
    "    (in any major vessel: attributes 59 through 68 are vessels)  "
   ]
  },
  {
   "cell_type": "code",
   "execution_count": 19,
   "metadata": {},
   "outputs": [
    {
     "data": {
      "text/plain": [
       "age         0\n",
       "sex         0\n",
       "cp          0\n",
       "trestbps    0\n",
       "chol        0\n",
       "fbs         0\n",
       "restecg     0\n",
       "thalach     0\n",
       "exang       0\n",
       "oldpeak     0\n",
       "slope       0\n",
       "ca          0\n",
       "thal        0\n",
       "num         0\n",
       "dtype: int64"
      ]
     },
     "execution_count": 19,
     "metadata": {},
     "output_type": "execute_result"
    }
   ],
   "source": [
    "# check if there is null value in dataset\n",
    "heart_disease.isnull().sum()"
   ]
  },
  {
   "cell_type": "markdown",
   "metadata": {},
   "source": [
    "### 4. Launch H2O Instance"
   ]
  },
  {
   "cell_type": "code",
   "execution_count": 20,
   "metadata": {},
   "outputs": [
    {
     "name": "stdout",
     "output_type": "stream",
     "text": [
      "Checking whether there is an H2O instance running at http://localhost:45549..... not found.\n",
      "Attempting to start a local H2O server...\n",
      "  Java Version: java version \"1.8.0_144\"; Java(TM) SE Runtime Environment (build 1.8.0_144-b01); Java HotSpot(TM) 64-Bit Server VM (build 25.144-b01, mixed mode)\n",
      "  Starting server from /Users/lzq/anaconda3/lib/python3.6/site-packages/h2o/backend/bin/h2o.jar\n",
      "  Ice root: /var/folders/qy/r0h6l3351xl9cvg1kl8ltwmc0000gn/T/tmpi2dlggid\n",
      "  JVM stdout: /var/folders/qy/r0h6l3351xl9cvg1kl8ltwmc0000gn/T/tmpi2dlggid/h2o_lzq_started_from_python.out\n",
      "  JVM stderr: /var/folders/qy/r0h6l3351xl9cvg1kl8ltwmc0000gn/T/tmpi2dlggid/h2o_lzq_started_from_python.err\n",
      "  Server is running at http://127.0.0.1:45549\n",
      "Connecting to H2O server at http://127.0.0.1:45549... successful.\n"
     ]
    },
    {
     "data": {
      "text/html": [
       "<div style=\"overflow:auto\"><table style=\"width:50%\"><tr><td>H2O cluster uptime:</td>\n",
       "<td>02 secs</td></tr>\n",
       "<tr><td>H2O cluster timezone:</td>\n",
       "<td>America/New_York</td></tr>\n",
       "<tr><td>H2O data parsing timezone:</td>\n",
       "<td>UTC</td></tr>\n",
       "<tr><td>H2O cluster version:</td>\n",
       "<td>3.20.0.7</td></tr>\n",
       "<tr><td>H2O cluster version age:</td>\n",
       "<td>1 month and 9 days </td></tr>\n",
       "<tr><td>H2O cluster name:</td>\n",
       "<td>H2O_from_python_lzq_576mim</td></tr>\n",
       "<tr><td>H2O cluster total nodes:</td>\n",
       "<td>1</td></tr>\n",
       "<tr><td>H2O cluster free memory:</td>\n",
       "<td>1.778 Gb</td></tr>\n",
       "<tr><td>H2O cluster total cores:</td>\n",
       "<td>4</td></tr>\n",
       "<tr><td>H2O cluster allowed cores:</td>\n",
       "<td>4</td></tr>\n",
       "<tr><td>H2O cluster status:</td>\n",
       "<td>accepting new members, healthy</td></tr>\n",
       "<tr><td>H2O connection url:</td>\n",
       "<td>http://127.0.0.1:45549</td></tr>\n",
       "<tr><td>H2O connection proxy:</td>\n",
       "<td>None</td></tr>\n",
       "<tr><td>H2O internal security:</td>\n",
       "<td>False</td></tr>\n",
       "<tr><td>H2O API Extensions:</td>\n",
       "<td>XGBoost, Algos, AutoML, Core V3, Core V4</td></tr>\n",
       "<tr><td>Python version:</td>\n",
       "<td>3.6.3 final</td></tr></table></div>"
      ],
      "text/plain": [
       "--------------------------  ----------------------------------------\n",
       "H2O cluster uptime:         02 secs\n",
       "H2O cluster timezone:       America/New_York\n",
       "H2O data parsing timezone:  UTC\n",
       "H2O cluster version:        3.20.0.7\n",
       "H2O cluster version age:    1 month and 9 days\n",
       "H2O cluster name:           H2O_from_python_lzq_576mim\n",
       "H2O cluster total nodes:    1\n",
       "H2O cluster free memory:    1.778 Gb\n",
       "H2O cluster total cores:    4\n",
       "H2O cluster allowed cores:  4\n",
       "H2O cluster status:         accepting new members, healthy\n",
       "H2O connection url:         http://127.0.0.1:45549\n",
       "H2O connection proxy:\n",
       "H2O internal security:      False\n",
       "H2O API Extensions:         XGBoost, Algos, AutoML, Core V3, Core V4\n",
       "Python version:             3.6.3 final\n",
       "--------------------------  ----------------------------------------"
      ]
     },
     "metadata": {},
     "output_type": "display_data"
    }
   ],
   "source": [
    "port_no=random.randint(5555,55555)\n",
    "h2o.init(strict_version_check=False,port=port_no)"
   ]
  },
  {
   "cell_type": "code",
   "execution_count": 21,
   "metadata": {},
   "outputs": [
    {
     "name": "stdout",
     "output_type": "stream",
     "text": [
      "{'run_id': 'K77qDEeCe', 'start_time': 1539213787.812379, 'target': None, 'max_models': 9, 'run_time': 333, 'classification': True, 'project': 'Muticlass_classification', 'end_time': 1539213787.812384, 'execution_time': 0.0, 'nthreads': 1, 'min_mem_size': 6}\n"
     ]
    }
   ],
   "source": [
    "# meta data\n",
    "meta_data = set_meta_data(run_id,target,max_models,run_time,classification,name,nthreads,min_mem_size)\n",
    "print(meta_data)"
   ]
  },
  {
   "cell_type": "markdown",
   "metadata": {},
   "source": [
    "#### import dataset and do some modification"
   ]
  },
  {
   "cell_type": "code",
   "execution_count": 22,
   "metadata": {},
   "outputs": [
    {
     "name": "stdout",
     "output_type": "stream",
     "text": [
      "Parse progress: |█████████████████████████████████████████████████████████| 100%\n"
     ]
    }
   ],
   "source": [
    "df = h2o.import_file(data_Path)"
   ]
  },
  {
   "cell_type": "code",
   "execution_count": 23,
   "metadata": {
    "collapsed": true
   },
   "outputs": [],
   "source": [
    "df.columns = ['age', 'sex', 'cp', 'trestbps', 'chol', 'fbs', 'restecg', \n",
    "              'thalach', 'exang', 'oldpeak', 'slope', 'ca', 'thal', 'num']"
   ]
  },
  {
   "cell_type": "code",
   "execution_count": 24,
   "metadata": {},
   "outputs": [
    {
     "data": {
      "text/html": [
       "<table>\n",
       "<thead>\n",
       "<tr><th style=\"text-align: right;\">  age</th><th style=\"text-align: right;\">  sex</th><th style=\"text-align: right;\">  cp</th><th style=\"text-align: right;\">  trestbps</th><th style=\"text-align: right;\">  chol</th><th style=\"text-align: right;\">  fbs</th><th style=\"text-align: right;\">  restecg</th><th style=\"text-align: right;\">  thalach</th><th style=\"text-align: right;\">  exang</th><th style=\"text-align: right;\">  oldpeak</th><th style=\"text-align: right;\">  slope</th><th style=\"text-align: right;\">  ca</th><th style=\"text-align: right;\">  thal</th><th style=\"text-align: right;\">  num</th></tr>\n",
       "</thead>\n",
       "<tbody>\n",
       "<tr><td style=\"text-align: right;\">   63</td><td style=\"text-align: right;\">    1</td><td style=\"text-align: right;\">   1</td><td style=\"text-align: right;\">       145</td><td style=\"text-align: right;\">   233</td><td style=\"text-align: right;\">    1</td><td style=\"text-align: right;\">        2</td><td style=\"text-align: right;\">      150</td><td style=\"text-align: right;\">      0</td><td style=\"text-align: right;\">      2.3</td><td style=\"text-align: right;\">      3</td><td style=\"text-align: right;\">   0</td><td style=\"text-align: right;\">     6</td><td style=\"text-align: right;\">    0</td></tr>\n",
       "<tr><td style=\"text-align: right;\">   67</td><td style=\"text-align: right;\">    1</td><td style=\"text-align: right;\">   4</td><td style=\"text-align: right;\">       160</td><td style=\"text-align: right;\">   286</td><td style=\"text-align: right;\">    0</td><td style=\"text-align: right;\">        2</td><td style=\"text-align: right;\">      108</td><td style=\"text-align: right;\">      1</td><td style=\"text-align: right;\">      1.5</td><td style=\"text-align: right;\">      2</td><td style=\"text-align: right;\">   3</td><td style=\"text-align: right;\">     3</td><td style=\"text-align: right;\">    2</td></tr>\n",
       "<tr><td style=\"text-align: right;\">   67</td><td style=\"text-align: right;\">    1</td><td style=\"text-align: right;\">   4</td><td style=\"text-align: right;\">       120</td><td style=\"text-align: right;\">   229</td><td style=\"text-align: right;\">    0</td><td style=\"text-align: right;\">        2</td><td style=\"text-align: right;\">      129</td><td style=\"text-align: right;\">      1</td><td style=\"text-align: right;\">      2.6</td><td style=\"text-align: right;\">      2</td><td style=\"text-align: right;\">   2</td><td style=\"text-align: right;\">     7</td><td style=\"text-align: right;\">    1</td></tr>\n",
       "<tr><td style=\"text-align: right;\">   37</td><td style=\"text-align: right;\">    1</td><td style=\"text-align: right;\">   3</td><td style=\"text-align: right;\">       130</td><td style=\"text-align: right;\">   250</td><td style=\"text-align: right;\">    0</td><td style=\"text-align: right;\">        0</td><td style=\"text-align: right;\">      187</td><td style=\"text-align: right;\">      0</td><td style=\"text-align: right;\">      3.5</td><td style=\"text-align: right;\">      3</td><td style=\"text-align: right;\">   0</td><td style=\"text-align: right;\">     3</td><td style=\"text-align: right;\">    0</td></tr>\n",
       "<tr><td style=\"text-align: right;\">   41</td><td style=\"text-align: right;\">    0</td><td style=\"text-align: right;\">   2</td><td style=\"text-align: right;\">       130</td><td style=\"text-align: right;\">   204</td><td style=\"text-align: right;\">    0</td><td style=\"text-align: right;\">        2</td><td style=\"text-align: right;\">      172</td><td style=\"text-align: right;\">      0</td><td style=\"text-align: right;\">      1.4</td><td style=\"text-align: right;\">      1</td><td style=\"text-align: right;\">   0</td><td style=\"text-align: right;\">     3</td><td style=\"text-align: right;\">    0</td></tr>\n",
       "</tbody>\n",
       "</table>"
      ]
     },
     "metadata": {},
     "output_type": "display_data"
    },
    {
     "name": "stdout",
     "output_type": "stream",
     "text": [
      "\n"
     ]
    }
   ],
   "source": [
    "print(df.head(5))"
   ]
  },
  {
   "cell_type": "code",
   "execution_count": 25,
   "metadata": {},
   "outputs": [
    {
     "name": "stdout",
     "output_type": "stream",
     "text": [
      "Rows:303\n",
      "Cols:14\n",
      "\n",
      "\n"
     ]
    },
    {
     "data": {
      "text/html": [
       "<table>\n",
       "<thead>\n",
       "<tr><th>       </th><th>age              </th><th>sex               </th><th>cp                </th><th>trestbps          </th><th>chol              </th><th>fbs                </th><th>restecg           </th><th>thalach           </th><th>exang              </th><th>oldpeak           </th><th>slope             </th><th>ca                </th><th>thal              </th><th>num               </th></tr>\n",
       "</thead>\n",
       "<tbody>\n",
       "<tr><td>type   </td><td>int              </td><td>int               </td><td>int               </td><td>int               </td><td>int               </td><td>int                </td><td>int               </td><td>int               </td><td>int                </td><td>real              </td><td>int               </td><td>int               </td><td>int               </td><td>int               </td></tr>\n",
       "<tr><td>mins   </td><td>29.0             </td><td>0.0               </td><td>1.0               </td><td>94.0              </td><td>126.0             </td><td>0.0                </td><td>0.0               </td><td>71.0              </td><td>0.0                </td><td>0.0               </td><td>1.0               </td><td>0.0               </td><td>3.0               </td><td>0.0               </td></tr>\n",
       "<tr><td>mean   </td><td>54.43894389438945</td><td>0.6798679867986799</td><td>3.158415841584159 </td><td>131.68976897689765</td><td>246.69306930693077</td><td>0.1485148514851485 </td><td>0.9900990099009903</td><td>149.6072607260726 </td><td>0.32673267326732675</td><td>1.0396039603960403</td><td>1.6006600660065995</td><td>0.6722408026755854</td><td>4.7342192691029865</td><td>0.9372937293729376</td></tr>\n",
       "<tr><td>maxs   </td><td>77.0             </td><td>1.0               </td><td>4.0               </td><td>200.0             </td><td>564.0             </td><td>1.0                </td><td>2.0               </td><td>202.0             </td><td>1.0                </td><td>6.2               </td><td>3.0               </td><td>3.0               </td><td>7.0               </td><td>4.0               </td></tr>\n",
       "<tr><td>sigma  </td><td>9.038662442446752</td><td>0.46729882777013  </td><td>0.9601256119600138</td><td>17.59974772958769 </td><td>51.776917542637065</td><td>0.35619787492797644</td><td>0.9949712915251783</td><td>22.875003276980376</td><td>0.4697944645223165 </td><td>1.161075022068635 </td><td>0.6162261453459619</td><td>0.937438317724216 </td><td>1.9397057693786433</td><td>1.2285356879701044</td></tr>\n",
       "<tr><td>zeros  </td><td>0                </td><td>97                </td><td>0                 </td><td>0                 </td><td>0                 </td><td>258                </td><td>151               </td><td>0                 </td><td>204                </td><td>99                </td><td>0                 </td><td>176               </td><td>0                 </td><td>164               </td></tr>\n",
       "<tr><td>missing</td><td>0                </td><td>0                 </td><td>0                 </td><td>0                 </td><td>0                 </td><td>0                  </td><td>0                 </td><td>0                 </td><td>0                  </td><td>0                 </td><td>0                 </td><td>4                 </td><td>2                 </td><td>0                 </td></tr>\n",
       "<tr><td>0      </td><td>63.0             </td><td>1.0               </td><td>1.0               </td><td>145.0             </td><td>233.0             </td><td>1.0                </td><td>2.0               </td><td>150.0             </td><td>0.0                </td><td>2.3               </td><td>3.0               </td><td>0.0               </td><td>6.0               </td><td>0.0               </td></tr>\n",
       "<tr><td>1      </td><td>67.0             </td><td>1.0               </td><td>4.0               </td><td>160.0             </td><td>286.0             </td><td>0.0                </td><td>2.0               </td><td>108.0             </td><td>1.0                </td><td>1.5               </td><td>2.0               </td><td>3.0               </td><td>3.0               </td><td>2.0               </td></tr>\n",
       "<tr><td>2      </td><td>67.0             </td><td>1.0               </td><td>4.0               </td><td>120.0             </td><td>229.0             </td><td>0.0                </td><td>2.0               </td><td>129.0             </td><td>1.0                </td><td>2.6               </td><td>2.0               </td><td>2.0               </td><td>7.0               </td><td>1.0               </td></tr>\n",
       "<tr><td>3      </td><td>37.0             </td><td>1.0               </td><td>3.0               </td><td>130.0             </td><td>250.0             </td><td>0.0                </td><td>0.0               </td><td>187.0             </td><td>0.0                </td><td>3.5               </td><td>3.0               </td><td>0.0               </td><td>3.0               </td><td>0.0               </td></tr>\n",
       "<tr><td>4      </td><td>41.0             </td><td>0.0               </td><td>2.0               </td><td>130.0             </td><td>204.0             </td><td>0.0                </td><td>2.0               </td><td>172.0             </td><td>0.0                </td><td>1.4               </td><td>1.0               </td><td>0.0               </td><td>3.0               </td><td>0.0               </td></tr>\n",
       "<tr><td>5      </td><td>56.0             </td><td>1.0               </td><td>2.0               </td><td>120.0             </td><td>236.0             </td><td>0.0                </td><td>0.0               </td><td>178.0             </td><td>0.0                </td><td>0.8               </td><td>1.0               </td><td>0.0               </td><td>3.0               </td><td>0.0               </td></tr>\n",
       "<tr><td>6      </td><td>62.0             </td><td>0.0               </td><td>4.0               </td><td>140.0             </td><td>268.0             </td><td>0.0                </td><td>2.0               </td><td>160.0             </td><td>0.0                </td><td>3.6               </td><td>3.0               </td><td>2.0               </td><td>3.0               </td><td>3.0               </td></tr>\n",
       "<tr><td>7      </td><td>57.0             </td><td>0.0               </td><td>4.0               </td><td>120.0             </td><td>354.0             </td><td>0.0                </td><td>0.0               </td><td>163.0             </td><td>1.0                </td><td>0.6               </td><td>1.0               </td><td>0.0               </td><td>3.0               </td><td>0.0               </td></tr>\n",
       "<tr><td>8      </td><td>63.0             </td><td>1.0               </td><td>4.0               </td><td>130.0             </td><td>254.0             </td><td>0.0                </td><td>2.0               </td><td>147.0             </td><td>0.0                </td><td>1.4               </td><td>2.0               </td><td>1.0               </td><td>7.0               </td><td>2.0               </td></tr>\n",
       "<tr><td>9      </td><td>53.0             </td><td>1.0               </td><td>4.0               </td><td>140.0             </td><td>203.0             </td><td>1.0                </td><td>2.0               </td><td>155.0             </td><td>1.0                </td><td>3.1               </td><td>3.0               </td><td>0.0               </td><td>7.0               </td><td>1.0               </td></tr>\n",
       "</tbody>\n",
       "</table>"
      ]
     },
     "metadata": {},
     "output_type": "display_data"
    },
    {
     "name": "stdout",
     "output_type": "stream",
     "text": [
      "None\n"
     ]
    }
   ],
   "source": [
    "print(df.describe())"
   ]
  },
  {
   "cell_type": "code",
   "execution_count": 26,
   "metadata": {
    "collapsed": true
   },
   "outputs": [],
   "source": [
    "categorical_variables = ['sex', 'cp', 'fbs', 'restecg', 'exang', 'slope', 'thal', 'num']"
   ]
  },
  {
   "cell_type": "code",
   "execution_count": 27,
   "metadata": {
    "collapsed": true
   },
   "outputs": [],
   "source": [
    "# convert all categorical_variables into factor\n",
    "for var in categorical_variables:\n",
    "    df[var] = df[var].asfactor()\n",
    "y = df['num']"
   ]
  },
  {
   "cell_type": "code",
   "execution_count": 28,
   "metadata": {},
   "outputs": [
    {
     "name": "stdout",
     "output_type": "stream",
     "text": [
      "Rows:303\n",
      "Cols:14\n",
      "\n",
      "\n"
     ]
    },
    {
     "data": {
      "text/html": [
       "<table>\n",
       "<thead>\n",
       "<tr><th>       </th><th>age              </th><th>sex  </th><th>cp  </th><th>trestbps          </th><th>chol              </th><th>fbs  </th><th>restecg  </th><th>thalach           </th><th>exang  </th><th>oldpeak           </th><th>slope  </th><th>ca                </th><th>thal  </th><th>num  </th></tr>\n",
       "</thead>\n",
       "<tbody>\n",
       "<tr><td>type   </td><td>int              </td><td>enum </td><td>enum</td><td>int               </td><td>int               </td><td>enum </td><td>enum     </td><td>int               </td><td>enum   </td><td>real              </td><td>enum   </td><td>int               </td><td>enum  </td><td>enum </td></tr>\n",
       "<tr><td>mins   </td><td>29.0             </td><td>     </td><td>    </td><td>94.0              </td><td>126.0             </td><td>     </td><td>         </td><td>71.0              </td><td>       </td><td>0.0               </td><td>       </td><td>0.0               </td><td>      </td><td>     </td></tr>\n",
       "<tr><td>mean   </td><td>54.43894389438945</td><td>     </td><td>    </td><td>131.68976897689765</td><td>246.69306930693077</td><td>     </td><td>         </td><td>149.6072607260726 </td><td>       </td><td>1.0396039603960403</td><td>       </td><td>0.6722408026755854</td><td>      </td><td>     </td></tr>\n",
       "<tr><td>maxs   </td><td>77.0             </td><td>     </td><td>    </td><td>200.0             </td><td>564.0             </td><td>     </td><td>         </td><td>202.0             </td><td>       </td><td>6.2               </td><td>       </td><td>3.0               </td><td>      </td><td>     </td></tr>\n",
       "<tr><td>sigma  </td><td>9.038662442446752</td><td>     </td><td>    </td><td>17.59974772958769 </td><td>51.776917542637065</td><td>     </td><td>         </td><td>22.875003276980376</td><td>       </td><td>1.161075022068635 </td><td>       </td><td>0.937438317724216 </td><td>      </td><td>     </td></tr>\n",
       "<tr><td>zeros  </td><td>0                </td><td>     </td><td>    </td><td>0                 </td><td>0                 </td><td>     </td><td>         </td><td>0                 </td><td>       </td><td>99                </td><td>       </td><td>176               </td><td>      </td><td>     </td></tr>\n",
       "<tr><td>missing</td><td>0                </td><td>0    </td><td>0   </td><td>0                 </td><td>0                 </td><td>0    </td><td>0        </td><td>0                 </td><td>0      </td><td>0                 </td><td>0      </td><td>4                 </td><td>2     </td><td>0    </td></tr>\n",
       "<tr><td>0      </td><td>63.0             </td><td>1    </td><td>1   </td><td>145.0             </td><td>233.0             </td><td>1    </td><td>2        </td><td>150.0             </td><td>0      </td><td>2.3               </td><td>3      </td><td>0.0               </td><td>6     </td><td>0    </td></tr>\n",
       "<tr><td>1      </td><td>67.0             </td><td>1    </td><td>4   </td><td>160.0             </td><td>286.0             </td><td>0    </td><td>2        </td><td>108.0             </td><td>1      </td><td>1.5               </td><td>2      </td><td>3.0               </td><td>3     </td><td>2    </td></tr>\n",
       "<tr><td>2      </td><td>67.0             </td><td>1    </td><td>4   </td><td>120.0             </td><td>229.0             </td><td>0    </td><td>2        </td><td>129.0             </td><td>1      </td><td>2.6               </td><td>2      </td><td>2.0               </td><td>7     </td><td>1    </td></tr>\n",
       "<tr><td>3      </td><td>37.0             </td><td>1    </td><td>3   </td><td>130.0             </td><td>250.0             </td><td>0    </td><td>0        </td><td>187.0             </td><td>0      </td><td>3.5               </td><td>3      </td><td>0.0               </td><td>3     </td><td>0    </td></tr>\n",
       "<tr><td>4      </td><td>41.0             </td><td>0    </td><td>2   </td><td>130.0             </td><td>204.0             </td><td>0    </td><td>2        </td><td>172.0             </td><td>0      </td><td>1.4               </td><td>1      </td><td>0.0               </td><td>3     </td><td>0    </td></tr>\n",
       "<tr><td>5      </td><td>56.0             </td><td>1    </td><td>2   </td><td>120.0             </td><td>236.0             </td><td>0    </td><td>0        </td><td>178.0             </td><td>0      </td><td>0.8               </td><td>1      </td><td>0.0               </td><td>3     </td><td>0    </td></tr>\n",
       "<tr><td>6      </td><td>62.0             </td><td>0    </td><td>4   </td><td>140.0             </td><td>268.0             </td><td>0    </td><td>2        </td><td>160.0             </td><td>0      </td><td>3.6               </td><td>3      </td><td>2.0               </td><td>3     </td><td>3    </td></tr>\n",
       "<tr><td>7      </td><td>57.0             </td><td>0    </td><td>4   </td><td>120.0             </td><td>354.0             </td><td>0    </td><td>0        </td><td>163.0             </td><td>1      </td><td>0.6               </td><td>1      </td><td>0.0               </td><td>3     </td><td>0    </td></tr>\n",
       "<tr><td>8      </td><td>63.0             </td><td>1    </td><td>4   </td><td>130.0             </td><td>254.0             </td><td>0    </td><td>2        </td><td>147.0             </td><td>0      </td><td>1.4               </td><td>2      </td><td>1.0               </td><td>7     </td><td>2    </td></tr>\n",
       "<tr><td>9      </td><td>53.0             </td><td>1    </td><td>4   </td><td>140.0             </td><td>203.0             </td><td>1    </td><td>2        </td><td>155.0             </td><td>1      </td><td>3.1               </td><td>3      </td><td>0.0               </td><td>7     </td><td>1    </td></tr>\n",
       "</tbody>\n",
       "</table>"
      ]
     },
     "metadata": {},
     "output_type": "display_data"
    },
    {
     "name": "stdout",
     "output_type": "stream",
     "text": [
      "None\n"
     ]
    }
   ],
   "source": [
    "print(df.describe())"
   ]
  },
  {
   "cell_type": "code",
   "execution_count": 29,
   "metadata": {},
   "outputs": [
    {
     "name": "stdout",
     "output_type": "stream",
     "text": [
      "OK\n"
     ]
    }
   ],
   "source": [
    "# specify y/target variable\n",
    "y = df.columns[-1]\n",
    "meta_data['target'] = y\n",
    "for key, val in df.types.items():\n",
    "    if key in y:\n",
    "        if val in ['real','int','enum']:\n",
    "            print('OK')"
   ]
  },
  {
   "cell_type": "code",
   "execution_count": 30,
   "metadata": {},
   "outputs": [
    {
     "name": "stdout",
     "output_type": "stream",
     "text": [
      "Done\n",
      "[['0', '1', '2', '3', '4']]\n"
     ]
    }
   ],
   "source": [
    "# check if classification\n",
    "if classification:\n",
    "    df[y] = df[y].asfactor()\n",
    "    print('Done')\n",
    "    print(df[y].levels())\n",
    "else:\n",
    "    print('Regression!')"
   ]
  },
  {
   "cell_type": "code",
   "execution_count": 31,
   "metadata": {},
   "outputs": [
    {
     "name": "stdout",
     "output_type": "stream",
     "text": [
      "['age', 'sex', 'cp', 'trestbps', 'chol', 'fbs', 'restecg', 'thalach', 'exang', 'oldpeak', 'slope', 'ca', 'thal']\n"
     ]
    }
   ],
   "source": [
    "# specify X variables\n",
    "X = []\n",
    "for i in df.columns:\n",
    "    if i not in y:\n",
    "        X.append(i)\n",
    "print(X)"
   ]
  },
  {
   "cell_type": "code",
   "execution_count": 32,
   "metadata": {},
   "outputs": [
    {
     "name": "stdout",
     "output_type": "stream",
     "text": [
      "{'age': 'int', 'sex': 'enum', 'cp': 'enum', 'trestbps': 'int', 'chol': 'int', 'fbs': 'enum', 'restecg': 'enum', 'thalach': 'int', 'exang': 'enum', 'oldpeak': 'real', 'slope': 'enum', 'ca': 'int', 'thal': 'enum', 'num': 'enum'}\n"
     ]
    }
   ],
   "source": [
    "# get all variables and types\n",
    "allV=get_variables_types(df)\n",
    "meta_data['variables']=allV\n",
    "print(allV)"
   ]
  },
  {
   "cell_type": "markdown",
   "metadata": {},
   "source": [
    "### 5. Set up AutoML"
   ]
  },
  {
   "cell_type": "code",
   "execution_count": 33,
   "metadata": {
    "collapsed": true
   },
   "outputs": [],
   "source": [
    "# Split data into train/test by 0.9¶\n",
    "train, test = df.split_frame([0.9])"
   ]
  },
  {
   "cell_type": "code",
   "execution_count": 34,
   "metadata": {
    "collapsed": true
   },
   "outputs": [],
   "source": [
    "# Set up AutoML\n",
    "aml = H2OAutoML(max_runtime_secs=run_time,project_name = name, nfolds=4)"
   ]
  },
  {
   "cell_type": "code",
   "execution_count": 35,
   "metadata": {
    "collapsed": true
   },
   "outputs": [],
   "source": [
    "# model start time\n",
    "model_start_time = time.time()"
   ]
  },
  {
   "cell_type": "code",
   "execution_count": 36,
   "metadata": {},
   "outputs": [
    {
     "name": "stdout",
     "output_type": "stream",
     "text": [
      "AutoML progress: |████████████████████████████████████████████████████████| 100%\n"
     ]
    }
   ],
   "source": [
    "# start training\n",
    "aml.train(x=X,y=y,training_frame=train)"
   ]
  },
  {
   "cell_type": "code",
   "execution_count": 37,
   "metadata": {
    "collapsed": true
   },
   "outputs": [],
   "source": [
    "# caculate model_execution_time\n",
    "meta_data['model_execution_time'] = time.time() - model_start_time"
   ]
  },
  {
   "cell_type": "code",
   "execution_count": 38,
   "metadata": {},
   "outputs": [
    {
     "data": {
      "text/html": [
       "<div>\n",
       "<style>\n",
       "    .dataframe thead tr:only-child th {\n",
       "        text-align: right;\n",
       "    }\n",
       "\n",
       "    .dataframe thead th {\n",
       "        text-align: left;\n",
       "    }\n",
       "\n",
       "    .dataframe tbody tr th {\n",
       "        vertical-align: top;\n",
       "    }\n",
       "</style>\n",
       "<table border=\"1\" class=\"dataframe\">\n",
       "  <thead>\n",
       "    <tr style=\"text-align: right;\">\n",
       "      <th></th>\n",
       "      <th>model_id</th>\n",
       "      <th>mean_per_class_error</th>\n",
       "      <th>logloss</th>\n",
       "      <th>rmse</th>\n",
       "      <th>mse</th>\n",
       "    </tr>\n",
       "  </thead>\n",
       "  <tbody>\n",
       "    <tr>\n",
       "      <th>0</th>\n",
       "      <td>DeepLearning_grid_0_AutoML_20181010_192309_mod...</td>\n",
       "      <td>0.641105</td>\n",
       "      <td>3.623004</td>\n",
       "      <td>0.621207</td>\n",
       "      <td>0.385898</td>\n",
       "    </tr>\n",
       "    <tr>\n",
       "      <th>1</th>\n",
       "      <td>DeepLearning_grid_0_AutoML_20181010_192309_mod...</td>\n",
       "      <td>0.660479</td>\n",
       "      <td>1.385359</td>\n",
       "      <td>0.601860</td>\n",
       "      <td>0.362236</td>\n",
       "    </tr>\n",
       "    <tr>\n",
       "      <th>2</th>\n",
       "      <td>DeepLearning_grid_0_AutoML_20181010_192309_mod...</td>\n",
       "      <td>0.669033</td>\n",
       "      <td>2.306984</td>\n",
       "      <td>0.627345</td>\n",
       "      <td>0.393561</td>\n",
       "    </tr>\n",
       "    <tr>\n",
       "      <th>3</th>\n",
       "      <td>DeepLearning_grid_0_AutoML_20181010_192309_mod...</td>\n",
       "      <td>0.674888</td>\n",
       "      <td>3.161993</td>\n",
       "      <td>0.642206</td>\n",
       "      <td>0.412429</td>\n",
       "    </tr>\n",
       "    <tr>\n",
       "      <th>4</th>\n",
       "      <td>DRF_0_AutoML_20181010_192309</td>\n",
       "      <td>0.680444</td>\n",
       "      <td>2.075062</td>\n",
       "      <td>0.623384</td>\n",
       "      <td>0.388608</td>\n",
       "    </tr>\n",
       "    <tr>\n",
       "      <th>5</th>\n",
       "      <td>GBM_grid_0_AutoML_20181010_192309_model_10</td>\n",
       "      <td>0.685694</td>\n",
       "      <td>1.171716</td>\n",
       "      <td>0.614125</td>\n",
       "      <td>0.377149</td>\n",
       "    </tr>\n",
       "    <tr>\n",
       "      <th>6</th>\n",
       "      <td>DeepLearning_0_AutoML_20181010_192309</td>\n",
       "      <td>0.689413</td>\n",
       "      <td>1.180113</td>\n",
       "      <td>0.621511</td>\n",
       "      <td>0.386276</td>\n",
       "    </tr>\n",
       "    <tr>\n",
       "      <th>7</th>\n",
       "      <td>GBM_grid_0_AutoML_20181010_192309_model_9</td>\n",
       "      <td>0.692139</td>\n",
       "      <td>1.108126</td>\n",
       "      <td>0.622315</td>\n",
       "      <td>0.387276</td>\n",
       "    </tr>\n",
       "    <tr>\n",
       "      <th>8</th>\n",
       "      <td>GBM_grid_0_AutoML_20181010_192309_model_28</td>\n",
       "      <td>0.694955</td>\n",
       "      <td>1.286031</td>\n",
       "      <td>0.708684</td>\n",
       "      <td>0.502234</td>\n",
       "    </tr>\n",
       "    <tr>\n",
       "      <th>9</th>\n",
       "      <td>DeepLearning_grid_0_AutoML_20181010_192309_mod...</td>\n",
       "      <td>0.696861</td>\n",
       "      <td>1.840578</td>\n",
       "      <td>0.629664</td>\n",
       "      <td>0.396477</td>\n",
       "    </tr>\n",
       "    <tr>\n",
       "      <th>10</th>\n",
       "      <td>GBM_grid_0_AutoML_20181010_192309_model_31</td>\n",
       "      <td>0.703386</td>\n",
       "      <td>1.441917</td>\n",
       "      <td>0.760035</td>\n",
       "      <td>0.577654</td>\n",
       "    </tr>\n",
       "    <tr>\n",
       "      <th>11</th>\n",
       "      <td>GBM_grid_0_AutoML_20181010_192309_model_30</td>\n",
       "      <td>0.707519</td>\n",
       "      <td>10.298205</td>\n",
       "      <td>0.707934</td>\n",
       "      <td>0.501170</td>\n",
       "    </tr>\n",
       "    <tr>\n",
       "      <th>12</th>\n",
       "      <td>GBM_grid_0_AutoML_20181010_192309_model_25</td>\n",
       "      <td>0.707858</td>\n",
       "      <td>1.206938</td>\n",
       "      <td>0.633850</td>\n",
       "      <td>0.401765</td>\n",
       "    </tr>\n",
       "    <tr>\n",
       "      <th>13</th>\n",
       "      <td>GBM_grid_0_AutoML_20181010_192309_model_0</td>\n",
       "      <td>0.708003</td>\n",
       "      <td>1.278020</td>\n",
       "      <td>0.625429</td>\n",
       "      <td>0.391162</td>\n",
       "    </tr>\n",
       "    <tr>\n",
       "      <th>14</th>\n",
       "      <td>DeepLearning_grid_0_AutoML_20181010_192309_mod...</td>\n",
       "      <td>0.711265</td>\n",
       "      <td>1.685702</td>\n",
       "      <td>0.621260</td>\n",
       "      <td>0.385964</td>\n",
       "    </tr>\n",
       "    <tr>\n",
       "      <th>15</th>\n",
       "      <td>GBM_grid_0_AutoML_20181010_192309_model_2</td>\n",
       "      <td>0.712453</td>\n",
       "      <td>1.204954</td>\n",
       "      <td>0.625337</td>\n",
       "      <td>0.391046</td>\n",
       "    </tr>\n",
       "    <tr>\n",
       "      <th>16</th>\n",
       "      <td>GBM_grid_0_AutoML_20181010_192309_model_22</td>\n",
       "      <td>0.712647</td>\n",
       "      <td>1.571992</td>\n",
       "      <td>0.792214</td>\n",
       "      <td>0.627603</td>\n",
       "    </tr>\n",
       "    <tr>\n",
       "      <th>17</th>\n",
       "      <td>GBM_grid_0_AutoML_20181010_192309_model_17</td>\n",
       "      <td>0.714667</td>\n",
       "      <td>1.113566</td>\n",
       "      <td>0.622892</td>\n",
       "      <td>0.387995</td>\n",
       "    </tr>\n",
       "    <tr>\n",
       "      <th>18</th>\n",
       "      <td>GBM_grid_0_AutoML_20181010_192309_model_16</td>\n",
       "      <td>0.718052</td>\n",
       "      <td>1.466489</td>\n",
       "      <td>0.766862</td>\n",
       "      <td>0.588077</td>\n",
       "    </tr>\n",
       "    <tr>\n",
       "      <th>19</th>\n",
       "      <td>GLM_grid_0_AutoML_20181010_192309_model_0</td>\n",
       "      <td>0.719134</td>\n",
       "      <td>1.059283</td>\n",
       "      <td>0.610993</td>\n",
       "      <td>0.373312</td>\n",
       "    </tr>\n",
       "    <tr>\n",
       "      <th>20</th>\n",
       "      <td>GBM_grid_0_AutoML_20181010_192309_model_29</td>\n",
       "      <td>0.719202</td>\n",
       "      <td>1.242667</td>\n",
       "      <td>0.628463</td>\n",
       "      <td>0.394966</td>\n",
       "    </tr>\n",
       "    <tr>\n",
       "      <th>21</th>\n",
       "      <td>GBM_grid_0_AutoML_20181010_192309_model_3</td>\n",
       "      <td>0.725998</td>\n",
       "      <td>1.192371</td>\n",
       "      <td>0.622373</td>\n",
       "      <td>0.387348</td>\n",
       "    </tr>\n",
       "    <tr>\n",
       "      <th>22</th>\n",
       "      <td>GBM_grid_0_AutoML_20181010_192309_model_33</td>\n",
       "      <td>0.728056</td>\n",
       "      <td>1.145978</td>\n",
       "      <td>0.628846</td>\n",
       "      <td>0.395447</td>\n",
       "    </tr>\n",
       "    <tr>\n",
       "      <th>23</th>\n",
       "      <td>GBM_grid_0_AutoML_20181010_192309_model_4</td>\n",
       "      <td>0.732161</td>\n",
       "      <td>1.311876</td>\n",
       "      <td>0.717664</td>\n",
       "      <td>0.515042</td>\n",
       "    </tr>\n",
       "    <tr>\n",
       "      <th>24</th>\n",
       "      <td>GBM_grid_0_AutoML_20181010_192309_model_6</td>\n",
       "      <td>0.732722</td>\n",
       "      <td>1.325441</td>\n",
       "      <td>0.723422</td>\n",
       "      <td>0.523339</td>\n",
       "    </tr>\n",
       "    <tr>\n",
       "      <th>25</th>\n",
       "      <td>GBM_grid_0_AutoML_20181010_192309_model_1</td>\n",
       "      <td>0.733141</td>\n",
       "      <td>1.202131</td>\n",
       "      <td>0.623539</td>\n",
       "      <td>0.388801</td>\n",
       "    </tr>\n",
       "    <tr>\n",
       "      <th>26</th>\n",
       "      <td>GBM_grid_0_AutoML_20181010_192309_model_18</td>\n",
       "      <td>0.734751</td>\n",
       "      <td>1.573264</td>\n",
       "      <td>0.792480</td>\n",
       "      <td>0.628024</td>\n",
       "    </tr>\n",
       "    <tr>\n",
       "      <th>27</th>\n",
       "      <td>GBM_grid_0_AutoML_20181010_192309_model_21</td>\n",
       "      <td>0.741027</td>\n",
       "      <td>1.573183</td>\n",
       "      <td>0.792477</td>\n",
       "      <td>0.628020</td>\n",
       "    </tr>\n",
       "    <tr>\n",
       "      <th>28</th>\n",
       "      <td>GBM_grid_0_AutoML_20181010_192309_model_20</td>\n",
       "      <td>0.741197</td>\n",
       "      <td>1.138183</td>\n",
       "      <td>0.638388</td>\n",
       "      <td>0.407540</td>\n",
       "    </tr>\n",
       "    <tr>\n",
       "      <th>29</th>\n",
       "      <td>XRT_0_AutoML_20181010_192309</td>\n",
       "      <td>0.742528</td>\n",
       "      <td>2.388428</td>\n",
       "      <td>0.625120</td>\n",
       "      <td>0.390775</td>\n",
       "    </tr>\n",
       "    <tr>\n",
       "      <th>30</th>\n",
       "      <td>GBM_grid_0_AutoML_20181010_192309_model_8</td>\n",
       "      <td>0.744480</td>\n",
       "      <td>1.575328</td>\n",
       "      <td>0.792931</td>\n",
       "      <td>0.628740</td>\n",
       "    </tr>\n",
       "    <tr>\n",
       "      <th>31</th>\n",
       "      <td>GBM_grid_0_AutoML_20181010_192309_model_32</td>\n",
       "      <td>0.746129</td>\n",
       "      <td>1.322611</td>\n",
       "      <td>0.722908</td>\n",
       "      <td>0.522597</td>\n",
       "    </tr>\n",
       "    <tr>\n",
       "      <th>32</th>\n",
       "      <td>DeepLearning_grid_0_AutoML_20181010_192309_mod...</td>\n",
       "      <td>0.746213</td>\n",
       "      <td>1.237322</td>\n",
       "      <td>0.615123</td>\n",
       "      <td>0.378376</td>\n",
       "    </tr>\n",
       "    <tr>\n",
       "      <th>33</th>\n",
       "      <td>DeepLearning_grid_0_AutoML_20181010_192309_mod...</td>\n",
       "      <td>0.756932</td>\n",
       "      <td>1.610230</td>\n",
       "      <td>0.671247</td>\n",
       "      <td>0.450572</td>\n",
       "    </tr>\n",
       "    <tr>\n",
       "      <th>34</th>\n",
       "      <td>GBM_grid_0_AutoML_20181010_192309_model_26</td>\n",
       "      <td>0.765862</td>\n",
       "      <td>1.575037</td>\n",
       "      <td>0.792872</td>\n",
       "      <td>0.628647</td>\n",
       "    </tr>\n",
       "    <tr>\n",
       "      <th>35</th>\n",
       "      <td>GBM_grid_0_AutoML_20181010_192309_model_23</td>\n",
       "      <td>0.768618</td>\n",
       "      <td>1.576371</td>\n",
       "      <td>0.793161</td>\n",
       "      <td>0.629105</td>\n",
       "    </tr>\n",
       "    <tr>\n",
       "      <th>36</th>\n",
       "      <td>GBM_grid_0_AutoML_20181010_192309_model_7</td>\n",
       "      <td>0.772409</td>\n",
       "      <td>1.578284</td>\n",
       "      <td>0.793561</td>\n",
       "      <td>0.629738</td>\n",
       "    </tr>\n",
       "    <tr>\n",
       "      <th>37</th>\n",
       "      <td>GBM_grid_0_AutoML_20181010_192309_model_5</td>\n",
       "      <td>0.784552</td>\n",
       "      <td>1.578705</td>\n",
       "      <td>0.793647</td>\n",
       "      <td>0.629875</td>\n",
       "    </tr>\n",
       "    <tr>\n",
       "      <th>38</th>\n",
       "      <td>StackedEnsemble_BestOfFamily_0_AutoML_20181010...</td>\n",
       "      <td>0.800000</td>\n",
       "      <td>1.304548</td>\n",
       "      <td>0.685337</td>\n",
       "      <td>0.469687</td>\n",
       "    </tr>\n",
       "    <tr>\n",
       "      <th>39</th>\n",
       "      <td>StackedEnsemble_AllModels_0_AutoML_20181010_19...</td>\n",
       "      <td>0.800000</td>\n",
       "      <td>1.304548</td>\n",
       "      <td>0.685337</td>\n",
       "      <td>0.469687</td>\n",
       "    </tr>\n",
       "  </tbody>\n",
       "</table>\n",
       "</div>"
      ],
      "text/plain": [
       "                                             model_id  mean_per_class_error  \\\n",
       "0   DeepLearning_grid_0_AutoML_20181010_192309_mod...              0.641105   \n",
       "1   DeepLearning_grid_0_AutoML_20181010_192309_mod...              0.660479   \n",
       "2   DeepLearning_grid_0_AutoML_20181010_192309_mod...              0.669033   \n",
       "3   DeepLearning_grid_0_AutoML_20181010_192309_mod...              0.674888   \n",
       "4                        DRF_0_AutoML_20181010_192309              0.680444   \n",
       "5          GBM_grid_0_AutoML_20181010_192309_model_10              0.685694   \n",
       "6               DeepLearning_0_AutoML_20181010_192309              0.689413   \n",
       "7           GBM_grid_0_AutoML_20181010_192309_model_9              0.692139   \n",
       "8          GBM_grid_0_AutoML_20181010_192309_model_28              0.694955   \n",
       "9   DeepLearning_grid_0_AutoML_20181010_192309_mod...              0.696861   \n",
       "10         GBM_grid_0_AutoML_20181010_192309_model_31              0.703386   \n",
       "11         GBM_grid_0_AutoML_20181010_192309_model_30              0.707519   \n",
       "12         GBM_grid_0_AutoML_20181010_192309_model_25              0.707858   \n",
       "13          GBM_grid_0_AutoML_20181010_192309_model_0              0.708003   \n",
       "14  DeepLearning_grid_0_AutoML_20181010_192309_mod...              0.711265   \n",
       "15          GBM_grid_0_AutoML_20181010_192309_model_2              0.712453   \n",
       "16         GBM_grid_0_AutoML_20181010_192309_model_22              0.712647   \n",
       "17         GBM_grid_0_AutoML_20181010_192309_model_17              0.714667   \n",
       "18         GBM_grid_0_AutoML_20181010_192309_model_16              0.718052   \n",
       "19          GLM_grid_0_AutoML_20181010_192309_model_0              0.719134   \n",
       "20         GBM_grid_0_AutoML_20181010_192309_model_29              0.719202   \n",
       "21          GBM_grid_0_AutoML_20181010_192309_model_3              0.725998   \n",
       "22         GBM_grid_0_AutoML_20181010_192309_model_33              0.728056   \n",
       "23          GBM_grid_0_AutoML_20181010_192309_model_4              0.732161   \n",
       "24          GBM_grid_0_AutoML_20181010_192309_model_6              0.732722   \n",
       "25          GBM_grid_0_AutoML_20181010_192309_model_1              0.733141   \n",
       "26         GBM_grid_0_AutoML_20181010_192309_model_18              0.734751   \n",
       "27         GBM_grid_0_AutoML_20181010_192309_model_21              0.741027   \n",
       "28         GBM_grid_0_AutoML_20181010_192309_model_20              0.741197   \n",
       "29                       XRT_0_AutoML_20181010_192309              0.742528   \n",
       "30          GBM_grid_0_AutoML_20181010_192309_model_8              0.744480   \n",
       "31         GBM_grid_0_AutoML_20181010_192309_model_32              0.746129   \n",
       "32  DeepLearning_grid_0_AutoML_20181010_192309_mod...              0.746213   \n",
       "33  DeepLearning_grid_0_AutoML_20181010_192309_mod...              0.756932   \n",
       "34         GBM_grid_0_AutoML_20181010_192309_model_26              0.765862   \n",
       "35         GBM_grid_0_AutoML_20181010_192309_model_23              0.768618   \n",
       "36          GBM_grid_0_AutoML_20181010_192309_model_7              0.772409   \n",
       "37          GBM_grid_0_AutoML_20181010_192309_model_5              0.784552   \n",
       "38  StackedEnsemble_BestOfFamily_0_AutoML_20181010...              0.800000   \n",
       "39  StackedEnsemble_AllModels_0_AutoML_20181010_19...              0.800000   \n",
       "\n",
       "      logloss      rmse       mse  \n",
       "0    3.623004  0.621207  0.385898  \n",
       "1    1.385359  0.601860  0.362236  \n",
       "2    2.306984  0.627345  0.393561  \n",
       "3    3.161993  0.642206  0.412429  \n",
       "4    2.075062  0.623384  0.388608  \n",
       "5    1.171716  0.614125  0.377149  \n",
       "6    1.180113  0.621511  0.386276  \n",
       "7    1.108126  0.622315  0.387276  \n",
       "8    1.286031  0.708684  0.502234  \n",
       "9    1.840578  0.629664  0.396477  \n",
       "10   1.441917  0.760035  0.577654  \n",
       "11  10.298205  0.707934  0.501170  \n",
       "12   1.206938  0.633850  0.401765  \n",
       "13   1.278020  0.625429  0.391162  \n",
       "14   1.685702  0.621260  0.385964  \n",
       "15   1.204954  0.625337  0.391046  \n",
       "16   1.571992  0.792214  0.627603  \n",
       "17   1.113566  0.622892  0.387995  \n",
       "18   1.466489  0.766862  0.588077  \n",
       "19   1.059283  0.610993  0.373312  \n",
       "20   1.242667  0.628463  0.394966  \n",
       "21   1.192371  0.622373  0.387348  \n",
       "22   1.145978  0.628846  0.395447  \n",
       "23   1.311876  0.717664  0.515042  \n",
       "24   1.325441  0.723422  0.523339  \n",
       "25   1.202131  0.623539  0.388801  \n",
       "26   1.573264  0.792480  0.628024  \n",
       "27   1.573183  0.792477  0.628020  \n",
       "28   1.138183  0.638388  0.407540  \n",
       "29   2.388428  0.625120  0.390775  \n",
       "30   1.575328  0.792931  0.628740  \n",
       "31   1.322611  0.722908  0.522597  \n",
       "32   1.237322  0.615123  0.378376  \n",
       "33   1.610230  0.671247  0.450572  \n",
       "34   1.575037  0.792872  0.628647  \n",
       "35   1.576371  0.793161  0.629105  \n",
       "36   1.578284  0.793561  0.629738  \n",
       "37   1.578705  0.793647  0.629875  \n",
       "38   1.304548  0.685337  0.469687  \n",
       "39   1.304548  0.685337  0.469687  "
      ]
     },
     "execution_count": 38,
     "metadata": {},
     "output_type": "execute_result"
    }
   ],
   "source": [
    "# get leaderboard\n",
    "aml_leaderboard_df=aml.leaderboard.as_data_frame()\n",
    "aml_leaderboard_df"
   ]
  },
  {
   "cell_type": "markdown",
   "metadata": {},
   "source": [
    "### 6. Models Description"
   ]
  },
  {
   "cell_type": "code",
   "execution_count": 39,
   "metadata": {
    "collapsed": true
   },
   "outputs": [],
   "source": [
    "# Get model_set and top one model id\n",
    "model_set=aml_leaderboard_df['model_id']\n",
    "mod_best=h2o.get_model(model_set[0])"
   ]
  },
  {
   "cell_type": "code",
   "execution_count": 40,
   "metadata": {},
   "outputs": [
    {
     "name": "stdout",
     "output_type": "stream",
     "text": [
      "Model Details\n",
      "=============\n",
      "H2ODeepLearningEstimator :  Deep Learning\n",
      "Model Key:  DeepLearning_grid_0_AutoML_20181010_192309_model_4\n",
      "\n",
      "\n",
      "ModelMetricsMultinomial: deeplearning\n",
      "** Reported on train data. **\n",
      "\n",
      "MSE: 0.0015246638356461884\n",
      "RMSE: 0.0390469439988098\n",
      "LogLoss: 0.004170766908798843\n",
      "Mean Per-Class Error: 0.007692307692307693\n",
      "Confusion Matrix: Row labels: Actual class; Column labels: Predicted class\n",
      "\n"
     ]
    },
    {
     "data": {
      "text/html": [
       "<div style=\"overflow:auto\"><table style=\"width:50%\"><tr><td><b>0</b></td>\n",
       "<td><b>1</b></td>\n",
       "<td><b>2</b></td>\n",
       "<td><b>3</b></td>\n",
       "<td><b>4</b></td>\n",
       "<td><b>Error</b></td>\n",
       "<td><b>Rate</b></td></tr>\n",
       "<tr><td>118.0</td>\n",
       "<td>0.0</td>\n",
       "<td>0.0</td>\n",
       "<td>0.0</td>\n",
       "<td>0.0</td>\n",
       "<td>0.0</td>\n",
       "<td>0 / 118</td></tr>\n",
       "<tr><td>0.0</td>\n",
       "<td>40.0</td>\n",
       "<td>0.0</td>\n",
       "<td>0.0</td>\n",
       "<td>0.0</td>\n",
       "<td>0.0</td>\n",
       "<td>0 / 40</td></tr>\n",
       "<tr><td>0.0</td>\n",
       "<td>0.0</td>\n",
       "<td>28.0</td>\n",
       "<td>0.0</td>\n",
       "<td>0.0</td>\n",
       "<td>0.0</td>\n",
       "<td>0 / 28</td></tr>\n",
       "<tr><td>0.0</td>\n",
       "<td>1.0</td>\n",
       "<td>0.0</td>\n",
       "<td>25.0</td>\n",
       "<td>0.0</td>\n",
       "<td>0.0384615</td>\n",
       "<td>1 / 26</td></tr>\n",
       "<tr><td>0.0</td>\n",
       "<td>0.0</td>\n",
       "<td>0.0</td>\n",
       "<td>0.0</td>\n",
       "<td>11.0</td>\n",
       "<td>0.0</td>\n",
       "<td>0 / 11</td></tr>\n",
       "<tr><td>118.0</td>\n",
       "<td>41.0</td>\n",
       "<td>28.0</td>\n",
       "<td>25.0</td>\n",
       "<td>11.0</td>\n",
       "<td>0.0044843</td>\n",
       "<td>1 / 223</td></tr></table></div>"
      ],
      "text/plain": [
       "0    1    2    3    4    Error      Rate\n",
       "---  ---  ---  ---  ---  ---------  -------\n",
       "118  0    0    0    0    0          0 / 118\n",
       "0    40   0    0    0    0          0 / 40\n",
       "0    0    28   0    0    0          0 / 28\n",
       "0    1    0    25   0    0.0384615  1 / 26\n",
       "0    0    0    0    11   0          0 / 11\n",
       "118  41   28   25   11   0.0044843  1 / 223"
      ]
     },
     "metadata": {},
     "output_type": "display_data"
    },
    {
     "name": "stdout",
     "output_type": "stream",
     "text": [
      "Top-5 Hit Ratios: \n"
     ]
    },
    {
     "data": {
      "text/html": [
       "<div style=\"overflow:auto\"><table style=\"width:50%\"><tr><td><b>k</b></td>\n",
       "<td><b>hit_ratio</b></td></tr>\n",
       "<tr><td>1</td>\n",
       "<td>0.9955157</td></tr>\n",
       "<tr><td>2</td>\n",
       "<td>1.0</td></tr>\n",
       "<tr><td>3</td>\n",
       "<td>1.0</td></tr>\n",
       "<tr><td>4</td>\n",
       "<td>1.0</td></tr>\n",
       "<tr><td>5</td>\n",
       "<td>1.0</td></tr></table></div>"
      ],
      "text/plain": [
       "k    hit_ratio\n",
       "---  -----------\n",
       "1    0.995516\n",
       "2    1\n",
       "3    1\n",
       "4    1\n",
       "5    1"
      ]
     },
     "metadata": {},
     "output_type": "display_data"
    },
    {
     "name": "stdout",
     "output_type": "stream",
     "text": [
      "\n",
      "ModelMetricsMultinomial: deeplearning\n",
      "** Reported on validation data. **\n",
      "\n",
      "MSE: 0.41629388858502425\n",
      "RMSE: 0.6452084070941917\n",
      "LogLoss: 4.913588979479945\n",
      "Mean Per-Class Error: 0.6903296703296704\n",
      "Confusion Matrix: Row labels: Actual class; Column labels: Predicted class\n",
      "\n"
     ]
    },
    {
     "data": {
      "text/html": [
       "<div style=\"overflow:auto\"><table style=\"width:50%\"><tr><td><b>0</b></td>\n",
       "<td><b>1</b></td>\n",
       "<td><b>2</b></td>\n",
       "<td><b>3</b></td>\n",
       "<td><b>4</b></td>\n",
       "<td><b>Error</b></td>\n",
       "<td><b>Rate</b></td></tr>\n",
       "<tr><td>27.0</td>\n",
       "<td>1.0</td>\n",
       "<td>1.0</td>\n",
       "<td>1.0</td>\n",
       "<td>0.0</td>\n",
       "<td>0.1</td>\n",
       "<td>3 / 30</td></tr>\n",
       "<tr><td>7.0</td>\n",
       "<td>1.0</td>\n",
       "<td>1.0</td>\n",
       "<td>2.0</td>\n",
       "<td>2.0</td>\n",
       "<td>0.9230769</td>\n",
       "<td>12 / 13</td></tr>\n",
       "<tr><td>1.0</td>\n",
       "<td>2.0</td>\n",
       "<td>4.0</td>\n",
       "<td>0.0</td>\n",
       "<td>0.0</td>\n",
       "<td>0.4285714</td>\n",
       "<td>3 / 7</td></tr>\n",
       "<tr><td>0.0</td>\n",
       "<td>1.0</td>\n",
       "<td>4.0</td>\n",
       "<td>0.0</td>\n",
       "<td>0.0</td>\n",
       "<td>1.0</td>\n",
       "<td>5 / 5</td></tr>\n",
       "<tr><td>0.0</td>\n",
       "<td>0.0</td>\n",
       "<td>1.0</td>\n",
       "<td>0.0</td>\n",
       "<td>0.0</td>\n",
       "<td>1.0</td>\n",
       "<td>1 / 1</td></tr>\n",
       "<tr><td>35.0</td>\n",
       "<td>5.0</td>\n",
       "<td>11.0</td>\n",
       "<td>3.0</td>\n",
       "<td>2.0</td>\n",
       "<td>0.4285714</td>\n",
       "<td>24 / 56</td></tr></table></div>"
      ],
      "text/plain": [
       "0    1    2    3    4    Error     Rate\n",
       "---  ---  ---  ---  ---  --------  -------\n",
       "27   1    1    1    0    0.1       3 / 30\n",
       "7    1    1    2    2    0.923077  12 / 13\n",
       "1    2    4    0    0    0.428571  3 / 7\n",
       "0    1    4    0    0    1         5 / 5\n",
       "0    0    1    0    0    1         1 / 1\n",
       "35   5    11   3    2    0.428571  24 / 56"
      ]
     },
     "metadata": {},
     "output_type": "display_data"
    },
    {
     "name": "stdout",
     "output_type": "stream",
     "text": [
      "Top-5 Hit Ratios: \n"
     ]
    },
    {
     "data": {
      "text/html": [
       "<div style=\"overflow:auto\"><table style=\"width:50%\"><tr><td><b>k</b></td>\n",
       "<td><b>hit_ratio</b></td></tr>\n",
       "<tr><td>1</td>\n",
       "<td>0.5714286</td></tr>\n",
       "<tr><td>2</td>\n",
       "<td>0.7142857</td></tr>\n",
       "<tr><td>3</td>\n",
       "<td>0.8035715</td></tr>\n",
       "<tr><td>4</td>\n",
       "<td>0.9285715</td></tr>\n",
       "<tr><td>5</td>\n",
       "<td>1.0</td></tr></table></div>"
      ],
      "text/plain": [
       "k    hit_ratio\n",
       "---  -----------\n",
       "1    0.571429\n",
       "2    0.714286\n",
       "3    0.803571\n",
       "4    0.928571\n",
       "5    1"
      ]
     },
     "metadata": {},
     "output_type": "display_data"
    },
    {
     "name": "stdout",
     "output_type": "stream",
     "text": [
      "\n",
      "ModelMetricsMultinomial: deeplearning\n",
      "** Reported on cross-validation data. **\n",
      "\n",
      "MSE: 0.3858975450378395\n",
      "RMSE: 0.6212065236600783\n",
      "LogLoss: 3.623003584054258\n",
      "Mean Per-Class Error: 0.6411048273760139\n",
      "Confusion Matrix: Row labels: Actual class; Column labels: Predicted class\n",
      "\n"
     ]
    },
    {
     "data": {
      "text/html": [
       "<div style=\"overflow:auto\"><table style=\"width:50%\"><tr><td><b>0</b></td>\n",
       "<td><b>1</b></td>\n",
       "<td><b>2</b></td>\n",
       "<td><b>3</b></td>\n",
       "<td><b>4</b></td>\n",
       "<td><b>Error</b></td>\n",
       "<td><b>Rate</b></td></tr>\n",
       "<tr><td>105.0</td>\n",
       "<td>4.0</td>\n",
       "<td>9.0</td>\n",
       "<td>0.0</td>\n",
       "<td>0.0</td>\n",
       "<td>0.1101695</td>\n",
       "<td>13 / 118</td></tr>\n",
       "<tr><td>17.0</td>\n",
       "<td>12.0</td>\n",
       "<td>4.0</td>\n",
       "<td>4.0</td>\n",
       "<td>3.0</td>\n",
       "<td>0.7</td>\n",
       "<td>28 / 40</td></tr>\n",
       "<tr><td>8.0</td>\n",
       "<td>7.0</td>\n",
       "<td>9.0</td>\n",
       "<td>2.0</td>\n",
       "<td>2.0</td>\n",
       "<td>0.6785714</td>\n",
       "<td>19 / 28</td></tr>\n",
       "<tr><td>5.0</td>\n",
       "<td>9.0</td>\n",
       "<td>4.0</td>\n",
       "<td>5.0</td>\n",
       "<td>3.0</td>\n",
       "<td>0.8076923</td>\n",
       "<td>21 / 26</td></tr>\n",
       "<tr><td>1.0</td>\n",
       "<td>4.0</td>\n",
       "<td>2.0</td>\n",
       "<td>3.0</td>\n",
       "<td>1.0</td>\n",
       "<td>0.9090909</td>\n",
       "<td>10 / 11</td></tr>\n",
       "<tr><td>136.0</td>\n",
       "<td>36.0</td>\n",
       "<td>28.0</td>\n",
       "<td>14.0</td>\n",
       "<td>9.0</td>\n",
       "<td>0.4080717</td>\n",
       "<td>91 / 223</td></tr></table></div>"
      ],
      "text/plain": [
       "0    1    2    3    4    Error     Rate\n",
       "---  ---  ---  ---  ---  --------  --------\n",
       "105  4    9    0    0    0.110169  13 / 118\n",
       "17   12   4    4    3    0.7       28 / 40\n",
       "8    7    9    2    2    0.678571  19 / 28\n",
       "5    9    4    5    3    0.807692  21 / 26\n",
       "1    4    2    3    1    0.909091  10 / 11\n",
       "136  36   28   14   9    0.408072  91 / 223"
      ]
     },
     "metadata": {},
     "output_type": "display_data"
    },
    {
     "name": "stdout",
     "output_type": "stream",
     "text": [
      "Top-5 Hit Ratios: \n"
     ]
    },
    {
     "data": {
      "text/html": [
       "<div style=\"overflow:auto\"><table style=\"width:50%\"><tr><td><b>k</b></td>\n",
       "<td><b>hit_ratio</b></td></tr>\n",
       "<tr><td>1</td>\n",
       "<td>0.5919282</td></tr>\n",
       "<tr><td>2</td>\n",
       "<td>0.735426</td></tr>\n",
       "<tr><td>3</td>\n",
       "<td>0.8475336</td></tr>\n",
       "<tr><td>4</td>\n",
       "<td>0.9282512</td></tr>\n",
       "<tr><td>5</td>\n",
       "<td>1.0</td></tr></table></div>"
      ],
      "text/plain": [
       "k    hit_ratio\n",
       "---  -----------\n",
       "1    0.591928\n",
       "2    0.735426\n",
       "3    0.847534\n",
       "4    0.928251\n",
       "5    1"
      ]
     },
     "metadata": {},
     "output_type": "display_data"
    },
    {
     "name": "stdout",
     "output_type": "stream",
     "text": [
      "Cross-Validation Metrics Summary: \n"
     ]
    },
    {
     "data": {
      "text/html": [
       "<div style=\"overflow:auto\"><table style=\"width:50%\"><tr><td><b></b></td>\n",
       "<td><b>mean</b></td>\n",
       "<td><b>sd</b></td>\n",
       "<td><b>cv_1_valid</b></td>\n",
       "<td><b>cv_2_valid</b></td>\n",
       "<td><b>cv_3_valid</b></td>\n",
       "<td><b>cv_4_valid</b></td></tr>\n",
       "<tr><td>accuracy</td>\n",
       "<td>0.5913961</td>\n",
       "<td>0.0534035</td>\n",
       "<td>0.6785714</td>\n",
       "<td>0.625</td>\n",
       "<td>0.5892857</td>\n",
       "<td>0.4727273</td></tr>\n",
       "<tr><td>err</td>\n",
       "<td>0.4086039</td>\n",
       "<td>0.0534035</td>\n",
       "<td>0.3214286</td>\n",
       "<td>0.375</td>\n",
       "<td>0.4107143</td>\n",
       "<td>0.5272727</td></tr>\n",
       "<tr><td>err_count</td>\n",
       "<td>22.75</td>\n",
       "<td>2.8449516</td>\n",
       "<td>18.0</td>\n",
       "<td>21.0</td>\n",
       "<td>23.0</td>\n",
       "<td>29.0</td></tr>\n",
       "<tr><td>logloss</td>\n",
       "<td>3.6279848</td>\n",
       "<td>0.8583967</td>\n",
       "<td>1.7696465</td>\n",
       "<td>4.682969</td>\n",
       "<td>3.320557</td>\n",
       "<td>4.7387657</td></tr>\n",
       "<tr><td>max_per_class_error</td>\n",
       "<td>0.975</td>\n",
       "<td>0.0306186</td>\n",
       "<td>1.0</td>\n",
       "<td>1.0</td>\n",
       "<td>0.9</td>\n",
       "<td>1.0</td></tr>\n",
       "<tr><td>mean_per_class_accuracy</td>\n",
       "<td>0.3461451</td>\n",
       "<td>0.0798298</td>\n",
       "<td>0.5137363</td>\n",
       "<td>0.2661616</td>\n",
       "<td>0.3819048</td>\n",
       "<td>0.2227778</td></tr>\n",
       "<tr><td>mean_per_class_error</td>\n",
       "<td>0.6538549</td>\n",
       "<td>0.0798298</td>\n",
       "<td>0.4862637</td>\n",
       "<td>0.7338384</td>\n",
       "<td>0.6180952</td>\n",
       "<td>0.7772222</td></tr>\n",
       "<tr><td>mse</td>\n",
       "<td>0.3863315</td>\n",
       "<td>0.0462165</td>\n",
       "<td>0.2997240</td>\n",
       "<td>0.3720385</td>\n",
       "<td>0.3904563</td>\n",
       "<td>0.4831074</td></tr>\n",
       "<tr><td>r2</td>\n",
       "<td>0.7495970</td>\n",
       "<td>0.0146904</td>\n",
       "<td>0.7659526</td>\n",
       "<td>0.7139709</td>\n",
       "<td>0.7606586</td>\n",
       "<td>0.7578058</td></tr>\n",
       "<tr><td>rmse</td>\n",
       "<td>0.6193361</td>\n",
       "<td>0.0371102</td>\n",
       "<td>0.5474705</td>\n",
       "<td>0.6099495</td>\n",
       "<td>0.624865</td>\n",
       "<td>0.6950592</td></tr></table></div>"
      ],
      "text/plain": [
       "                         mean      sd         cv_1_valid    cv_2_valid    cv_3_valid    cv_4_valid\n",
       "-----------------------  --------  ---------  ------------  ------------  ------------  ------------\n",
       "accuracy                 0.591396  0.0534035  0.678571      0.625         0.589286      0.472727\n",
       "err                      0.408604  0.0534035  0.321429      0.375         0.410714      0.527273\n",
       "err_count                22.75     2.84495    18            21            23            29\n",
       "logloss                  3.62798   0.858397   1.76965       4.68297       3.32056       4.73877\n",
       "max_per_class_error      0.975     0.0306186  1             1             0.9           1\n",
       "mean_per_class_accuracy  0.346145  0.0798298  0.513736      0.266162      0.381905      0.222778\n",
       "mean_per_class_error     0.653855  0.0798298  0.486264      0.733838      0.618095      0.777222\n",
       "mse                      0.386332  0.0462165  0.299724      0.372038      0.390456      0.483107\n",
       "r2                       0.749597  0.0146904  0.765953      0.713971      0.760659      0.757806\n",
       "rmse                     0.619336  0.0371102  0.54747       0.60995       0.624865      0.695059"
      ]
     },
     "metadata": {},
     "output_type": "display_data"
    },
    {
     "name": "stdout",
     "output_type": "stream",
     "text": [
      "Scoring History: \n"
     ]
    },
    {
     "data": {
      "text/html": [
       "<div style=\"overflow:auto\"><table style=\"width:50%\"><tr><td><b></b></td>\n",
       "<td><b>timestamp</b></td>\n",
       "<td><b>duration</b></td>\n",
       "<td><b>training_speed</b></td>\n",
       "<td><b>epochs</b></td>\n",
       "<td><b>iterations</b></td>\n",
       "<td><b>samples</b></td>\n",
       "<td><b>training_rmse</b></td>\n",
       "<td><b>training_logloss</b></td>\n",
       "<td><b>training_r2</b></td>\n",
       "<td><b>training_classification_error</b></td>\n",
       "<td><b>validation_rmse</b></td>\n",
       "<td><b>validation_logloss</b></td>\n",
       "<td><b>validation_r2</b></td>\n",
       "<td><b>validation_classification_error</b></td></tr>\n",
       "<tr><td></td>\n",
       "<td>2018-10-10 19:28:00</td>\n",
       "<td> 0.000 sec</td>\n",
       "<td>None</td>\n",
       "<td>0.0</td>\n",
       "<td>0</td>\n",
       "<td>0.0</td>\n",
       "<td>nan</td>\n",
       "<td>nan</td>\n",
       "<td>nan</td>\n",
       "<td>nan</td>\n",
       "<td>nan</td>\n",
       "<td>nan</td>\n",
       "<td>nan</td>\n",
       "<td>nan</td></tr>\n",
       "<tr><td></td>\n",
       "<td>2018-10-10 19:28:00</td>\n",
       "<td> 4 min 10.114 sec</td>\n",
       "<td>13273 obs/sec</td>\n",
       "<td>10.0</td>\n",
       "<td>1</td>\n",
       "<td>2230.0</td>\n",
       "<td>0.5352346</td>\n",
       "<td>1.8196551</td>\n",
       "<td>0.8168920</td>\n",
       "<td>0.3094170</td>\n",
       "<td>0.6622628</td>\n",
       "<td>2.9473939</td>\n",
       "<td>0.6175127</td>\n",
       "<td>0.4464286</td></tr>\n",
       "<tr><td></td>\n",
       "<td>2018-10-10 19:28:05</td>\n",
       "<td> 4 min 15.129 sec</td>\n",
       "<td>21964 obs/sec</td>\n",
       "<td>510.0</td>\n",
       "<td>51</td>\n",
       "<td>113730.0</td>\n",
       "<td>0.0774225</td>\n",
       "<td>0.0197843</td>\n",
       "<td>0.9961686</td>\n",
       "<td>0.0089686</td>\n",
       "<td>0.6465957</td>\n",
       "<td>4.9549479</td>\n",
       "<td>0.6353955</td>\n",
       "<td>0.4285714</td></tr>\n",
       "<tr><td></td>\n",
       "<td>2018-10-10 19:28:08</td>\n",
       "<td> 4 min 18.787 sec</td>\n",
       "<td>22471 obs/sec</td>\n",
       "<td>890.0</td>\n",
       "<td>89</td>\n",
       "<td>198470.0</td>\n",
       "<td>0.0390469</td>\n",
       "<td>0.0041708</td>\n",
       "<td>0.9990255</td>\n",
       "<td>0.0044843</td>\n",
       "<td>0.6452084</td>\n",
       "<td>4.9135890</td>\n",
       "<td>0.6369584</td>\n",
       "<td>0.4285714</td></tr></table></div>"
      ],
      "text/plain": [
       "    timestamp            duration          training_speed    epochs    iterations    samples    training_rmse    training_logloss    training_r2    training_classification_error    validation_rmse    validation_logloss    validation_r2    validation_classification_error\n",
       "--  -------------------  ----------------  ----------------  --------  ------------  ---------  ---------------  ------------------  -------------  -------------------------------  -----------------  --------------------  ---------------  ---------------------------------\n",
       "    2018-10-10 19:28:00  0.000 sec                           0         0             0          nan              nan                 nan            nan                              nan                nan                   nan              nan\n",
       "    2018-10-10 19:28:00  4 min 10.114 sec  13273 obs/sec     10        1             2230       0.535235         1.81966             0.816892       0.309417                         0.662263           2.94739               0.617513         0.446429\n",
       "    2018-10-10 19:28:05  4 min 15.129 sec  21964 obs/sec     510       51            113730     0.0774225        0.0197843           0.996169       0.00896861                       0.646596           4.95495               0.635396         0.428571\n",
       "    2018-10-10 19:28:08  4 min 18.787 sec  22471 obs/sec     890       89            198470     0.0390469        0.00417077          0.999025       0.0044843                        0.645208           4.91359               0.636958         0.428571"
      ]
     },
     "metadata": {},
     "output_type": "display_data"
    },
    {
     "name": "stdout",
     "output_type": "stream",
     "text": [
      "Variable Importances: \n"
     ]
    },
    {
     "data": {
      "text/html": [
       "<div style=\"overflow:auto\"><table style=\"width:50%\"><tr><td><b>variable</b></td>\n",
       "<td><b>relative_importance</b></td>\n",
       "<td><b>scaled_importance</b></td>\n",
       "<td><b>percentage</b></td></tr>\n",
       "<tr><td>oldpeak</td>\n",
       "<td>1.0</td>\n",
       "<td>1.0</td>\n",
       "<td>0.0602728</td></tr>\n",
       "<tr><td>chol</td>\n",
       "<td>0.9922000</td>\n",
       "<td>0.9922000</td>\n",
       "<td>0.0598027</td></tr>\n",
       "<tr><td>trestbps</td>\n",
       "<td>0.8903198</td>\n",
       "<td>0.8903198</td>\n",
       "<td>0.0536621</td></tr>\n",
       "<tr><td>age</td>\n",
       "<td>0.8719403</td>\n",
       "<td>0.8719403</td>\n",
       "<td>0.0525543</td></tr>\n",
       "<tr><td>thalach</td>\n",
       "<td>0.8569664</td>\n",
       "<td>0.8569664</td>\n",
       "<td>0.0516518</td></tr>\n",
       "<tr><td>---</td>\n",
       "<td>---</td>\n",
       "<td>---</td>\n",
       "<td>---</td></tr>\n",
       "<tr><td>restecg.missing(NA)</td>\n",
       "<td>0.0</td>\n",
       "<td>0.0</td>\n",
       "<td>0.0</td></tr>\n",
       "<tr><td>slope.missing(NA)</td>\n",
       "<td>0.0</td>\n",
       "<td>0.0</td>\n",
       "<td>0.0</td></tr>\n",
       "<tr><td>exang.missing(NA)</td>\n",
       "<td>0.0</td>\n",
       "<td>0.0</td>\n",
       "<td>0.0</td></tr>\n",
       "<tr><td>fbs.missing(NA)</td>\n",
       "<td>0.0</td>\n",
       "<td>0.0</td>\n",
       "<td>0.0</td></tr>\n",
       "<tr><td>sex.missing(NA)</td>\n",
       "<td>0.0</td>\n",
       "<td>0.0</td>\n",
       "<td>0.0</td></tr></table></div>"
      ],
      "text/plain": [
       "variable             relative_importance    scaled_importance    percentage\n",
       "-------------------  ---------------------  -------------------  -------------------\n",
       "oldpeak              1.0                    1.0                  0.06027284849643422\n",
       "chol                 0.9922000169754028     0.9922000169754028   0.05980272130131791\n",
       "trestbps             0.8903197646141052     0.8903197646141052   0.05366210828596694\n",
       "age                  0.8719403147697449     0.8719403147697449   0.05255432649004999\n",
       "thalach              0.8569663763046265     0.8569663763046265   0.05165180456554698\n",
       "---                  ---                    ---                  ---\n",
       "restecg.missing(NA)  0.0                    0.0                  0.0\n",
       "slope.missing(NA)    0.0                    0.0                  0.0\n",
       "exang.missing(NA)    0.0                    0.0                  0.0\n",
       "fbs.missing(NA)      0.0                    0.0                  0.0\n",
       "sex.missing(NA)      0.0                    0.0                  0.0"
      ]
     },
     "metadata": {},
     "output_type": "display_data"
    },
    {
     "name": "stdout",
     "output_type": "stream",
     "text": [
      "\n",
      "See the whole table with table.as_data_frame()\n"
     ]
    },
    {
     "data": {
      "text/plain": []
     },
     "execution_count": 40,
     "metadata": {},
     "output_type": "execute_result"
    }
   ],
   "source": [
    "mod_best"
   ]
  },
  {
   "cell_type": "code",
   "execution_count": 41,
   "metadata": {},
   "outputs": [
    {
     "name": "stdout",
     "output_type": "stream",
     "text": [
      "StackedEnsemble_BestOfFamily_0_AutoML_20181010_192309\n"
     ]
    }
   ],
   "source": [
    "# Get stacked ensemble model\n",
    "se=get_stacked_ensemble(model_set)\n",
    "print(se)\n",
    "mod_best_se=h2o.get_model(se)"
   ]
  },
  {
   "cell_type": "code",
   "execution_count": 42,
   "metadata": {},
   "outputs": [
    {
     "name": "stdout",
     "output_type": "stream",
     "text": [
      "Model Details\n",
      "=============\n",
      "H2OStackedEnsembleEstimator :  Stacked Ensemble\n",
      "Model Key:  StackedEnsemble_BestOfFamily_0_AutoML_20181010_192309\n",
      "No model summary for this model\n",
      "\n",
      "\n",
      "ModelMetricsMultinomialGLM: stackedensemble\n",
      "** Reported on train data. **\n",
      "\n",
      "MSE: 0.4696872294472811\n",
      "RMSE: 0.6853373107071299\n",
      "\n",
      "ModelMetricsMultinomialGLM: stackedensemble\n",
      "** Reported on validation data. **\n",
      "\n",
      "MSE: 0.45649958489297726\n",
      "RMSE: 0.6756475300724315\n",
      "\n",
      "ModelMetricsMultinomialGLM: stackedensemble\n",
      "** Reported on cross-validation data. **\n",
      "\n",
      "MSE: 0.4696872294472817\n",
      "RMSE: 0.6853373107071303\n"
     ]
    },
    {
     "data": {
      "text/plain": []
     },
     "execution_count": 42,
     "metadata": {},
     "output_type": "execute_result"
    }
   ],
   "source": [
    "mod_best_se"
   ]
  },
  {
   "cell_type": "code",
   "execution_count": 43,
   "metadata": {},
   "outputs": [
    {
     "data": {
      "text/plain": [
       "['GBM_grid_0_AutoML_20181010_192309_model_10',\n",
       " 'GLM_grid_0_AutoML_20181010_192309_model_0',\n",
       " 'DRF_0_AutoML_20181010_192309',\n",
       " 'XRT_0_AutoML_20181010_192309',\n",
       " 'DeepLearning_grid_0_AutoML_20181010_192309_model_4',\n",
       " 'StackedEnsemble_BestOfFamily_0_AutoML_20181010_192309']"
      ]
     },
     "execution_count": 43,
     "metadata": {},
     "output_type": "execute_result"
    }
   ],
   "source": [
    "# get the best model for different types\n",
    "bm=stackedensemble_df(aml_leaderboard_df)\n",
    "if se is not None:\n",
    "    bm.append(se)\n",
    "bm"
   ]
  },
  {
   "cell_type": "code",
   "execution_count": 44,
   "metadata": {},
   "outputs": [
    {
     "data": {
      "text/html": [
       "<div>\n",
       "<style>\n",
       "    .dataframe thead tr:only-child th {\n",
       "        text-align: right;\n",
       "    }\n",
       "\n",
       "    .dataframe thead th {\n",
       "        text-align: left;\n",
       "    }\n",
       "\n",
       "    .dataframe tbody tr th {\n",
       "        vertical-align: top;\n",
       "    }\n",
       "</style>\n",
       "<table border=\"1\" class=\"dataframe\">\n",
       "  <thead>\n",
       "    <tr style=\"text-align: right;\">\n",
       "      <th></th>\n",
       "      <th>model_id</th>\n",
       "      <th>mean_per_class_error</th>\n",
       "      <th>logloss</th>\n",
       "      <th>rmse</th>\n",
       "      <th>mse</th>\n",
       "    </tr>\n",
       "  </thead>\n",
       "  <tbody>\n",
       "    <tr>\n",
       "      <th>0</th>\n",
       "      <td>DeepLearning_grid_0_AutoML_20181010_192309_mod...</td>\n",
       "      <td>0.641105</td>\n",
       "      <td>3.623004</td>\n",
       "      <td>0.621207</td>\n",
       "      <td>0.385898</td>\n",
       "    </tr>\n",
       "    <tr>\n",
       "      <th>4</th>\n",
       "      <td>DRF_0_AutoML_20181010_192309</td>\n",
       "      <td>0.680444</td>\n",
       "      <td>2.075062</td>\n",
       "      <td>0.623384</td>\n",
       "      <td>0.388608</td>\n",
       "    </tr>\n",
       "    <tr>\n",
       "      <th>5</th>\n",
       "      <td>GBM_grid_0_AutoML_20181010_192309_model_10</td>\n",
       "      <td>0.685694</td>\n",
       "      <td>1.171716</td>\n",
       "      <td>0.614125</td>\n",
       "      <td>0.377149</td>\n",
       "    </tr>\n",
       "    <tr>\n",
       "      <th>19</th>\n",
       "      <td>GLM_grid_0_AutoML_20181010_192309_model_0</td>\n",
       "      <td>0.719134</td>\n",
       "      <td>1.059283</td>\n",
       "      <td>0.610993</td>\n",
       "      <td>0.373312</td>\n",
       "    </tr>\n",
       "    <tr>\n",
       "      <th>29</th>\n",
       "      <td>XRT_0_AutoML_20181010_192309</td>\n",
       "      <td>0.742528</td>\n",
       "      <td>2.388428</td>\n",
       "      <td>0.625120</td>\n",
       "      <td>0.390775</td>\n",
       "    </tr>\n",
       "    <tr>\n",
       "      <th>38</th>\n",
       "      <td>StackedEnsemble_BestOfFamily_0_AutoML_20181010...</td>\n",
       "      <td>0.800000</td>\n",
       "      <td>1.304548</td>\n",
       "      <td>0.685337</td>\n",
       "      <td>0.469687</td>\n",
       "    </tr>\n",
       "  </tbody>\n",
       "</table>\n",
       "</div>"
      ],
      "text/plain": [
       "                                             model_id  mean_per_class_error  \\\n",
       "0   DeepLearning_grid_0_AutoML_20181010_192309_mod...              0.641105   \n",
       "4                        DRF_0_AutoML_20181010_192309              0.680444   \n",
       "5          GBM_grid_0_AutoML_20181010_192309_model_10              0.685694   \n",
       "19          GLM_grid_0_AutoML_20181010_192309_model_0              0.719134   \n",
       "29                       XRT_0_AutoML_20181010_192309              0.742528   \n",
       "38  StackedEnsemble_BestOfFamily_0_AutoML_20181010...              0.800000   \n",
       "\n",
       "     logloss      rmse       mse  \n",
       "0   3.623004  0.621207  0.385898  \n",
       "4   2.075062  0.623384  0.388608  \n",
       "5   1.171716  0.614125  0.377149  \n",
       "19  1.059283  0.610993  0.373312  \n",
       "29  2.388428  0.625120  0.390775  \n",
       "38  1.304548  0.685337  0.469687  "
      ]
     },
     "execution_count": 44,
     "metadata": {},
     "output_type": "execute_result"
    }
   ],
   "source": [
    "# Best Models leaderboard\n",
    "aml_leaderboard_df_best=aml_leaderboard_df.loc[aml_leaderboard_df['model_id'].isin(bm)]\n",
    "aml_leaderboard_df_best"
   ]
  },
  {
   "cell_type": "code",
   "execution_count": 45,
   "metadata": {
    "collapsed": true
   },
   "outputs": [],
   "source": [
    "# save leaderboard\n",
    "leaderboard_stats = os.path.join(report_Path, run_id + '_leaderboard.csv')\n",
    "aml_leaderboard_df.to_csv(leaderboard_stats)\n",
    "\n",
    "leaderboard_stats = os.path.join(report_Path, run_id + '_BestModel_leaderboard.csv')\n",
    "aml_leaderboard_df_best.to_csv(leaderboard_stats)"
   ]
  },
  {
   "cell_type": "code",
   "execution_count": 46,
   "metadata": {},
   "outputs": [
    {
     "name": "stdout",
     "output_type": "stream",
     "text": [
      "DeepLearning_grid_0_AutoML_20181010_192309_model_4\n",
      "deeplearning\n"
     ]
    }
   ],
   "source": [
    "# get the best model and the algo and save all into meta_data\n",
    "print(mod_best._id)\n",
    "print(mod_best.algo)\n",
    "\n",
    "meta_data['mod_best']=mod_best._id\n",
    "meta_data['mod_best_algo']=mod_best.algo\n",
    "\n",
    "meta_data['models']=bm"
   ]
  },
  {
   "cell_type": "code",
   "execution_count": 47,
   "metadata": {
    "collapsed": true
   },
   "outputs": [],
   "source": [
    "# save all models\n",
    "for mod in bm:\n",
    "    try:   \n",
    "        m=h2o.get_model(mod) \n",
    "        h2o.save_model(m, path = model_Path)\n",
    "    except:    \n",
    "        pass"
   ]
  },
  {
   "cell_type": "markdown",
   "metadata": {},
   "source": [
    "### 7. Result & Prediction\n",
    "#### Best Model Prediction"
   ]
  },
  {
   "cell_type": "code",
   "execution_count": 48,
   "metadata": {},
   "outputs": [
    {
     "name": "stdout",
     "output_type": "stream",
     "text": [
      "deeplearning prediction progress: |███████████████████████████████████████| 100%\n"
     ]
    },
    {
     "data": {
      "text/html": [
       "<table>\n",
       "<thead>\n",
       "<tr><th style=\"text-align: right;\">  predict</th><th style=\"text-align: right;\">         p0</th><th style=\"text-align: right;\">         p1</th><th style=\"text-align: right;\">         p2</th><th style=\"text-align: right;\">         p3</th><th style=\"text-align: right;\">         p4</th></tr>\n",
       "</thead>\n",
       "<tbody>\n",
       "<tr><td style=\"text-align: right;\">        0</td><td style=\"text-align: right;\">0.999985   </td><td style=\"text-align: right;\">1.48377e-05</td><td style=\"text-align: right;\">5.56013e-12</td><td style=\"text-align: right;\">2.3033e-11 </td><td style=\"text-align: right;\">1.10132e-07</td></tr>\n",
       "<tr><td style=\"text-align: right;\">        0</td><td style=\"text-align: right;\">0.687616   </td><td style=\"text-align: right;\">6.83536e-05</td><td style=\"text-align: right;\">0.312316   </td><td style=\"text-align: right;\">6.48837e-08</td><td style=\"text-align: right;\">4.31791e-20</td></tr>\n",
       "<tr><td style=\"text-align: right;\">        0</td><td style=\"text-align: right;\">0.999999   </td><td style=\"text-align: right;\">1.33232e-06</td><td style=\"text-align: right;\">1.11755e-12</td><td style=\"text-align: right;\">2.90263e-20</td><td style=\"text-align: right;\">1.09834e-21</td></tr>\n",
       "<tr><td style=\"text-align: right;\">        2</td><td style=\"text-align: right;\">0.000385969</td><td style=\"text-align: right;\">0.324146   </td><td style=\"text-align: right;\">0.675467   </td><td style=\"text-align: right;\">1.32314e-06</td><td style=\"text-align: right;\">1.2144e-08 </td></tr>\n",
       "<tr><td style=\"text-align: right;\">        0</td><td style=\"text-align: right;\">1          </td><td style=\"text-align: right;\">1.5592e-11 </td><td style=\"text-align: right;\">3.11623e-14</td><td style=\"text-align: right;\">1.73713e-15</td><td style=\"text-align: right;\">1.25182e-21</td></tr>\n",
       "</tbody>\n",
       "</table>"
      ]
     },
     "metadata": {},
     "output_type": "display_data"
    },
    {
     "data": {
      "text/plain": []
     },
     "execution_count": 48,
     "metadata": {},
     "output_type": "execute_result"
    }
   ],
   "source": [
    "predictions_df, mod_perf = predictions_test(mod_best,test,run_id, True)\n",
    "predictions_df.head(5)"
   ]
  },
  {
   "cell_type": "code",
   "execution_count": 49,
   "metadata": {},
   "outputs": [
    {
     "name": "stdout",
     "output_type": "stream",
     "text": [
      "Rows:24\n",
      "Cols:6\n",
      "\n",
      "\n"
     ]
    },
    {
     "data": {
      "text/html": [
       "<table>\n",
       "<thead>\n",
       "<tr><th>       </th><th>predict  </th><th>p0                    </th><th>p1                    </th><th>p2                    </th><th>p3                    </th><th>p4                    </th></tr>\n",
       "</thead>\n",
       "<tbody>\n",
       "<tr><td>type   </td><td>enum     </td><td>real                  </td><td>real                  </td><td>real                  </td><td>real                  </td><td>real                  </td></tr>\n",
       "<tr><td>mins   </td><td>         </td><td>4.4983621314189174e-15</td><td>3.5981754960071714e-20</td><td>9.285273326926856e-31 </td><td>2.3861046374024978e-35</td><td>9.51829499986522e-44  </td></tr>\n",
       "<tr><td>mean   </td><td>         </td><td>0.6800246572397989    </td><td>0.08360943028718994   </td><td>0.04150042182551973   </td><td>0.1946597078640175    </td><td>0.0002057827834738926 </td></tr>\n",
       "<tr><td>maxs   </td><td>         </td><td>1.0                   </td><td>0.9999999989295363    </td><td>0.6754670033473898    </td><td>0.9999993849462901    </td><td>0.0033547573409389844 </td></tr>\n",
       "<tr><td>sigma  </td><td>         </td><td>0.4552393971281812    </td><td>0.22350533668452788   </td><td>0.14927634811500184   </td><td>0.39052600344650434   </td><td>0.0007444531550684305 </td></tr>\n",
       "<tr><td>zeros  </td><td>         </td><td>0                     </td><td>0                     </td><td>0                     </td><td>0                     </td><td>0                     </td></tr>\n",
       "<tr><td>missing</td><td>0        </td><td>0                     </td><td>0                     </td><td>0                     </td><td>0                     </td><td>0                     </td></tr>\n",
       "<tr><td>0      </td><td>0        </td><td>0.9999850520973436    </td><td>1.4837741823506623e-05</td><td>5.56013256044636e-12  </td><td>2.3032965269205616e-11</td><td>1.1013223963098849e-07</td></tr>\n",
       "<tr><td>1      </td><td>0        </td><td>0.6876159734750303    </td><td>6.835356155834415e-05 </td><td>0.3123156080796732    </td><td>6.488373804995798e-08 </td><td>4.317905404966581e-20 </td></tr>\n",
       "<tr><td>2      </td><td>0        </td><td>0.9999986676741558    </td><td>1.332324726759318e-06 </td><td>1.117553757074342e-12 </td><td>2.902627905128777e-20 </td><td>1.0983405883465096e-21</td></tr>\n",
       "<tr><td>3      </td><td>2        </td><td>0.0003859685938421216 </td><td>0.3241456927744794    </td><td>0.6754670033473898    </td><td>1.3231402605022768e-06</td><td>1.214402791919399e-08 </td></tr>\n",
       "<tr><td>4      </td><td>0        </td><td>0.9999999999843752    </td><td>1.5592015784959338e-11</td><td>3.1162325634037714e-14</td><td>1.7371259522665646e-15</td><td>1.2518180533202163e-21</td></tr>\n",
       "<tr><td>5      </td><td>3        </td><td>4.4983621314189174e-15</td><td>1.7062091419256318e-08</td><td>2.5215688583547506e-07</td><td>0.9984158235966724    </td><td>0.001583907184345898  </td></tr>\n",
       "<tr><td>6      </td><td>0        </td><td>0.6361524802052498    </td><td>0.35815154704681285   </td><td>3.6249179128129598e-06</td><td>0.005692347830024505  </td><td>1.2368761898476925e-17</td></tr>\n",
       "<tr><td>7      </td><td>3        </td><td>1.0024641711937192e-13</td><td>5.8039492758270855e-08</td><td>1.1348776990765475e-06</td><td>0.9999988070808872    </td><td>1.820723090559344e-12 </td></tr>\n",
       "<tr><td>8      </td><td>0        </td><td>0.9999999999999998    </td><td>2.9517307985327504e-16</td><td>9.285273326926856e-31 </td><td>3.3991731890906016e-22</td><td>2.679244785905748e-28 </td></tr>\n",
       "<tr><td>9      </td><td>0        </td><td>0.9999999999999991    </td><td>8.925468650820968e-16 </td><td>5.59641826741333e-24  </td><td>2.4382203732595773e-29</td><td>1.1420974258451692e-32</td></tr>\n",
       "</tbody>\n",
       "</table>"
      ]
     },
     "metadata": {},
     "output_type": "display_data"
    }
   ],
   "source": [
    "predictions_df.describe()"
   ]
  },
  {
   "cell_type": "code",
   "execution_count": 50,
   "metadata": {},
   "outputs": [
    {
     "name": "stdout",
     "output_type": "stream",
     "text": [
      "Confusion Matrix: Row labels: Actual class; Column labels: Predicted class\n",
      "\n"
     ]
    },
    {
     "data": {
      "text/html": [
       "<div style=\"overflow:auto\"><table style=\"width:50%\"><tr><td><b>0</b></td>\n",
       "<td><b>1</b></td>\n",
       "<td><b>2</b></td>\n",
       "<td><b>3</b></td>\n",
       "<td><b>4</b></td>\n",
       "<td><b>Error</b></td>\n",
       "<td><b>Rate</b></td></tr>\n",
       "<tr><td>14.0</td>\n",
       "<td>1.0</td>\n",
       "<td>0.0</td>\n",
       "<td>1.0</td>\n",
       "<td>0.0</td>\n",
       "<td>0.125</td>\n",
       "<td>2 / 16</td></tr>\n",
       "<tr><td>2.0</td>\n",
       "<td>0.0</td>\n",
       "<td>0.0</td>\n",
       "<td>0.0</td>\n",
       "<td>0.0</td>\n",
       "<td>1.0</td>\n",
       "<td>2 / 2</td></tr>\n",
       "<tr><td>0.0</td>\n",
       "<td>0.0</td>\n",
       "<td>0.0</td>\n",
       "<td>1.0</td>\n",
       "<td>0.0</td>\n",
       "<td>1.0</td>\n",
       "<td>1 / 1</td></tr>\n",
       "<tr><td>1.0</td>\n",
       "<td>0.0</td>\n",
       "<td>1.0</td>\n",
       "<td>2.0</td>\n",
       "<td>0.0</td>\n",
       "<td>0.5</td>\n",
       "<td>2 / 4</td></tr>\n",
       "<tr><td>0.0</td>\n",
       "<td>0.0</td>\n",
       "<td>0.0</td>\n",
       "<td>1.0</td>\n",
       "<td>0.0</td>\n",
       "<td>1.0</td>\n",
       "<td>1 / 1</td></tr>\n",
       "<tr><td>17.0</td>\n",
       "<td>1.0</td>\n",
       "<td>1.0</td>\n",
       "<td>5.0</td>\n",
       "<td>0.0</td>\n",
       "<td>0.3333333</td>\n",
       "<td>8 / 24</td></tr></table></div>"
      ],
      "text/plain": [
       "0    1    2    3    4    Error     Rate\n",
       "---  ---  ---  ---  ---  --------  ------\n",
       "14   1    0    1    0    0.125     2 / 16\n",
       "2    0    0    0    0    1         2 / 2\n",
       "0    0    0    1    0    1         1 / 1\n",
       "1    0    1    2    0    0.5       2 / 4\n",
       "0    0    0    1    0    1         1 / 1\n",
       "17   1    1    5    0    0.333333  8 / 24"
      ]
     },
     "metadata": {},
     "output_type": "display_data"
    },
    {
     "data": {
      "text/plain": []
     },
     "execution_count": 50,
     "metadata": {},
     "output_type": "execute_result"
    }
   ],
   "source": [
    "mod_perf.confusion_matrix()"
   ]
  },
  {
   "cell_type": "markdown",
   "metadata": {
    "collapsed": true
   },
   "source": [
    "As we can see, the error rate for class 0 is 2/16, which is good. However, the error rate for rest class are very high (2/2, 1/1, 2/4, 1/1), and the overall accuracy is arround 66%. In this case, this model have very good performance for class 0, and bad performance on other class.  \n",
    "  \n",
    "Since this model is to determain the heart disease level for patients, we can tell that the model can make confident prediction that if the patient is in good condition or not, but can not predict the actual disease level is the patient is marked as sick."
   ]
  },
  {
   "cell_type": "code",
   "execution_count": 51,
   "metadata": {},
   "outputs": [
    {
     "data": {
      "image/png": "[encoded data removed]",
      "text/plain": [
       "<matplotlib.figure.Figure at 0x113e822e8>"
      ]
     },
     "metadata": {},
     "output_type": "display_data"
    }
   ],
   "source": [
    "actual_value = [test[x, 'num'] for x in range(len(test['num']))]\n",
    "pred_value = [predictions_df[x,0] for x in range(len(predictions_df[0]))]\n",
    "plot_result('Best Model Prediction', pred_value, actual_value)"
   ]
  },
  {
   "cell_type": "markdown",
   "metadata": {},
   "source": [
    "#### GBM"
   ]
  },
  {
   "cell_type": "code",
   "execution_count": 52,
   "metadata": {},
   "outputs": [
    {
     "data": {
      "text/plain": [
       "'GBM_grid_0_AutoML_20181010_192309_model_10'"
      ]
     },
     "execution_count": 52,
     "metadata": {},
     "output_type": "execute_result"
    }
   ],
   "source": [
    "# get the GBM model\n",
    "model_GBM, model_GBM_ID = get_model_by_algo('GBM', bm)\n",
    "model_GBM_ID"
   ]
  },
  {
   "cell_type": "code",
   "execution_count": 53,
   "metadata": {},
   "outputs": [
    {
     "name": "stdout",
     "output_type": "stream",
     "text": [
      "[('oldpeak', 86.7362289428711, 1.0, 0.17824638954319527), ('thalach', 70.8223876953125, 0.8165260186946764, 0.14554281480040565), ('chol', 58.724639892578125, 0.677048571379062, 0.12068146339369613), ('ca', 56.126800537109375, 0.6470975418366107, 0.11534280051465262), ('age', 49.56549835205078, 0.5714509260564826, 0.10185906437068348), ('exang', 30.851593017578125, 0.3556944242745273, 0.06340124690757996), ('trestbps', 28.906024932861328, 0.33326356569986815, 0.059403027352292956), ('cp', 28.532447814941406, 0.32895651750935967, 0.05863531156274626), ('slope', 27.67698860168457, 0.31909375054700667, 0.05687730896080093), ('thal', 22.328947067260742, 0.2574350688219075, 0.045886871559309005), ('sex', 13.495896339416504, 0.15559699221308768, 0.02773460208576355), ('restecg', 8.922296524047852, 0.1028670099310466, 0.01833567312331307), ('fbs', 3.9188663959503174, 0.045181424690846114, 0.008053425825561098)]\n"
     ]
    }
   ],
   "source": [
    "# write scoring_history, statistic data into file\n",
    "if model_GBM is not None:\n",
    "    try:     \n",
    "        sh_df = model_GBM.scoring_history()\n",
    "        sh = os.path.join(report_Path, run_id + '_gbm_scoring_history.csv')\n",
    "        sh_df.to_csv(sh) \n",
    "    except:\n",
    "        pass\n",
    "    try:\n",
    "        stats_gbm = gbm_stats(model_GBM)\n",
    "        gbm_stats = os.path.join(report_Path, run_id + '_gbm_stats.json')\n",
    "        dict_to_json(stats_gbm,gbm_stats)\n",
    "        print(stats_gbm['varimp'])\n",
    "    except:\n",
    "        pass"
   ]
  },
  {
   "cell_type": "code",
   "execution_count": 54,
   "metadata": {},
   "outputs": [
    {
     "name": "stdout",
     "output_type": "stream",
     "text": [
      "gbm prediction progress: |████████████████████████████████████████████████| 100%\n"
     ]
    }
   ],
   "source": [
    "if model_GBM is not None:\n",
    "    predictions_df, mod_perf = predictions_test(model_GBM,test,run_id, False)\n",
    "else:\n",
    "    print('No Such Model')"
   ]
  },
  {
   "cell_type": "code",
   "execution_count": 55,
   "metadata": {},
   "outputs": [
    {
     "data": {
      "text/html": [
       "<table>\n",
       "<thead>\n",
       "<tr><th style=\"text-align: right;\">  predict</th><th style=\"text-align: right;\">       p0</th><th style=\"text-align: right;\">       p1</th><th style=\"text-align: right;\">        p2</th><th style=\"text-align: right;\">        p3</th><th style=\"text-align: right;\">        p4</th></tr>\n",
       "</thead>\n",
       "<tbody>\n",
       "<tr><td style=\"text-align: right;\">        0</td><td style=\"text-align: right;\">0.650166 </td><td style=\"text-align: right;\">0.238625 </td><td style=\"text-align: right;\">0.0597537 </td><td style=\"text-align: right;\">0.0295276 </td><td style=\"text-align: right;\">0.0219281 </td></tr>\n",
       "<tr><td style=\"text-align: right;\">        0</td><td style=\"text-align: right;\">0.328223 </td><td style=\"text-align: right;\">0.110786 </td><td style=\"text-align: right;\">0.266871  </td><td style=\"text-align: right;\">0.254388  </td><td style=\"text-align: right;\">0.0397324 </td></tr>\n",
       "<tr><td style=\"text-align: right;\">        0</td><td style=\"text-align: right;\">0.906815 </td><td style=\"text-align: right;\">0.0492229</td><td style=\"text-align: right;\">0.020178  </td><td style=\"text-align: right;\">0.0113523 </td><td style=\"text-align: right;\">0.0124314 </td></tr>\n",
       "<tr><td style=\"text-align: right;\">        1</td><td style=\"text-align: right;\">0.0305199</td><td style=\"text-align: right;\">0.400864 </td><td style=\"text-align: right;\">0.197051  </td><td style=\"text-align: right;\">0.212129  </td><td style=\"text-align: right;\">0.159436  </td></tr>\n",
       "<tr><td style=\"text-align: right;\">        0</td><td style=\"text-align: right;\">0.959997 </td><td style=\"text-align: right;\">0.0187437</td><td style=\"text-align: right;\">0.00990694</td><td style=\"text-align: right;\">0.00828598</td><td style=\"text-align: right;\">0.00306605</td></tr>\n",
       "</tbody>\n",
       "</table>"
      ]
     },
     "metadata": {},
     "output_type": "display_data"
    },
    {
     "data": {
      "text/plain": []
     },
     "execution_count": 55,
     "metadata": {},
     "output_type": "execute_result"
    }
   ],
   "source": [
    "predictions_df.head(5)"
   ]
  },
  {
   "cell_type": "code",
   "execution_count": 56,
   "metadata": {},
   "outputs": [
    {
     "name": "stdout",
     "output_type": "stream",
     "text": [
      "Rows:24\n",
      "Cols:6\n",
      "\n",
      "\n"
     ]
    },
    {
     "data": {
      "text/html": [
       "<table>\n",
       "<thead>\n",
       "<tr><th>       </th><th>predict  </th><th>p0                  </th><th>p1                   </th><th>p2                   </th><th>p3                   </th><th>p4                   </th></tr>\n",
       "</thead>\n",
       "<tbody>\n",
       "<tr><td>type   </td><td>enum     </td><td>real                </td><td>real                 </td><td>real                 </td><td>real                 </td><td>real                 </td></tr>\n",
       "<tr><td>mins   </td><td>         </td><td>0.02694597556521028 </td><td>0.0024401706421889905</td><td>0.0018332426753567255</td><td>0.0016386932456797108</td><td>0.0018528633518599491</td></tr>\n",
       "<tr><td>mean   </td><td>         </td><td>0.605813564914655   </td><td>0.19806329780039886  </td><td>0.09853005695960203  </td><td>0.06418842224604877  </td><td>0.0334046580792955   </td></tr>\n",
       "<tr><td>maxs   </td><td>         </td><td>0.9910200727665517  </td><td>0.7262428440522546   </td><td>0.5582854927412255   </td><td>0.3355677736064635   </td><td>0.20212384752618176  </td></tr>\n",
       "<tr><td>sigma  </td><td>         </td><td>0.39444668216673756 </td><td>0.2325355070824913   </td><td>0.15298891422489935  </td><td>0.09831482687507473  </td><td>0.0520418221406399   </td></tr>\n",
       "<tr><td>zeros  </td><td>         </td><td>0                   </td><td>0                    </td><td>0                    </td><td>0                    </td><td>0                    </td></tr>\n",
       "<tr><td>missing</td><td>0        </td><td>0                   </td><td>0                    </td><td>0                    </td><td>0                    </td><td>0                    </td></tr>\n",
       "<tr><td>0      </td><td>0        </td><td>0.6501659574498712  </td><td>0.23862466115452932  </td><td>0.05975366062412243  </td><td>0.02952758756323028  </td><td>0.02192813320824689  </td></tr>\n",
       "<tr><td>1      </td><td>0        </td><td>0.32822263999931317 </td><td>0.11078605033251196  </td><td>0.26687066256262065  </td><td>0.2543882502831204   </td><td>0.039732396822433916 </td></tr>\n",
       "<tr><td>2      </td><td>0        </td><td>0.9068152792113064  </td><td>0.04922292153274349  </td><td>0.020178020886924945 </td><td>0.011352334400909884 </td><td>0.012431443968115291 </td></tr>\n",
       "<tr><td>3      </td><td>1        </td><td>0.030519921346222872</td><td>0.4008644469440432   </td><td>0.1970505940823248   </td><td>0.2121286728855563   </td><td>0.1594363647418528   </td></tr>\n",
       "<tr><td>4      </td><td>0        </td><td>0.9599973313890358  </td><td>0.018743706627063508 </td><td>0.009906941356052194 </td><td>0.00828597512681735  </td><td>0.0030660455010311743</td></tr>\n",
       "<tr><td>5      </td><td>2        </td><td>0.027604272595117475</td><td>0.17470826931707026  </td><td>0.5582854927412255   </td><td>0.13500763360787732  </td><td>0.10439433173870945  </td></tr>\n",
       "<tr><td>6      </td><td>1        </td><td>0.37409716032964874 </td><td>0.5552708326173184   </td><td>0.03835856644927206  </td><td>0.022235839887741336 </td><td>0.010037600716019484 </td></tr>\n",
       "<tr><td>7      </td><td>2        </td><td>0.02694597556521028 </td><td>0.2266625669511993   </td><td>0.4624756813823149   </td><td>0.08179192857509378  </td><td>0.20212384752618176  </td></tr>\n",
       "<tr><td>8      </td><td>0        </td><td>0.9630099550333632  </td><td>0.015528493483823767 </td><td>0.010156995602871036 </td><td>0.0074049642128360795</td><td>0.003899591667105824 </td></tr>\n",
       "<tr><td>9      </td><td>0        </td><td>0.9900421262415567  </td><td>0.0025491873383400453</td><td>0.0018332426753567255</td><td>0.0037225803928863364</td><td>0.0018528633518599491</td></tr>\n",
       "</tbody>\n",
       "</table>"
      ]
     },
     "metadata": {},
     "output_type": "display_data"
    }
   ],
   "source": [
    "predictions_df.describe()"
   ]
  },
  {
   "cell_type": "code",
   "execution_count": 57,
   "metadata": {},
   "outputs": [
    {
     "name": "stdout",
     "output_type": "stream",
     "text": [
      "\n",
      "ModelMetricsMultinomial: gbm\n",
      "** Reported on test data. **\n",
      "\n",
      "MSE: 0.2803111687651498\n",
      "RMSE: 0.5294442074148604\n",
      "LogLoss: 0.8376586474396316\n",
      "Mean Per-Class Error: 0.5375\n",
      "Confusion Matrix: Row labels: Actual class; Column labels: Predicted class\n",
      "\n"
     ]
    },
    {
     "data": {
      "text/html": [
       "<div style=\"overflow:auto\"><table style=\"width:50%\"><tr><td><b>0</b></td>\n",
       "<td><b>1</b></td>\n",
       "<td><b>2</b></td>\n",
       "<td><b>3</b></td>\n",
       "<td><b>4</b></td>\n",
       "<td><b>Error</b></td>\n",
       "<td><b>Rate</b></td></tr>\n",
       "<tr><td>13.0</td>\n",
       "<td>2.0</td>\n",
       "<td>0.0</td>\n",
       "<td>1.0</td>\n",
       "<td>0.0</td>\n",
       "<td>0.1875</td>\n",
       "<td>3 / 16</td></tr>\n",
       "<tr><td>1.0</td>\n",
       "<td>1.0</td>\n",
       "<td>0.0</td>\n",
       "<td>0.0</td>\n",
       "<td>0.0</td>\n",
       "<td>0.5</td>\n",
       "<td>1 / 2</td></tr>\n",
       "<tr><td>0.0</td>\n",
       "<td>0.0</td>\n",
       "<td>1.0</td>\n",
       "<td>0.0</td>\n",
       "<td>0.0</td>\n",
       "<td>0.0</td>\n",
       "<td>0 / 1</td></tr>\n",
       "<tr><td>1.0</td>\n",
       "<td>2.0</td>\n",
       "<td>1.0</td>\n",
       "<td>0.0</td>\n",
       "<td>0.0</td>\n",
       "<td>1.0</td>\n",
       "<td>4 / 4</td></tr>\n",
       "<tr><td>0.0</td>\n",
       "<td>1.0</td>\n",
       "<td>0.0</td>\n",
       "<td>0.0</td>\n",
       "<td>0.0</td>\n",
       "<td>1.0</td>\n",
       "<td>1 / 1</td></tr>\n",
       "<tr><td>15.0</td>\n",
       "<td>6.0</td>\n",
       "<td>2.0</td>\n",
       "<td>1.0</td>\n",
       "<td>0.0</td>\n",
       "<td>0.375</td>\n",
       "<td>9 / 24</td></tr></table></div>"
      ],
      "text/plain": [
       "0    1    2    3    4    Error    Rate\n",
       "---  ---  ---  ---  ---  -------  ------\n",
       "13   2    0    1    0    0.1875   3 / 16\n",
       "1    1    0    0    0    0.5      1 / 2\n",
       "0    0    1    0    0    0        0 / 1\n",
       "1    2    1    0    0    1        4 / 4\n",
       "0    1    0    0    0    1        1 / 1\n",
       "15   6    2    1    0    0.375    9 / 24"
      ]
     },
     "metadata": {},
     "output_type": "display_data"
    },
    {
     "name": "stdout",
     "output_type": "stream",
     "text": [
      "Top-5 Hit Ratios: \n"
     ]
    },
    {
     "data": {
      "text/html": [
       "<div style=\"overflow:auto\"><table style=\"width:50%\"><tr><td><b>k</b></td>\n",
       "<td><b>hit_ratio</b></td></tr>\n",
       "<tr><td>1</td>\n",
       "<td>0.625</td></tr>\n",
       "<tr><td>2</td>\n",
       "<td>0.8333333</td></tr>\n",
       "<tr><td>3</td>\n",
       "<td>0.875</td></tr>\n",
       "<tr><td>4</td>\n",
       "<td>0.9166667</td></tr>\n",
       "<tr><td>5</td>\n",
       "<td>1.0</td></tr></table></div>"
      ],
      "text/plain": [
       "k    hit_ratio\n",
       "---  -----------\n",
       "1    0.625\n",
       "2    0.833333\n",
       "3    0.875\n",
       "4    0.916667\n",
       "5    1"
      ]
     },
     "metadata": {},
     "output_type": "display_data"
    },
    {
     "data": {
      "text/plain": []
     },
     "execution_count": 57,
     "metadata": {},
     "output_type": "execute_result"
    }
   ],
   "source": [
    "mod_perf"
   ]
  },
  {
   "cell_type": "markdown",
   "metadata": {
    "collapsed": true
   },
   "source": [
    "Very similiar preformance, but a little bit lower accuracy for the overall test data"
   ]
  },
  {
   "cell_type": "code",
   "execution_count": 58,
   "metadata": {},
   "outputs": [
    {
     "data": {
      "image/png": "[encoded data removed]",
      "text/plain": [
       "<matplotlib.figure.Figure at 0x10e55b5f8>"
      ]
     },
     "metadata": {},
     "output_type": "display_data"
    }
   ],
   "source": [
    "pred_value = [predictions_df[x,0] for x in range(len(predictions_df[0]))]\n",
    "plot_result('GBM Model Prediction', pred_value, actual_value)"
   ]
  },
  {
   "cell_type": "markdown",
   "metadata": {},
   "source": [
    "#### DeepLearning"
   ]
  },
  {
   "cell_type": "code",
   "execution_count": 59,
   "metadata": {},
   "outputs": [
    {
     "data": {
      "text/plain": [
       "'DeepLearning_grid_0_AutoML_20181010_192309_model_4'"
      ]
     },
     "execution_count": 59,
     "metadata": {},
     "output_type": "execute_result"
    }
   ],
   "source": [
    "# get the DeepLearning model\n",
    "model_DEE, model_DEE_ID = get_model_by_algo('Dee', bm)\n",
    "model_DEE_ID"
   ]
  },
  {
   "cell_type": "code",
   "execution_count": 60,
   "metadata": {},
   "outputs": [
    {
     "name": "stdout",
     "output_type": "stream",
     "text": [
      "[('oldpeak', 1.0, 1.0, 0.06027284849643422), ('chol', 0.9922000169754028, 0.9922000169754028, 0.05980272130131791), ('trestbps', 0.8903197646141052, 0.8903197646141052, 0.05366210828596694), ('age', 0.8719403147697449, 0.8719403147697449, 0.05255432649004999), ('thalach', 0.8569663763046265, 0.8569663763046265, 0.05165180456554698), ('ca', 0.8554988503456116, 0.8554988503456116, 0.051563352595754695), ('sex.0', 0.7337740659713745, 0.7337740659713745, 0.04422665310890518), ('slope.1', 0.7134498357772827, 0.7134498357772827, 0.043001653861610034), ('cp.3', 0.6966884136199951, 0.6966884136199951, 0.04199139520333906), ('thal.3', 0.6799667477607727, 0.6799667477607727, 0.04098353277039815), ('exang.0', 0.6523177027702332, 0.6523177027702332, 0.03931704607061227), ('restecg.0', 0.6284692287445068, 0.6284692287445068, 0.03787963060878852), ('exang.1', 0.6035889387130737, 0.6035889387130737, 0.03638002465717661), ('slope.2', 0.6022289395332336, 0.6022289395332336, 0.036298053632654835), ('thal.7', 0.5851297378540039, 0.5851297378540039, 0.03526743604043264), ('cp.2', 0.579066276550293, 0.579066276550293, 0.03490197395591008), ('restecg.2', 0.5625056028366089, 0.5625056028366089, 0.03390381497816632), ('fbs.1', 0.5448968410491943, 0.5448968410491943, 0.032842484746743686), ('thal.6', 0.5383436679840088, 0.5383436679840088, 0.032447506339414844), ('cp.4', 0.5276131629943848, 0.5276131629943848, 0.03180074823788501), ('cp.1', 0.5167897939682007, 0.5167897939682007, 0.031148392956348813), ('sex.1', 0.4972993731498718, 0.4972993731498718, 0.02997364977523393), ('slope.3', 0.4776146709918976, 0.4776146709918976, 0.028787196704368915), ('fbs.0', 0.4276673495769501, 0.4276673495769501, 0.02577672936792308), ('restecg.1', 0.3118688762187958, 0.3118688762187958, 0.018797225527088672), ('thal.missing(NA)', 0.24501396715641022, 0.24501396715641022, 0.014767689721928622), ('cp.missing(NA)', 0.0, 0.0, 0.0), ('restecg.missing(NA)', 0.0, 0.0, 0.0), ('slope.missing(NA)', 0.0, 0.0, 0.0), ('exang.missing(NA)', 0.0, 0.0, 0.0), ('fbs.missing(NA)', 0.0, 0.0, 0.0), ('sex.missing(NA)', 0.0, 0.0, 0.0)]\n"
     ]
    }
   ],
   "source": [
    "# write scoring_history, statistic data, confusion_matrix into file\n",
    "if model_DEE is not None:\n",
    "    try:     \n",
    "        sh_df = model_DEE.scoring_history()\n",
    "        sh = os.path.join(report_Path, run_id + '_dl_scoring_history.csv')\n",
    "        sh_df.to_csv(sh) \n",
    "    except:\n",
    "        pass   \n",
    "    try:\n",
    "        stats_dl = dl_stats(model_DEE)\n",
    "        dl_stats = os.path.join(report_Path, run_id + '_dl_stats.json')\n",
    "        dict_to_json(stats_dl,dl_stats)\n",
    "        print(stats_dl['varimp'])\n",
    "    except:\n",
    "        pass\n",
    "    try:\n",
    "        cf = model_DEE.confusion_matrix()    \n",
    "        cf_df.to_csv(os.path.join(report_Path, run_id + '_dl_confusion_matrix.csv'))\n",
    "    except:\n",
    "        pass"
   ]
  },
  {
   "cell_type": "code",
   "execution_count": 61,
   "metadata": {},
   "outputs": [
    {
     "name": "stdout",
     "output_type": "stream",
     "text": [
      "deeplearning prediction progress: |███████████████████████████████████████| 100%\n"
     ]
    }
   ],
   "source": [
    "if model_DEE is not None:\n",
    "    predictions_df, mod_perf = predictions_test(model_DEE,test,run_id, False)\n",
    "else:\n",
    "    print('No Such Model')"
   ]
  },
  {
   "cell_type": "code",
   "execution_count": 62,
   "metadata": {},
   "outputs": [
    {
     "data": {
      "text/html": [
       "<table>\n",
       "<thead>\n",
       "<tr><th style=\"text-align: right;\">  predict</th><th style=\"text-align: right;\">         p0</th><th style=\"text-align: right;\">         p1</th><th style=\"text-align: right;\">         p2</th><th style=\"text-align: right;\">         p3</th><th style=\"text-align: right;\">         p4</th></tr>\n",
       "</thead>\n",
       "<tbody>\n",
       "<tr><td style=\"text-align: right;\">        0</td><td style=\"text-align: right;\">0.999985   </td><td style=\"text-align: right;\">1.48377e-05</td><td style=\"text-align: right;\">5.56013e-12</td><td style=\"text-align: right;\">2.3033e-11 </td><td style=\"text-align: right;\">1.10132e-07</td></tr>\n",
       "<tr><td style=\"text-align: right;\">        0</td><td style=\"text-align: right;\">0.687616   </td><td style=\"text-align: right;\">6.83536e-05</td><td style=\"text-align: right;\">0.312316   </td><td style=\"text-align: right;\">6.48837e-08</td><td style=\"text-align: right;\">4.31791e-20</td></tr>\n",
       "<tr><td style=\"text-align: right;\">        0</td><td style=\"text-align: right;\">0.999999   </td><td style=\"text-align: right;\">1.33232e-06</td><td style=\"text-align: right;\">1.11755e-12</td><td style=\"text-align: right;\">2.90263e-20</td><td style=\"text-align: right;\">1.09834e-21</td></tr>\n",
       "<tr><td style=\"text-align: right;\">        2</td><td style=\"text-align: right;\">0.000385969</td><td style=\"text-align: right;\">0.324146   </td><td style=\"text-align: right;\">0.675467   </td><td style=\"text-align: right;\">1.32314e-06</td><td style=\"text-align: right;\">1.2144e-08 </td></tr>\n",
       "<tr><td style=\"text-align: right;\">        0</td><td style=\"text-align: right;\">1          </td><td style=\"text-align: right;\">1.5592e-11 </td><td style=\"text-align: right;\">3.11623e-14</td><td style=\"text-align: right;\">1.73713e-15</td><td style=\"text-align: right;\">1.25182e-21</td></tr>\n",
       "</tbody>\n",
       "</table>"
      ]
     },
     "metadata": {},
     "output_type": "display_data"
    },
    {
     "data": {
      "text/plain": []
     },
     "execution_count": 62,
     "metadata": {},
     "output_type": "execute_result"
    }
   ],
   "source": [
    "predictions_df.head(5)"
   ]
  },
  {
   "cell_type": "code",
   "execution_count": 63,
   "metadata": {},
   "outputs": [
    {
     "name": "stdout",
     "output_type": "stream",
     "text": [
      "Rows:24\n",
      "Cols:6\n",
      "\n",
      "\n"
     ]
    },
    {
     "data": {
      "text/html": [
       "<table>\n",
       "<thead>\n",
       "<tr><th>       </th><th>predict  </th><th>p0                    </th><th>p1                    </th><th>p2                    </th><th>p3                    </th><th>p4                    </th></tr>\n",
       "</thead>\n",
       "<tbody>\n",
       "<tr><td>type   </td><td>enum     </td><td>real                  </td><td>real                  </td><td>real                  </td><td>real                  </td><td>real                  </td></tr>\n",
       "<tr><td>mins   </td><td>         </td><td>4.4983621314189174e-15</td><td>3.5981754960071714e-20</td><td>9.285273326926856e-31 </td><td>2.3861046374024978e-35</td><td>9.51829499986522e-44  </td></tr>\n",
       "<tr><td>mean   </td><td>         </td><td>0.6800246572397989    </td><td>0.08360943028718994   </td><td>0.04150042182551973   </td><td>0.1946597078640175    </td><td>0.0002057827834738926 </td></tr>\n",
       "<tr><td>maxs   </td><td>         </td><td>1.0                   </td><td>0.9999999989295363    </td><td>0.6754670033473898    </td><td>0.9999993849462901    </td><td>0.0033547573409389844 </td></tr>\n",
       "<tr><td>sigma  </td><td>         </td><td>0.4552393971281812    </td><td>0.22350533668452788   </td><td>0.14927634811500184   </td><td>0.39052600344650434   </td><td>0.0007444531550684305 </td></tr>\n",
       "<tr><td>zeros  </td><td>         </td><td>0                     </td><td>0                     </td><td>0                     </td><td>0                     </td><td>0                     </td></tr>\n",
       "<tr><td>missing</td><td>0        </td><td>0                     </td><td>0                     </td><td>0                     </td><td>0                     </td><td>0                     </td></tr>\n",
       "<tr><td>0      </td><td>0        </td><td>0.9999850520973436    </td><td>1.4837741823506623e-05</td><td>5.56013256044636e-12  </td><td>2.3032965269205616e-11</td><td>1.1013223963098849e-07</td></tr>\n",
       "<tr><td>1      </td><td>0        </td><td>0.6876159734750303    </td><td>6.835356155834415e-05 </td><td>0.3123156080796732    </td><td>6.488373804995798e-08 </td><td>4.317905404966581e-20 </td></tr>\n",
       "<tr><td>2      </td><td>0        </td><td>0.9999986676741558    </td><td>1.332324726759318e-06 </td><td>1.117553757074342e-12 </td><td>2.902627905128777e-20 </td><td>1.0983405883465096e-21</td></tr>\n",
       "<tr><td>3      </td><td>2        </td><td>0.0003859685938421216 </td><td>0.3241456927744794    </td><td>0.6754670033473898    </td><td>1.3231402605022768e-06</td><td>1.214402791919399e-08 </td></tr>\n",
       "<tr><td>4      </td><td>0        </td><td>0.9999999999843752    </td><td>1.5592015784959338e-11</td><td>3.1162325634037714e-14</td><td>1.7371259522665646e-15</td><td>1.2518180533202163e-21</td></tr>\n",
       "<tr><td>5      </td><td>3        </td><td>4.4983621314189174e-15</td><td>1.7062091419256318e-08</td><td>2.5215688583547506e-07</td><td>0.9984158235966724    </td><td>0.001583907184345898  </td></tr>\n",
       "<tr><td>6      </td><td>0        </td><td>0.6361524802052498    </td><td>0.35815154704681285   </td><td>3.6249179128129598e-06</td><td>0.005692347830024505  </td><td>1.2368761898476925e-17</td></tr>\n",
       "<tr><td>7      </td><td>3        </td><td>1.0024641711937192e-13</td><td>5.8039492758270855e-08</td><td>1.1348776990765475e-06</td><td>0.9999988070808872    </td><td>1.820723090559344e-12 </td></tr>\n",
       "<tr><td>8      </td><td>0        </td><td>0.9999999999999998    </td><td>2.9517307985327504e-16</td><td>9.285273326926856e-31 </td><td>3.3991731890906016e-22</td><td>2.679244785905748e-28 </td></tr>\n",
       "<tr><td>9      </td><td>0        </td><td>0.9999999999999991    </td><td>8.925468650820968e-16 </td><td>5.59641826741333e-24  </td><td>2.4382203732595773e-29</td><td>1.1420974258451692e-32</td></tr>\n",
       "</tbody>\n",
       "</table>"
      ]
     },
     "metadata": {},
     "output_type": "display_data"
    }
   ],
   "source": [
    "predictions_df.describe()"
   ]
  },
  {
   "cell_type": "code",
   "execution_count": 64,
   "metadata": {},
   "outputs": [
    {
     "name": "stdout",
     "output_type": "stream",
     "text": [
      "\n",
      "ModelMetricsMultinomial: deeplearning\n",
      "** Reported on test data. **\n",
      "\n",
      "MSE: 0.33893245851971515\n",
      "RMSE: 0.5821790605301046\n",
      "LogLoss: 6.076016203134494\n",
      "Mean Per-Class Error: 0.725\n",
      "Confusion Matrix: Row labels: Actual class; Column labels: Predicted class\n",
      "\n"
     ]
    },
    {
     "data": {
      "text/html": [
       "<div style=\"overflow:auto\"><table style=\"width:50%\"><tr><td><b>0</b></td>\n",
       "<td><b>1</b></td>\n",
       "<td><b>2</b></td>\n",
       "<td><b>3</b></td>\n",
       "<td><b>4</b></td>\n",
       "<td><b>Error</b></td>\n",
       "<td><b>Rate</b></td></tr>\n",
       "<tr><td>14.0</td>\n",
       "<td>1.0</td>\n",
       "<td>0.0</td>\n",
       "<td>1.0</td>\n",
       "<td>0.0</td>\n",
       "<td>0.125</td>\n",
       "<td>2 / 16</td></tr>\n",
       "<tr><td>2.0</td>\n",
       "<td>0.0</td>\n",
       "<td>0.0</td>\n",
       "<td>0.0</td>\n",
       "<td>0.0</td>\n",
       "<td>1.0</td>\n",
       "<td>2 / 2</td></tr>\n",
       "<tr><td>0.0</td>\n",
       "<td>0.0</td>\n",
       "<td>0.0</td>\n",
       "<td>1.0</td>\n",
       "<td>0.0</td>\n",
       "<td>1.0</td>\n",
       "<td>1 / 1</td></tr>\n",
       "<tr><td>1.0</td>\n",
       "<td>0.0</td>\n",
       "<td>1.0</td>\n",
       "<td>2.0</td>\n",
       "<td>0.0</td>\n",
       "<td>0.5</td>\n",
       "<td>2 / 4</td></tr>\n",
       "<tr><td>0.0</td>\n",
       "<td>0.0</td>\n",
       "<td>0.0</td>\n",
       "<td>1.0</td>\n",
       "<td>0.0</td>\n",
       "<td>1.0</td>\n",
       "<td>1 / 1</td></tr>\n",
       "<tr><td>17.0</td>\n",
       "<td>1.0</td>\n",
       "<td>1.0</td>\n",
       "<td>5.0</td>\n",
       "<td>0.0</td>\n",
       "<td>0.3333333</td>\n",
       "<td>8 / 24</td></tr></table></div>"
      ],
      "text/plain": [
       "0    1    2    3    4    Error     Rate\n",
       "---  ---  ---  ---  ---  --------  ------\n",
       "14   1    0    1    0    0.125     2 / 16\n",
       "2    0    0    0    0    1         2 / 2\n",
       "0    0    0    1    0    1         1 / 1\n",
       "1    0    1    2    0    0.5       2 / 4\n",
       "0    0    0    1    0    1         1 / 1\n",
       "17   1    1    5    0    0.333333  8 / 24"
      ]
     },
     "metadata": {},
     "output_type": "display_data"
    },
    {
     "name": "stdout",
     "output_type": "stream",
     "text": [
      "Top-5 Hit Ratios: \n"
     ]
    },
    {
     "data": {
      "text/html": [
       "<div style=\"overflow:auto\"><table style=\"width:50%\"><tr><td><b>k</b></td>\n",
       "<td><b>hit_ratio</b></td></tr>\n",
       "<tr><td>1</td>\n",
       "<td>0.6666667</td></tr>\n",
       "<tr><td>2</td>\n",
       "<td>0.7916667</td></tr>\n",
       "<tr><td>3</td>\n",
       "<td>0.875</td></tr>\n",
       "<tr><td>4</td>\n",
       "<td>0.9583333</td></tr>\n",
       "<tr><td>5</td>\n",
       "<td>1.0</td></tr></table></div>"
      ],
      "text/plain": [
       "k    hit_ratio\n",
       "---  -----------\n",
       "1    0.666667\n",
       "2    0.791667\n",
       "3    0.875\n",
       "4    0.958333\n",
       "5    1"
      ]
     },
     "metadata": {},
     "output_type": "display_data"
    },
    {
     "data": {
      "text/plain": []
     },
     "execution_count": 64,
     "metadata": {},
     "output_type": "execute_result"
    }
   ],
   "source": [
    "mod_perf"
   ]
  },
  {
   "cell_type": "markdown",
   "metadata": {
    "collapsed": true
   },
   "source": [
    "This is the best model"
   ]
  },
  {
   "cell_type": "code",
   "execution_count": 65,
   "metadata": {},
   "outputs": [
    {
     "data": {
      "image/png": "[encoded data removed]",
      "text/plain": [
       "<matplotlib.figure.Figure at 0x115cb5e48>"
      ]
     },
     "metadata": {},
     "output_type": "display_data"
    }
   ],
   "source": [
    "pred_value = [predictions_df[x,0] for x in range(len(predictions_df[0]))]\n",
    "plot_result('DL Model Prediction', pred_value, actual_value)"
   ]
  },
  {
   "cell_type": "markdown",
   "metadata": {},
   "source": [
    "#### DRF"
   ]
  },
  {
   "cell_type": "code",
   "execution_count": 66,
   "metadata": {},
   "outputs": [
    {
     "data": {
      "text/plain": [
       "'DRF_0_AutoML_20181010_192309'"
      ]
     },
     "execution_count": 66,
     "metadata": {},
     "output_type": "execute_result"
    }
   ],
   "source": [
    "# get the DRF model\n",
    "model_DRF, model_DRF_ID = get_model_by_algo('DRF', bm)\n",
    "model_DRF_ID"
   ]
  },
  {
   "cell_type": "code",
   "execution_count": 67,
   "metadata": {
    "collapsed": true
   },
   "outputs": [],
   "source": [
    "# write scoring_history, statistic data into file\n",
    "if model_DRF is not None:\n",
    "    try:     \n",
    "        sh_df = model_DRF.scoring_history()\n",
    "        sh = os.path.join(report_Path, run_id + '_drf_scoring_history.csv')\n",
    "        sh_df.to_csv(sh) \n",
    "    except:\n",
    "        pass   \n",
    "    try:\n",
    "        stats_drf = drf_stats(model_DRF)\n",
    "        drf_stats = os.path.join(report_Path, run_id + '_drf_stats.json')\n",
    "        dict_to_json(stats_drf,drf_stats)\n",
    "        print(stats_drf['varimp'])\n",
    "    except:\n",
    "        pass"
   ]
  },
  {
   "cell_type": "code",
   "execution_count": 68,
   "metadata": {},
   "outputs": [
    {
     "name": "stdout",
     "output_type": "stream",
     "text": [
      "drf prediction progress: |████████████████████████████████████████████████| 100%\n"
     ]
    }
   ],
   "source": [
    "if model_DRF is not None:\n",
    "    predictions_df, mod_perf = predictions_test(model_DRF,test,run_id, False)\n",
    "else:\n",
    "    print('No Such Model')"
   ]
  },
  {
   "cell_type": "code",
   "execution_count": 69,
   "metadata": {},
   "outputs": [
    {
     "data": {
      "text/html": [
       "<table>\n",
       "<thead>\n",
       "<tr><th style=\"text-align: right;\">  predict</th><th style=\"text-align: right;\">       p0</th><th style=\"text-align: right;\">      p1</th><th style=\"text-align: right;\">       p2</th><th style=\"text-align: right;\">       p3</th><th style=\"text-align: right;\">         p4</th></tr>\n",
       "</thead>\n",
       "<tbody>\n",
       "<tr><td style=\"text-align: right;\">        0</td><td style=\"text-align: right;\">0.599667 </td><td style=\"text-align: right;\">0.333148</td><td style=\"text-align: right;\">0.0666297</td><td style=\"text-align: right;\">0        </td><td style=\"text-align: right;\">0.000555247</td></tr>\n",
       "<tr><td style=\"text-align: right;\">        0</td><td style=\"text-align: right;\">0.363636 </td><td style=\"text-align: right;\">0.318182</td><td style=\"text-align: right;\">0.136364 </td><td style=\"text-align: right;\">0.136364 </td><td style=\"text-align: right;\">0.0454545  </td></tr>\n",
       "<tr><td style=\"text-align: right;\">        0</td><td style=\"text-align: right;\">0.732926 </td><td style=\"text-align: right;\">0       </td><td style=\"text-align: right;\">0        </td><td style=\"text-align: right;\">0.0666297</td><td style=\"text-align: right;\">0.200444   </td></tr>\n",
       "<tr><td style=\"text-align: right;\">        1</td><td style=\"text-align: right;\">0.0454545</td><td style=\"text-align: right;\">0.318182</td><td style=\"text-align: right;\">0.272727 </td><td style=\"text-align: right;\">0.227273 </td><td style=\"text-align: right;\">0.136364   </td></tr>\n",
       "<tr><td style=\"text-align: right;\">        0</td><td style=\"text-align: right;\">0.949604 </td><td style=\"text-align: right;\">0       </td><td style=\"text-align: right;\">0.0499792</td><td style=\"text-align: right;\">0        </td><td style=\"text-align: right;\">0.000416493</td></tr>\n",
       "</tbody>\n",
       "</table>"
      ]
     },
     "metadata": {},
     "output_type": "display_data"
    },
    {
     "data": {
      "text/plain": []
     },
     "execution_count": 69,
     "metadata": {},
     "output_type": "execute_result"
    }
   ],
   "source": [
    "predictions_df.head(5)"
   ]
  },
  {
   "cell_type": "code",
   "execution_count": 70,
   "metadata": {},
   "outputs": [
    {
     "name": "stdout",
     "output_type": "stream",
     "text": [
      "Rows:24\n",
      "Cols:6\n",
      "\n",
      "\n"
     ]
    },
    {
     "data": {
      "text/html": [
       "<table>\n",
       "<thead>\n",
       "<tr><th>       </th><th>predict  </th><th>p0                  </th><th>p1                  </th><th>p2                 </th><th>p3                 </th><th>p4                    </th></tr>\n",
       "</thead>\n",
       "<tbody>\n",
       "<tr><td>type   </td><td>enum     </td><td>real                </td><td>real                </td><td>real               </td><td>real               </td><td>real                  </td></tr>\n",
       "<tr><td>mins   </td><td>         </td><td>0.0                 </td><td>0.0                 </td><td>0.0                </td><td>0.0                </td><td>0.00033322227662002174</td></tr>\n",
       "<tr><td>mean   </td><td>         </td><td>0.5950494847043365  </td><td>0.18826927999402174 </td><td>0.09052499804887486</td><td>0.07803194481741413</td><td>0.048124292435352815  </td></tr>\n",
       "<tr><td>maxs   </td><td>         </td><td>0.9996213555274008  </td><td>0.5924097500676037  </td><td>0.45               </td><td>0.391304347826087  </td><td>0.3333333333333333    </td></tr>\n",
       "<tr><td>sigma  </td><td>         </td><td>0.377237596255006   </td><td>0.19130038441277394 </td><td>0.1350158986009725 </td><td>0.11028695933316941</td><td>0.08738998171362834   </td></tr>\n",
       "<tr><td>zeros  </td><td>         </td><td>2                   </td><td>7                   </td><td>12                 </td><td>12                 </td><td>0                     </td></tr>\n",
       "<tr><td>missing</td><td>0        </td><td>0                   </td><td>0                   </td><td>0                  </td><td>0                  </td><td>0                     </td></tr>\n",
       "<tr><td>0      </td><td>0        </td><td>0.5996668517316629  </td><td>0.333148250962035   </td><td>0.06662965019240699</td><td>0.0                </td><td>0.000555247113895117  </td></tr>\n",
       "<tr><td>1      </td><td>0        </td><td>0.36363636363636365 </td><td>0.3181818181818182  </td><td>0.13636363636363635</td><td>0.13636363636363635</td><td>0.045454545454545456  </td></tr>\n",
       "<tr><td>2      </td><td>0        </td><td>0.7329261521164769  </td><td>0.0                 </td><td>0.0                </td><td>0.06662965019240699</td><td>0.2004441976911161    </td></tr>\n",
       "<tr><td>3      </td><td>1        </td><td>0.045454545454545456</td><td>0.3181818181818182  </td><td>0.2727272727272727 </td><td>0.22727272727272727</td><td>0.13636363636363635   </td></tr>\n",
       "<tr><td>4      </td><td>0        </td><td>0.9496043315079027  </td><td>0.0                 </td><td>0.04997917534252119</td><td>0.0                </td><td>0.0004164931495761526 </td></tr>\n",
       "<tr><td>5      </td><td>2        </td><td>0.0                 </td><td>0.25                </td><td>0.45               </td><td>0.15               </td><td>0.15                  </td></tr>\n",
       "<tr><td>6      </td><td>1        </td><td>0.35119315622768293 </td><td>0.5402971634272046  </td><td>0.10805943268544091</td><td>0.0                </td><td>0.0004502476596715812 </td></tr>\n",
       "<tr><td>7      </td><td>0        </td><td>0.0                 </td><td>0.14814814814814814 </td><td>0.3333333333333333 </td><td>0.18518518518518517</td><td>0.3333333333333333    </td></tr>\n",
       "<tr><td>8      </td><td>0        </td><td>0.9541840211852463  </td><td>0.045437334342154585</td><td>0.0                </td><td>0.0                </td><td>0.0003786444725991353 </td></tr>\n",
       "<tr><td>9      </td><td>0        </td><td>0.9541840211852463  </td><td>0.045437334342154585</td><td>0.0                </td><td>0.0                </td><td>0.0003786444725991353 </td></tr>\n",
       "</tbody>\n",
       "</table>"
      ]
     },
     "metadata": {},
     "output_type": "display_data"
    }
   ],
   "source": [
    "predictions_df.describe()"
   ]
  },
  {
   "cell_type": "code",
   "execution_count": 71,
   "metadata": {},
   "outputs": [
    {
     "name": "stdout",
     "output_type": "stream",
     "text": [
      "\n",
      "ModelMetricsMultinomial: drf\n",
      "** Reported on test data. **\n",
      "\n",
      "MSE: 0.29556658968892363\n",
      "RMSE: 0.5436603624404888\n",
      "LogLoss: 1.0341265734689526\n",
      "Mean Per-Class Error: 0.6375\n",
      "Confusion Matrix: Row labels: Actual class; Column labels: Predicted class\n",
      "\n"
     ]
    },
    {
     "data": {
      "text/html": [
       "<div style=\"overflow:auto\"><table style=\"width:50%\"><tr><td><b>0</b></td>\n",
       "<td><b>1</b></td>\n",
       "<td><b>2</b></td>\n",
       "<td><b>3</b></td>\n",
       "<td><b>4</b></td>\n",
       "<td><b>Error</b></td>\n",
       "<td><b>Rate</b></td></tr>\n",
       "<tr><td>13.0</td>\n",
       "<td>2.0</td>\n",
       "<td>0.0</td>\n",
       "<td>1.0</td>\n",
       "<td>0.0</td>\n",
       "<td>0.1875</td>\n",
       "<td>3 / 16</td></tr>\n",
       "<tr><td>2.0</td>\n",
       "<td>0.0</td>\n",
       "<td>0.0</td>\n",
       "<td>0.0</td>\n",
       "<td>0.0</td>\n",
       "<td>1.0</td>\n",
       "<td>2 / 2</td></tr>\n",
       "<tr><td>0.0</td>\n",
       "<td>0.0</td>\n",
       "<td>1.0</td>\n",
       "<td>0.0</td>\n",
       "<td>0.0</td>\n",
       "<td>0.0</td>\n",
       "<td>0 / 1</td></tr>\n",
       "<tr><td>2.0</td>\n",
       "<td>2.0</td>\n",
       "<td>0.0</td>\n",
       "<td>0.0</td>\n",
       "<td>0.0</td>\n",
       "<td>1.0</td>\n",
       "<td>4 / 4</td></tr>\n",
       "<tr><td>0.0</td>\n",
       "<td>1.0</td>\n",
       "<td>0.0</td>\n",
       "<td>0.0</td>\n",
       "<td>0.0</td>\n",
       "<td>1.0</td>\n",
       "<td>1 / 1</td></tr>\n",
       "<tr><td>17.0</td>\n",
       "<td>5.0</td>\n",
       "<td>1.0</td>\n",
       "<td>1.0</td>\n",
       "<td>0.0</td>\n",
       "<td>0.4166667</td>\n",
       "<td>10 / 24</td></tr></table></div>"
      ],
      "text/plain": [
       "0    1    2    3    4    Error     Rate\n",
       "---  ---  ---  ---  ---  --------  -------\n",
       "13   2    0    1    0    0.1875    3 / 16\n",
       "2    0    0    0    0    1         2 / 2\n",
       "0    0    1    0    0    0         0 / 1\n",
       "2    2    0    0    0    1         4 / 4\n",
       "0    1    0    0    0    1         1 / 1\n",
       "17   5    1    1    0    0.416667  10 / 24"
      ]
     },
     "metadata": {},
     "output_type": "display_data"
    },
    {
     "name": "stdout",
     "output_type": "stream",
     "text": [
      "Top-5 Hit Ratios: \n"
     ]
    },
    {
     "data": {
      "text/html": [
       "<div style=\"overflow:auto\"><table style=\"width:50%\"><tr><td><b>k</b></td>\n",
       "<td><b>hit_ratio</b></td></tr>\n",
       "<tr><td>1</td>\n",
       "<td>0.5833333</td></tr>\n",
       "<tr><td>2</td>\n",
       "<td>0.7916666</td></tr>\n",
       "<tr><td>3</td>\n",
       "<td>0.8333333</td></tr>\n",
       "<tr><td>4</td>\n",
       "<td>0.875</td></tr>\n",
       "<tr><td>5</td>\n",
       "<td>1.0</td></tr></table></div>"
      ],
      "text/plain": [
       "k    hit_ratio\n",
       "---  -----------\n",
       "1    0.583333\n",
       "2    0.791667\n",
       "3    0.833333\n",
       "4    0.875\n",
       "5    1"
      ]
     },
     "metadata": {},
     "output_type": "display_data"
    },
    {
     "data": {
      "text/plain": []
     },
     "execution_count": 71,
     "metadata": {},
     "output_type": "execute_result"
    }
   ],
   "source": [
    "mod_perf"
   ]
  },
  {
   "cell_type": "markdown",
   "metadata": {
    "collapsed": true
   },
   "source": [
    "Similiar as privious model"
   ]
  },
  {
   "cell_type": "code",
   "execution_count": 72,
   "metadata": {},
   "outputs": [
    {
     "data": {
      "image/png": "[encoded data removed]",
      "text/plain": [
       "<matplotlib.figure.Figure at 0x115cd7518>"
      ]
     },
     "metadata": {},
     "output_type": "display_data"
    }
   ],
   "source": [
    "pred_value = [predictions_df[x,0] for x in range(len(predictions_df[0]))]\n",
    "plot_result('DRF Model Prediction', pred_value, actual_value)"
   ]
  },
  {
   "cell_type": "markdown",
   "metadata": {},
   "source": [
    "#### XRT"
   ]
  },
  {
   "cell_type": "code",
   "execution_count": 73,
   "metadata": {},
   "outputs": [
    {
     "data": {
      "text/plain": [
       "'XRT_0_AutoML_20181010_192309'"
      ]
     },
     "execution_count": 73,
     "metadata": {},
     "output_type": "execute_result"
    }
   ],
   "source": [
    "# get the XRT model\n",
    "model_XRT, model_XRT_ID = get_model_by_algo('XRT', bm)\n",
    "model_XRT_ID"
   ]
  },
  {
   "cell_type": "code",
   "execution_count": 74,
   "metadata": {
    "collapsed": true
   },
   "outputs": [],
   "source": [
    "# write scoring_history, statistic data into file\n",
    "if model_XRT is not None:\n",
    "    try:     \n",
    "        sh_df = model_XRT.scoring_history()\n",
    "        sh = os.path.join(report_Path, run_id + '_xrt_scoring_history.csv')\n",
    "        sh_df.to_csv(sh) \n",
    "    except:\n",
    "        pass   \n",
    "    try:\n",
    "        stats_xrt = xrt_stats(model_XRT)\n",
    "        xrt_stats = os.path.join(report_Path, run_id + '_xrt_stats.json')\n",
    "        dict_to_json(stats_xrt,xrt_stats)\n",
    "        print(stats_xrt['varimp'])\n",
    "    except:\n",
    "        pass"
   ]
  },
  {
   "cell_type": "code",
   "execution_count": 75,
   "metadata": {},
   "outputs": [
    {
     "name": "stdout",
     "output_type": "stream",
     "text": [
      "drf prediction progress: |████████████████████████████████████████████████| 100%\n"
     ]
    }
   ],
   "source": [
    "if model_XRT is not None:\n",
    "    predictions_df, mod_perf = predictions_test(model_XRT,test,run_id, False)\n",
    "else:\n",
    "    print('No Such Model')"
   ]
  },
  {
   "cell_type": "code",
   "execution_count": 76,
   "metadata": {},
   "outputs": [
    {
     "data": {
      "text/html": [
       "<table>\n",
       "<thead>\n",
       "<tr><th style=\"text-align: right;\">  predict</th><th style=\"text-align: right;\">      p0</th><th style=\"text-align: right;\">       p1</th><th style=\"text-align: right;\">       p2</th><th style=\"text-align: right;\">      p3</th><th style=\"text-align: right;\">       p4</th></tr>\n",
       "</thead>\n",
       "<tbody>\n",
       "<tr><td style=\"text-align: right;\">        0</td><td style=\"text-align: right;\">0.569853</td><td style=\"text-align: right;\">0.170956 </td><td style=\"text-align: right;\">0.259191 </td><td style=\"text-align: right;\">0       </td><td style=\"text-align: right;\">0        </td></tr>\n",
       "<tr><td style=\"text-align: right;\">        0</td><td style=\"text-align: right;\">0.435115</td><td style=\"text-align: right;\">0.183206 </td><td style=\"text-align: right;\">0.183206 </td><td style=\"text-align: right;\">0.183206</td><td style=\"text-align: right;\">0.0152672</td></tr>\n",
       "<tr><td style=\"text-align: right;\">        0</td><td style=\"text-align: right;\">0.837161</td><td style=\"text-align: right;\">0.0542797</td><td style=\"text-align: right;\">0        </td><td style=\"text-align: right;\">0       </td><td style=\"text-align: right;\">0.108559 </td></tr>\n",
       "<tr><td style=\"text-align: right;\">        2</td><td style=\"text-align: right;\">0       </td><td style=\"text-align: right;\">0.214286 </td><td style=\"text-align: right;\">0.571429 </td><td style=\"text-align: right;\">0.190476</td><td style=\"text-align: right;\">0.0238095</td></tr>\n",
       "<tr><td style=\"text-align: right;\">        0</td><td style=\"text-align: right;\">0.935614</td><td style=\"text-align: right;\">0        </td><td style=\"text-align: right;\">0.0643863</td><td style=\"text-align: right;\">0       </td><td style=\"text-align: right;\">0        </td></tr>\n",
       "</tbody>\n",
       "</table>"
      ]
     },
     "metadata": {},
     "output_type": "display_data"
    },
    {
     "data": {
      "text/plain": []
     },
     "execution_count": 76,
     "metadata": {},
     "output_type": "execute_result"
    }
   ],
   "source": [
    "predictions_df.head(5)"
   ]
  },
  {
   "cell_type": "code",
   "execution_count": 77,
   "metadata": {},
   "outputs": [
    {
     "name": "stdout",
     "output_type": "stream",
     "text": [
      "Rows:24\n",
      "Cols:6\n",
      "\n",
      "\n"
     ]
    },
    {
     "data": {
      "text/html": [
       "<table>\n",
       "<thead>\n",
       "<tr><th>       </th><th>predict  </th><th>p0                  </th><th>p1                 </th><th>p2                   </th><th>p3                 </th><th>p4                  </th></tr>\n",
       "</thead>\n",
       "<tbody>\n",
       "<tr><td>type   </td><td>enum     </td><td>real                </td><td>real               </td><td>real                 </td><td>real               </td><td>real                </td></tr>\n",
       "<tr><td>mins   </td><td>         </td><td>0.0                 </td><td>0.0                </td><td>0.0                  </td><td>0.0                </td><td>0.0                 </td></tr>\n",
       "<tr><td>mean   </td><td>         </td><td>0.6336183926081775  </td><td>0.16129587871175932</td><td>0.1113205705166767   </td><td>0.06740066354155344</td><td>0.026364494621832987</td></tr>\n",
       "<tr><td>maxs   </td><td>         </td><td>0.9982110912875654  </td><td>0.5502336449710935 </td><td>0.5714285702121501   </td><td>0.3764705882352941 </td><td>0.19917012438280943 </td></tr>\n",
       "<tr><td>sigma  </td><td>         </td><td>0.3503339516243574  </td><td>0.14684156026875889</td><td>0.16844487761327598  </td><td>0.09766773188798401</td><td>0.05627595099592409 </td></tr>\n",
       "<tr><td>zeros  </td><td>         </td><td>2                   </td><td>6                  </td><td>3                    </td><td>11                 </td><td>17                  </td></tr>\n",
       "<tr><td>missing</td><td>0        </td><td>0                   </td><td>0                  </td><td>0                    </td><td>0                  </td><td>0                   </td></tr>\n",
       "<tr><td>0      </td><td>0        </td><td>0.5698529419538148  </td><td>0.17095588207665618</td><td>0.25919117596952906  </td><td>0.0                </td><td>0.0                 </td></tr>\n",
       "<tr><td>1      </td><td>0        </td><td>0.435114503618818   </td><td>0.18320610678687071</td><td>0.18320610678687071  </td><td>0.18320610678687071</td><td>0.015267176020569848</td></tr>\n",
       "<tr><td>2      </td><td>0        </td><td>0.837160751606288   </td><td>0.05427974946457067</td><td>0.0                  </td><td>0.0                </td><td>0.10855949892914134 </td></tr>\n",
       "<tr><td>3      </td><td>2        </td><td>0.0                 </td><td>0.2142857138295563 </td><td>0.5714285702121501   </td><td>0.1904761914898749 </td><td>0.02380952446841869 </td></tr>\n",
       "<tr><td>4      </td><td>0        </td><td>0.9356136821486589  </td><td>0.0                </td><td>0.06438631785134112  </td><td>0.0                </td><td>0.0                 </td></tr>\n",
       "<tr><td>5      </td><td>2        </td><td>0.041666666666666664</td><td>0.3333333333333333 </td><td>0.375                </td><td>0.08333333333333333</td><td>0.16666666666666666 </td></tr>\n",
       "<tr><td>6      </td><td>0        </td><td>0.49411764705882355 </td><td>0.3176470588235294 </td><td>0.047058823529411764 </td><td>0.1411764705882353 </td><td>0.0                 </td></tr>\n",
       "<tr><td>7      </td><td>2        </td><td>0.0                 </td><td>0.15352697137305996</td><td>0.4979253109570236   </td><td>0.14937759328710706</td><td>0.19917012438280943 </td></tr>\n",
       "<tr><td>8      </td><td>0        </td><td>0.9353616968117681  </td><td>0.06261835627191753</td><td>0.0020199469163143576</td><td>0.0                </td><td>0.0                 </td></tr>\n",
       "<tr><td>9      </td><td>0        </td><td>0.9982110912875654  </td><td>0.0                </td><td>0.0017889087124346892</td><td>0.0                </td><td>0.0                 </td></tr>\n",
       "</tbody>\n",
       "</table>"
      ]
     },
     "metadata": {},
     "output_type": "display_data"
    }
   ],
   "source": [
    "predictions_df.describe()"
   ]
  },
  {
   "cell_type": "code",
   "execution_count": 78,
   "metadata": {},
   "outputs": [
    {
     "name": "stdout",
     "output_type": "stream",
     "text": [
      "\n",
      "ModelMetricsMultinomial: drf\n",
      "** Reported on test data. **\n",
      "\n",
      "MSE: 0.28588382896297965\n",
      "RMSE: 0.5346810534916865\n",
      "LogLoss: 2.091087273451841\n",
      "Mean Per-Class Error: 0.625\n",
      "Confusion Matrix: Row labels: Actual class; Column labels: Predicted class\n",
      "\n"
     ]
    },
    {
     "data": {
      "text/html": [
       "<div style=\"overflow:auto\"><table style=\"width:50%\"><tr><td><b>0</b></td>\n",
       "<td><b>1</b></td>\n",
       "<td><b>2</b></td>\n",
       "<td><b>3</b></td>\n",
       "<td><b>4</b></td>\n",
       "<td><b>Error</b></td>\n",
       "<td><b>Rate</b></td></tr>\n",
       "<tr><td>14.0</td>\n",
       "<td>1.0</td>\n",
       "<td>0.0</td>\n",
       "<td>1.0</td>\n",
       "<td>0.0</td>\n",
       "<td>0.125</td>\n",
       "<td>2 / 16</td></tr>\n",
       "<tr><td>2.0</td>\n",
       "<td>0.0</td>\n",
       "<td>0.0</td>\n",
       "<td>0.0</td>\n",
       "<td>0.0</td>\n",
       "<td>1.0</td>\n",
       "<td>2 / 2</td></tr>\n",
       "<tr><td>0.0</td>\n",
       "<td>0.0</td>\n",
       "<td>1.0</td>\n",
       "<td>0.0</td>\n",
       "<td>0.0</td>\n",
       "<td>0.0</td>\n",
       "<td>0 / 1</td></tr>\n",
       "<tr><td>1.0</td>\n",
       "<td>1.0</td>\n",
       "<td>2.0</td>\n",
       "<td>0.0</td>\n",
       "<td>0.0</td>\n",
       "<td>1.0</td>\n",
       "<td>4 / 4</td></tr>\n",
       "<tr><td>1.0</td>\n",
       "<td>0.0</td>\n",
       "<td>0.0</td>\n",
       "<td>0.0</td>\n",
       "<td>0.0</td>\n",
       "<td>1.0</td>\n",
       "<td>1 / 1</td></tr>\n",
       "<tr><td>18.0</td>\n",
       "<td>2.0</td>\n",
       "<td>3.0</td>\n",
       "<td>1.0</td>\n",
       "<td>0.0</td>\n",
       "<td>0.375</td>\n",
       "<td>9 / 24</td></tr></table></div>"
      ],
      "text/plain": [
       "0    1    2    3    4    Error    Rate\n",
       "---  ---  ---  ---  ---  -------  ------\n",
       "14   1    0    1    0    0.125    2 / 16\n",
       "2    0    0    0    0    1        2 / 2\n",
       "0    0    1    0    0    0        0 / 1\n",
       "1    1    2    0    0    1        4 / 4\n",
       "1    0    0    0    0    1        1 / 1\n",
       "18   2    3    1    0    0.375    9 / 24"
      ]
     },
     "metadata": {},
     "output_type": "display_data"
    },
    {
     "name": "stdout",
     "output_type": "stream",
     "text": [
      "Top-5 Hit Ratios: \n"
     ]
    },
    {
     "data": {
      "text/html": [
       "<div style=\"overflow:auto\"><table style=\"width:50%\"><tr><td><b>k</b></td>\n",
       "<td><b>hit_ratio</b></td></tr>\n",
       "<tr><td>1</td>\n",
       "<td>0.625</td></tr>\n",
       "<tr><td>2</td>\n",
       "<td>0.7916667</td></tr>\n",
       "<tr><td>3</td>\n",
       "<td>0.8333334</td></tr>\n",
       "<tr><td>4</td>\n",
       "<td>0.9166667</td></tr>\n",
       "<tr><td>5</td>\n",
       "<td>1.0</td></tr></table></div>"
      ],
      "text/plain": [
       "k    hit_ratio\n",
       "---  -----------\n",
       "1    0.625\n",
       "2    0.791667\n",
       "3    0.833333\n",
       "4    0.916667\n",
       "5    1"
      ]
     },
     "metadata": {},
     "output_type": "display_data"
    },
    {
     "data": {
      "text/plain": []
     },
     "execution_count": 78,
     "metadata": {},
     "output_type": "execute_result"
    }
   ],
   "source": [
    "mod_perf"
   ]
  },
  {
   "cell_type": "markdown",
   "metadata": {
    "collapsed": true
   },
   "source": [
    "Relative same performance as other model according to the error rate and accuracy"
   ]
  },
  {
   "cell_type": "code",
   "execution_count": 79,
   "metadata": {},
   "outputs": [
    {
     "data": {
      "image/png": "[encoded data removed]",
      "text/plain": [
       "<matplotlib.figure.Figure at 0x113cd6dd8>"
      ]
     },
     "metadata": {},
     "output_type": "display_data"
    }
   ],
   "source": [
    "pred_value = [predictions_df[x,0] for x in range(len(predictions_df[0]))]\n",
    "plot_result('XRT Model Prediction', pred_value, actual_value)"
   ]
  },
  {
   "cell_type": "markdown",
   "metadata": {},
   "source": [
    "#### GLM"
   ]
  },
  {
   "cell_type": "code",
   "execution_count": 80,
   "metadata": {},
   "outputs": [
    {
     "data": {
      "text/plain": [
       "'GLM_grid_0_AutoML_20181010_192309_model_0'"
      ]
     },
     "execution_count": 80,
     "metadata": {},
     "output_type": "execute_result"
    }
   ],
   "source": [
    "# get the XRT model\n",
    "model_GLM, model_GLM_ID = get_model_by_algo('GLM', bm)\n",
    "model_GLM_ID"
   ]
  },
  {
   "cell_type": "code",
   "execution_count": 81,
   "metadata": {
    "collapsed": true
   },
   "outputs": [],
   "source": [
    "# write scoring_history, statistic data into file\n",
    "if model_GLM is not None:\n",
    "    try:     \n",
    "        sh_df = model_GLM.scoring_history()\n",
    "        sh = os.path.join(report_Path, run_id + '_glm_scoring_history.csv')\n",
    "        sh_df.to_csv(sh) \n",
    "    except:\n",
    "        pass   \n",
    "    try:\n",
    "        stats_glm = glm_stats(model_GLM)\n",
    "        glm_stats = os.path.join(report_Path, run_id + '_glm_stats.json')\n",
    "        dict_to_json(stats_glm,glm_stats)\n",
    "        print(stats_glm['varimp'])\n",
    "    except:\n",
    "        pass"
   ]
  },
  {
   "cell_type": "code",
   "execution_count": 82,
   "metadata": {},
   "outputs": [
    {
     "name": "stdout",
     "output_type": "stream",
     "text": [
      "glm prediction progress: |████████████████████████████████████████████████| 100%\n"
     ]
    }
   ],
   "source": [
    "if model_GLM is not None:\n",
    "    predictions_df, mod_perf = predictions_test(model_GLM,test,run_id, False)\n",
    "else:\n",
    "    print('No Such Model')"
   ]
  },
  {
   "cell_type": "code",
   "execution_count": 83,
   "metadata": {},
   "outputs": [
    {
     "data": {
      "text/html": [
       "<table>\n",
       "<thead>\n",
       "<tr><th style=\"text-align: right;\">  predict</th><th style=\"text-align: right;\">       p0</th><th style=\"text-align: right;\">       p1</th><th style=\"text-align: right;\">       p2</th><th style=\"text-align: right;\">       p3</th><th style=\"text-align: right;\">       p4</th></tr>\n",
       "</thead>\n",
       "<tbody>\n",
       "<tr><td style=\"text-align: right;\">        0</td><td style=\"text-align: right;\">0.605019 </td><td style=\"text-align: right;\">0.221935 </td><td style=\"text-align: right;\">0.0750693</td><td style=\"text-align: right;\">0.0659984</td><td style=\"text-align: right;\">0.0319782</td></tr>\n",
       "<tr><td style=\"text-align: right;\">        0</td><td style=\"text-align: right;\">0.26912  </td><td style=\"text-align: right;\">0.217926 </td><td style=\"text-align: right;\">0.150105 </td><td style=\"text-align: right;\">0.226325 </td><td style=\"text-align: right;\">0.136524 </td></tr>\n",
       "<tr><td style=\"text-align: right;\">        0</td><td style=\"text-align: right;\">0.717441 </td><td style=\"text-align: right;\">0.165679 </td><td style=\"text-align: right;\">0.0589977</td><td style=\"text-align: right;\">0.0370397</td><td style=\"text-align: right;\">0.0208423</td></tr>\n",
       "<tr><td style=\"text-align: right;\">        1</td><td style=\"text-align: right;\">0.0684436</td><td style=\"text-align: right;\">0.365777 </td><td style=\"text-align: right;\">0.345626 </td><td style=\"text-align: right;\">0.156013 </td><td style=\"text-align: right;\">0.0641405</td></tr>\n",
       "<tr><td style=\"text-align: right;\">        0</td><td style=\"text-align: right;\">0.860331 </td><td style=\"text-align: right;\">0.0555131</td><td style=\"text-align: right;\">0.0328952</td><td style=\"text-align: right;\">0.0393465</td><td style=\"text-align: right;\">0.0119138</td></tr>\n",
       "</tbody>\n",
       "</table>"
      ]
     },
     "metadata": {},
     "output_type": "display_data"
    },
    {
     "data": {
      "text/plain": []
     },
     "execution_count": 83,
     "metadata": {},
     "output_type": "execute_result"
    }
   ],
   "source": [
    "predictions_df.head(5)"
   ]
  },
  {
   "cell_type": "code",
   "execution_count": 84,
   "metadata": {},
   "outputs": [
    {
     "name": "stdout",
     "output_type": "stream",
     "text": [
      "Rows:24\n",
      "Cols:6\n",
      "\n",
      "\n"
     ]
    },
    {
     "data": {
      "text/html": [
       "<table>\n",
       "<thead>\n",
       "<tr><th>       </th><th>predict  </th><th>p0                 </th><th>p1                  </th><th>p2                  </th><th>p3                  </th><th>p4                   </th></tr>\n",
       "</thead>\n",
       "<tbody>\n",
       "<tr><td>type   </td><td>enum     </td><td>real               </td><td>real                </td><td>real                </td><td>real                </td><td>real                 </td></tr>\n",
       "<tr><td>mins   </td><td>         </td><td>0.02272311729475261</td><td>0.04104358467046511 </td><td>0.010261132602029656</td><td>0.006452002636534683</td><td>0.0024427061755594045</td></tr>\n",
       "<tr><td>mean   </td><td>         </td><td>0.6042461641861127 </td><td>0.1741890425601516  </td><td>0.10464029662918886 </td><td>0.08174104850652436 </td><td>0.03518344811802251  </td></tr>\n",
       "<tr><td>maxs   </td><td>         </td><td>0.9354908488385294 </td><td>0.5646337715156838  </td><td>0.4118409668394064  </td><td>0.31169753253119253 </td><td>0.17256947152829025  </td></tr>\n",
       "<tr><td>sigma  </td><td>         </td><td>0.33551877763606053</td><td>0.12532316548448735 </td><td>0.12424314736535642 </td><td>0.10175545378962664 </td><td>0.045609426620151806 </td></tr>\n",
       "<tr><td>zeros  </td><td>         </td><td>0                  </td><td>0                   </td><td>0                   </td><td>0                   </td><td>0                    </td></tr>\n",
       "<tr><td>missing</td><td>0        </td><td>0                  </td><td>0                   </td><td>0                   </td><td>0                   </td><td>0                    </td></tr>\n",
       "<tr><td>0      </td><td>0        </td><td>0.6050186449310526 </td><td>0.22193533518939743 </td><td>0.07506933952148971 </td><td>0.06599844759085698 </td><td>0.03197823276720309  </td></tr>\n",
       "<tr><td>1      </td><td>0        </td><td>0.26911998518364494</td><td>0.21792579194354458 </td><td>0.15010487729395688 </td><td>0.22632523953830622 </td><td>0.13652410604054727  </td></tr>\n",
       "<tr><td>2      </td><td>0        </td><td>0.7174411119955708 </td><td>0.16567921716523332 </td><td>0.05899768799859267 </td><td>0.037039691608744006</td><td>0.020842291231859312 </td></tr>\n",
       "<tr><td>3      </td><td>1        </td><td>0.068443615191843  </td><td>0.36577712821988023 </td><td>0.3456262331154819  </td><td>0.1560125730054311  </td><td>0.06414045046736387  </td></tr>\n",
       "<tr><td>4      </td><td>0        </td><td>0.8603314350228244 </td><td>0.05551308033881062 </td><td>0.032895231613877134</td><td>0.039346466280769016</td><td>0.01191378674371881  </td></tr>\n",
       "<tr><td>5      </td><td>1        </td><td>0.07480422288658209</td><td>0.2766159123989066  </td><td>0.21509193144611885 </td><td>0.2609184617401022  </td><td>0.17256947152829025  </td></tr>\n",
       "<tr><td>6      </td><td>0        </td><td>0.7077217289209726 </td><td>0.19766514635861276 </td><td>0.05079439871129593 </td><td>0.028593225984076726</td><td>0.015225500025042065 </td></tr>\n",
       "<tr><td>7      </td><td>2        </td><td>0.02272311729475261</td><td>0.15899324793082842 </td><td>0.4118409668394064  </td><td>0.31169753253119253 </td><td>0.09474513540382003  </td></tr>\n",
       "<tr><td>8      </td><td>0        </td><td>0.8828999464752794 </td><td>0.07812183354007132 </td><td>0.014126019377809693</td><td>0.017278332724142916</td><td>0.007573867882696745 </td></tr>\n",
       "<tr><td>9      </td><td>0        </td><td>0.91710078088439   </td><td>0.053361279141760316</td><td>0.015332631590397525</td><td>0.010632436537617562</td><td>0.0035728718458345305</td></tr>\n",
       "</tbody>\n",
       "</table>"
      ]
     },
     "metadata": {},
     "output_type": "display_data"
    }
   ],
   "source": [
    "predictions_df.describe()"
   ]
  },
  {
   "cell_type": "code",
   "execution_count": 85,
   "metadata": {},
   "outputs": [
    {
     "name": "stdout",
     "output_type": "stream",
     "text": [
      "\n",
      "ModelMetricsMultinomialGLM: glm\n",
      "** Reported on test data. **\n",
      "\n",
      "MSE: 0.2789507023421634\n",
      "RMSE: 0.5281578384746016\n"
     ]
    },
    {
     "data": {
      "text/plain": []
     },
     "execution_count": 85,
     "metadata": {},
     "output_type": "execute_result"
    }
   ],
   "source": [
    "mod_perf"
   ]
  },
  {
   "cell_type": "markdown",
   "metadata": {},
   "source": [
    "Very good MSE/RMSE because there isn't much class"
   ]
  },
  {
   "cell_type": "code",
   "execution_count": 86,
   "metadata": {},
   "outputs": [
    {
     "data": {
      "image/png": "[encoded data removed]",
      "text/plain": [
       "<matplotlib.figure.Figure at 0x115d66518>"
      ]
     },
     "metadata": {},
     "output_type": "display_data"
    }
   ],
   "source": [
    "pred_value = [predictions_df[x,0] for x in range(len(predictions_df[0]))]\n",
    "plot_result('GLM Model Prediction', pred_value, actual_value)"
   ]
  },
  {
   "cell_type": "markdown",
   "metadata": {},
   "source": [
    "### 8. Clean up"
   ]
  },
  {
   "cell_type": "markdown",
   "metadata": {},
   "source": [
    "#### Update and save meta data"
   ]
  },
  {
   "cell_type": "code",
   "execution_count": 87,
   "metadata": {
    "collapsed": true
   },
   "outputs": [],
   "source": [
    "meta_data['end_time'] = time.time()\n",
    "meta_data['execution_time'] = meta_data['end_time'] - meta_data['start_time']\n",
    "  \n",
    "meta_data_path = os.path.join(run_dir, run_id + '_meta_data.json')\n",
    "dict_to_json(meta_data, meta_data_path)"
   ]
  },
  {
   "cell_type": "markdown",
   "metadata": {},
   "source": [
    "#### shutdown"
   ]
  },
  {
   "cell_type": "code",
   "execution_count": 88,
   "metadata": {},
   "outputs": [
    {
     "name": "stdout",
     "output_type": "stream",
     "text": [
      "H2O session _sid_958d closed.\n"
     ]
    }
   ],
   "source": [
    "os.chdir(rootDir)\n",
    "h2o.cluster().shutdown()"
   ]
  },
  {
   "cell_type": "code",
   "execution_count": null,
   "metadata": {
    "collapsed": true
   },
   "outputs": [],
   "source": []
  }
 ],
 "metadata": {
  "kernelspec": {
   "display_name": "Python 3",
   "language": "python",
   "name": "python3"
  },
  "language_info": {
   "codemirror_mode": {
    "name": "ipython",
    "version": 3
   },
   "file_extension": ".py",
   "mimetype": "text/x-python",
   "name": "python",
   "nbconvert_exporter": "python",
   "pygments_lexer": "ipython3",
   "version": "3.6.3"
  }
 },
 "nbformat": 4,
 "nbformat_minor": 2
}
